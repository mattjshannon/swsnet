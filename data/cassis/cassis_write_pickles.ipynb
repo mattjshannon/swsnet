{
 "cells": [
  {
   "cell_type": "markdown",
   "metadata": {
    "nbpresent": {
     "id": "6ef3d400-d90d-4505-8c0f-17e7df9020b4"
    }
   },
   "source": [
    "# CASSIS data preprocessing: convert to pickled dataframes"
   ]
  },
  {
   "cell_type": "code",
   "execution_count": 143,
   "metadata": {
    "nbpresent": {
     "id": "d597cd7a-4682-4b5f-97ca-d75c061b5897"
    }
   },
   "outputs": [],
   "source": [
    "import glob\n",
    "import matplotlib.pyplot as plt\n",
    "import numpy as np\n",
    "import os\n",
    "import pandas as pd\n",
    "\n",
    "from astropy.io import fits\n",
    "from astropy.table import Table\n",
    "from IPython.core.debugger import set_trace as st"
   ]
  },
  {
   "cell_type": "code",
   "execution_count": 144,
   "metadata": {
    "nbpresent": {
     "id": "c3412b10-10df-42b6-832a-fa84fc6bf639"
    }
   },
   "outputs": [],
   "source": [
    "# Some useful functions....\n",
    "idx_unravel = np.loadtxt('cassis_unravel_indices.txt', delimiter=',', dtype='int')\n",
    "\n",
    "def convert_fits_to_pickle(path, verify_pickle=False, verbose=False):\n",
    "    \"\"\"Full conversion from CASSIS <filename.fits to <filename>.pkl, which contains a pd.DataFrame.\n",
    "    \n",
    "    Args:\n",
    "        path (str): Path to <filename>.fits file (of a CASSIS observation).\n",
    "        verify_pickle (bool): Confirm the pickle was succesful created; does so by comparing the\n",
    "            pd.DataFrame before and after writing the pickle.\n",
    "        verbose (bool): Whether to flood STDOUT with a bit of info or not.\n",
    "        \n",
    "    Returns:\n",
    "        pickle_path (str): Path to saved .pkl file.\n",
    "        df (pd.DataFrame): Pandas dataframe with appropriate labels (wavelength, flux, etc.).\n",
    "        header (astropy.io.fits.header.Header): Information about observation from telescope.\n",
    "        \n",
    "    Note:\n",
    "        DataFrame can be retrieved from the pickle by, e.g., df = pd.read_pickle(pickle_path).\n",
    "    \"\"\"\n",
    "    \n",
    "    if verbose:\n",
    "        print('Pickling: ', path)\n",
    "    \n",
    "    # Convert .fits file to pandas DataFrame, header.Header object.\n",
    "    df, header = cassis_fits_to_dataframe(path)\n",
    "\n",
    "    # Determine the pickle_path to save to. Being explicit here to 'pickle_path' is clear.\n",
    "    base_filename = path.replace('.fits', '.pkl').split('/')[-1]\n",
    "    \n",
    "    # Save the dataframe to a pickle.\n",
    "    pickle_path = 'cassis_dataframes/' + base_filename\n",
    "    df.to_pickle(pickle_path)\n",
    "    \n",
    "    if verbose:\n",
    "        print('...saved: ', pickle_path)\n",
    "\n",
    "    # Test dataframes for equality before/after pickling if verify_pickle == True.\n",
    "    if verify_pickle:\n",
    "        tmp_df = pd.read_pickle(pickle_path)\n",
    "        if df.equals(tmp_df):\n",
    "            if verbose:\n",
    "                print()\n",
    "                print('DataFrame integrity verified -- pickling went OK!')\n",
    "                print()\n",
    "        else:\n",
    "            raise ValueError('Dataframes not equal before/after pickling!')\n",
    "    \n",
    "    return pickle_path, df, header\n",
    "\n",
    "\n",
    "def cassis_fits_to_dataframe(path):\n",
    "    \"\"\"Take a CASSIS .fits file, return a pandas DataFrame containing the data (with labels) and astropy header.\n",
    "    \n",
    "    Args:\n",
    "        path (str): Path of the .fits file (assumed to be a CASSIS observation file).\n",
    "        \n",
    "    Returns:\n",
    "        df (pd.DataFrame): Pandas dataframe with appropriate labels (wavelength, flux, etc.).\n",
    "        header (astropy.io.fits.header.Header): Information about observation from telescope.\n",
    "        \n",
    "    Note:\n",
    "        Header can be manipulated with, e.g., header.totextfile(some_path).\n",
    "        See http://docs.astropy.org/en/stable/io/fits/api/headers.html.\n",
    "    \"\"\"\n",
    "    \n",
    "    # Read in .fits file.\n",
    "    hdu = fits.open(path)\n",
    "    \n",
    "    # Retrieve the header object.\n",
    "    header = hdu[0].header\n",
    "    \n",
    "    # Extract column labels/descriptions from header.\n",
    "    hdu_keys = [header['col'+str(x).zfill(2)+'def'] for x in range(1,16)]\n",
    "    hdu_keys.append('unknown')  # Missing label? 16 columns, 15 labels...! Probably just 'flag4'.\n",
    "    \n",
    "    # Convert data to pandas DataFrame.\n",
    "    dtable = Table(test_hdu[0].data)\n",
    "    dtable = dtable[idx_unravel]  # Needed to reorder the wavelength grid such that it's monotonic.\n",
    "    df = dtable.to_pandas()\n",
    "    \n",
    "    # Convert the nondescriptive column labels (e.g., 'col01def', 'col02def') to descriptive labels.\n",
    "    old_keys = list(df.keys())\n",
    "    new_keys = hdu_keys\n",
    "    mydict = dict(zip(old_keys, new_keys))\n",
    "    df = df.rename(columns=mydict)  # Renamed DataFrame columns here.\n",
    "    \n",
    "    return df, header"
   ]
  },
  {
   "cell_type": "markdown",
   "metadata": {},
   "source": [
    "***"
   ]
  },
  {
   "cell_type": "markdown",
   "metadata": {
    "nbpresent": {
     "id": "3e7cc6d8-890a-4fc4-8ed8-04edc0b1ddb6"
    }
   },
   "source": [
    "## Find out how many files we're working with"
   ]
  },
  {
   "cell_type": "code",
   "execution_count": 165,
   "metadata": {
    "nbpresent": {
     "id": "9ee3e75f-2ecc-4a44-a6d0-65be5871ffc5"
    }
   },
   "outputs": [],
   "source": [
    "spec_dir = 'spectra/'\n",
    "spec_files = np.sort(glob.glob(spec_dir + '*.fits'))"
   ]
  },
  {
   "cell_type": "code",
   "execution_count": 166,
   "metadata": {
    "nbpresent": {
     "id": "dc5474c0-ab84-4749-9538-2fa8ab2973bf"
    }
   },
   "outputs": [
    {
     "data": {
      "text/plain": [
       "11081"
      ]
     },
     "execution_count": 166,
     "metadata": {},
     "output_type": "execute_result"
    }
   ],
   "source": [
    "len(spec_files)"
   ]
  },
  {
   "cell_type": "code",
   "execution_count": 167,
   "metadata": {
    "nbpresent": {
     "id": "7e22e1a3-b222-413d-a4ff-406e0cf0dde6"
    }
   },
   "outputs": [],
   "source": [
    "meta_dir = 'metadata/'\n",
    "meta_files = np.sort(glob.glob(meta_dir + '*.tbl'))"
   ]
  },
  {
   "cell_type": "code",
   "execution_count": 168,
   "metadata": {
    "nbpresent": {
     "id": "f3255378-86b4-42d7-82d5-553f1f494d14"
    }
   },
   "outputs": [
    {
     "data": {
      "text/plain": [
       "17322"
      ]
     },
     "execution_count": 168,
     "metadata": {},
     "output_type": "execute_result"
    }
   ],
   "source": [
    "len(meta_files)"
   ]
  },
  {
   "cell_type": "markdown",
   "metadata": {},
   "source": [
    "More metadata files than spectrum files because some observations failed."
   ]
  },
  {
   "cell_type": "markdown",
   "metadata": {},
   "source": [
    "## Convert spectra to dataframes, save as pickles and save metadata"
   ]
  },
  {
   "cell_type": "markdown",
   "metadata": {},
   "source": [
    "###### Creates meta_dataframe.pkl and cassis_dataframes/_______.pkl * a billion."
   ]
  },
  {
   "cell_type": "code",
   "execution_count": 169,
   "metadata": {},
   "outputs": [],
   "source": [
    "meta_head = ['aorkey', 'object_name', 'ra', 'dec', 'flux_units', 'file_path']\n",
    "\n",
    "def record_metadata(metadata, pickle_path, df, header):\n",
    "    file_path = pickle_path\n",
    "    \n",
    "    # Can query header\n",
    "    ra = header['RA_SLT']  # Right ascension.\n",
    "    dec = header['DEC_SLT']  # Declination.\n",
    "    flux_units = header['BUNIT']  # Units of flux (typically Jy)\n",
    "    aorkey = header['AORKEY']  # Unique observation identifier (specific to Spitzer Space Telescope).\n",
    "    object_name = header['OBJECT']  # Object name.    \n",
    "    \n",
    "    record = (aorkey, object_name, ra, dec, flux_units, file_path)\n",
    "    metadata.append(record)\n",
    "    \n",
    "    return metadata\n",
    "\n",
    "def write_metadata_pickle(metadata):\n",
    "    dfx = pd.DataFrame(metadata, columns=meta_head)\n",
    "    dfx.to_pickle('meta_dataframe.pkl')\n",
    "    return"
   ]
  },
  {
   "cell_type": "code",
   "execution_count": 170,
   "metadata": {},
   "outputs": [],
   "source": [
    "perform_conversion = False"
   ]
  },
  {
   "cell_type": "code",
   "execution_count": 171,
   "metadata": {},
   "outputs": [],
   "source": [
    "# Note the break I've added; remove for full conversion.\n",
    "if perform_conversion:\n",
    "    metadata = []\n",
    "    \n",
    "    print('=============================\\nConverting fits files...\\n=============================\\n')\n",
    "\n",
    "    # Iterate over all the fits files and convert them.\n",
    "    for index, fits_file in enumerate(spec_files):\n",
    "#         if index >= 2:\n",
    "#             break\n",
    "\n",
    "        if index % 500 == 0:\n",
    "            print(index, '/', len(spec_files))\n",
    "\n",
    "        pickle_path, df, header = convert_fits_to_pickle(fits_file, verify_pickle=True, verbose=False)\n",
    "        metadata = record_metadata(metadata, pickle_path, df, header)\n",
    "\n",
    "    print('\\n=============================\\nComplete.\\n=============================')\n",
    "    \n",
    "    dfx = write_metadata_pickle(metadata)"
   ]
  },
  {
   "cell_type": "code",
   "execution_count": 172,
   "metadata": {},
   "outputs": [
    {
     "data": {
      "text/html": [
       "<div>\n",
       "<style scoped>\n",
       "    .dataframe tbody tr th:only-of-type {\n",
       "        vertical-align: middle;\n",
       "    }\n",
       "\n",
       "    .dataframe tbody tr th {\n",
       "        vertical-align: top;\n",
       "    }\n",
       "\n",
       "    .dataframe thead th {\n",
       "        text-align: right;\n",
       "    }\n",
       "</style>\n",
       "<table border=\"1\" class=\"dataframe\">\n",
       "  <thead>\n",
       "    <tr style=\"text-align: right;\">\n",
       "      <th></th>\n",
       "      <th>aorkey</th>\n",
       "      <th>object_name</th>\n",
       "      <th>ra</th>\n",
       "      <th>dec</th>\n",
       "      <th>flux_units</th>\n",
       "      <th>file_path</th>\n",
       "    </tr>\n",
       "  </thead>\n",
       "  <tbody>\n",
       "    <tr>\n",
       "      <th>0</th>\n",
       "      <td>10019072</td>\n",
       "      <td>HD 99754</td>\n",
       "      <td>172.09622</td>\n",
       "      <td>-23.829099</td>\n",
       "      <td>Jy</td>\n",
       "      <td>cassis_dataframes/10019072.pkl</td>\n",
       "    </tr>\n",
       "    <tr>\n",
       "      <th>1</th>\n",
       "      <td>10019328</td>\n",
       "      <td>HR 5467</td>\n",
       "      <td>219.56055</td>\n",
       "      <td>54.021404</td>\n",
       "      <td>Jy</td>\n",
       "      <td>cassis_dataframes/10019328.pkl</td>\n",
       "    </tr>\n",
       "    <tr>\n",
       "      <th>2</th>\n",
       "      <td>10019584</td>\n",
       "      <td>HD 173511</td>\n",
       "      <td>280.41377</td>\n",
       "      <td>61.546739</td>\n",
       "      <td>Jy</td>\n",
       "      <td>cassis_dataframes/10019584.pkl</td>\n",
       "    </tr>\n",
       "    <tr>\n",
       "      <th>3</th>\n",
       "      <td>10019840</td>\n",
       "      <td>alp Lac</td>\n",
       "      <td>337.82051</td>\n",
       "      <td>50.284642</td>\n",
       "      <td>Jy</td>\n",
       "      <td>cassis_dataframes/10019840.pkl</td>\n",
       "    </tr>\n",
       "    <tr>\n",
       "      <th>4</th>\n",
       "      <td>10020096</td>\n",
       "      <td>HR 6348</td>\n",
       "      <td>255.31540</td>\n",
       "      <td>60.647838</td>\n",
       "      <td>Jy</td>\n",
       "      <td>cassis_dataframes/10020096.pkl</td>\n",
       "    </tr>\n",
       "  </tbody>\n",
       "</table>\n",
       "</div>"
      ],
      "text/plain": [
       "     aorkey object_name         ra        dec flux_units  \\\n",
       "0  10019072    HD 99754  172.09622 -23.829099         Jy   \n",
       "1  10019328     HR 5467  219.56055  54.021404         Jy   \n",
       "2  10019584   HD 173511  280.41377  61.546739         Jy   \n",
       "3  10019840     alp Lac  337.82051  50.284642         Jy   \n",
       "4  10020096     HR 6348  255.31540  60.647838         Jy   \n",
       "\n",
       "                        file_path  \n",
       "0  cassis_dataframes/10019072.pkl  \n",
       "1  cassis_dataframes/10019328.pkl  \n",
       "2  cassis_dataframes/10019584.pkl  \n",
       "3  cassis_dataframes/10019840.pkl  \n",
       "4  cassis_dataframes/10020096.pkl  "
      ]
     },
     "execution_count": 172,
     "metadata": {},
     "output_type": "execute_result"
    }
   ],
   "source": [
    "dfx.head()"
   ]
  },
  {
   "cell_type": "markdown",
   "metadata": {},
   "source": [
    "***"
   ]
  },
  {
   "cell_type": "markdown",
   "metadata": {},
   "source": [
    "***"
   ]
  },
  {
   "cell_type": "markdown",
   "metadata": {},
   "source": [
    "***"
   ]
  },
  {
   "cell_type": "markdown",
   "metadata": {
    "nbpresent": {
     "id": "39720c70-3d19-438a-a643-38c2df9ebc92"
    }
   },
   "source": [
    "# Appendix A -- Example transformation from .fits to pd.dataframe"
   ]
  },
  {
   "cell_type": "markdown",
   "metadata": {},
   "source": [
    "#### Convert spectrum file to dataframe, header"
   ]
  },
  {
   "cell_type": "code",
   "execution_count": 89,
   "metadata": {
    "nbpresent": {
     "id": "851b233e-4ccd-4d7b-8f6d-0ffb6b5dedeb"
    }
   },
   "outputs": [
    {
     "data": {
      "text/plain": [
       "'spectra/10019072.fits'"
      ]
     },
     "execution_count": 89,
     "metadata": {},
     "output_type": "execute_result"
    }
   ],
   "source": [
    "# Grab the first file from the glob list.\n",
    "test_spec = spec_files[0]\n",
    "test_spec"
   ]
  },
  {
   "cell_type": "code",
   "execution_count": 90,
   "metadata": {},
   "outputs": [
    {
     "name": "stdout",
     "output_type": "stream",
     "text": [
      "Filename: spectra/10019072.fits\n",
      "No.    Name      Ver    Type      Cards   Dimensions   Format\n",
      "  0  PRIMARY       1 PrimaryHDU      72   (16, 387)   float32   \n"
     ]
    }
   ],
   "source": [
    "# Read it in with astropy.io.fits, check dimensions.\n",
    "test_hdu = fits.open(test_spec)\n",
    "test_hdu.info()"
   ]
  },
  {
   "cell_type": "code",
   "execution_count": 91,
   "metadata": {},
   "outputs": [],
   "source": [
    "# Utilize our defined function to transform a string of the .fits filename to a pandas dataframe and header.\n",
    "# 'header' will be an astropy.io.fits.header.Header object; see a couple subsections below for conversion options.\n",
    "df, header = cassis_fits_to_dataframe(test_spec)"
   ]
  },
  {
   "cell_type": "code",
   "execution_count": 104,
   "metadata": {},
   "outputs": [],
   "source": [
    "# monotonically_increasing(df['wavelength'])"
   ]
  },
  {
   "cell_type": "code",
   "execution_count": 105,
   "metadata": {},
   "outputs": [],
   "source": [
    "# cassis_wave = np.array(df['wavelength'])\n",
    "# np.savetxt('cassis_wavelength_grid.txt', cassis_wave, delimiter=',')"
   ]
  },
  {
   "cell_type": "markdown",
   "metadata": {},
   "source": [
    "#### Inspect dataframe"
   ]
  },
  {
   "cell_type": "code",
   "execution_count": 312,
   "metadata": {},
   "outputs": [
    {
     "data": {
      "text/plain": [
       "(387, 16)"
      ]
     },
     "execution_count": 312,
     "metadata": {},
     "output_type": "execute_result"
    }
   ],
   "source": [
    "df.shape"
   ]
  },
  {
   "cell_type": "code",
   "execution_count": 313,
   "metadata": {},
   "outputs": [
    {
     "data": {
      "text/html": [
       "<div>\n",
       "<style scoped>\n",
       "    .dataframe tbody tr th:only-of-type {\n",
       "        vertical-align: middle;\n",
       "    }\n",
       "\n",
       "    .dataframe tbody tr th {\n",
       "        vertical-align: top;\n",
       "    }\n",
       "\n",
       "    .dataframe thead th {\n",
       "        text-align: right;\n",
       "    }\n",
       "</style>\n",
       "<table border=\"1\" class=\"dataframe\">\n",
       "  <thead>\n",
       "    <tr style=\"text-align: right;\">\n",
       "      <th></th>\n",
       "      <th>wavelength</th>\n",
       "      <th>flux</th>\n",
       "      <th>error (RMS+SYS)</th>\n",
       "      <th>error (RMS)</th>\n",
       "      <th>error (SYS)</th>\n",
       "      <th>offset uncertainty (CAL)</th>\n",
       "      <th>sky</th>\n",
       "      <th>sky error</th>\n",
       "      <th>module</th>\n",
       "      <th>order</th>\n",
       "      <th>nod</th>\n",
       "      <th>status</th>\n",
       "      <th>flag1</th>\n",
       "      <th>flag2</th>\n",
       "      <th>flag3</th>\n",
       "      <th>unknown</th>\n",
       "    </tr>\n",
       "  </thead>\n",
       "  <tbody>\n",
       "    <tr>\n",
       "      <th>0</th>\n",
       "      <td>7.57612</td>\n",
       "      <td>1.842944</td>\n",
       "      <td>0.027002</td>\n",
       "      <td>0.022974</td>\n",
       "      <td>0.004027</td>\n",
       "      <td>0.016090</td>\n",
       "      <td>0.0</td>\n",
       "      <td>0.711246</td>\n",
       "      <td>0.0</td>\n",
       "      <td>1.0</td>\n",
       "      <td>1.0</td>\n",
       "      <td>0.0</td>\n",
       "      <td>0.0</td>\n",
       "      <td>0.0</td>\n",
       "      <td>0.0</td>\n",
       "      <td>0.0</td>\n",
       "    </tr>\n",
       "    <tr>\n",
       "      <th>1</th>\n",
       "      <td>7.63660</td>\n",
       "      <td>1.771911</td>\n",
       "      <td>0.026625</td>\n",
       "      <td>0.022145</td>\n",
       "      <td>0.004480</td>\n",
       "      <td>0.018425</td>\n",
       "      <td>0.0</td>\n",
       "      <td>0.711246</td>\n",
       "      <td>0.0</td>\n",
       "      <td>1.0</td>\n",
       "      <td>1.0</td>\n",
       "      <td>0.0</td>\n",
       "      <td>0.0</td>\n",
       "      <td>0.0</td>\n",
       "      <td>0.0</td>\n",
       "      <td>0.0</td>\n",
       "    </tr>\n",
       "    <tr>\n",
       "      <th>2</th>\n",
       "      <td>7.69709</td>\n",
       "      <td>1.713980</td>\n",
       "      <td>0.022441</td>\n",
       "      <td>0.020821</td>\n",
       "      <td>0.001620</td>\n",
       "      <td>0.020722</td>\n",
       "      <td>0.0</td>\n",
       "      <td>0.711246</td>\n",
       "      <td>0.0</td>\n",
       "      <td>1.0</td>\n",
       "      <td>1.0</td>\n",
       "      <td>0.0</td>\n",
       "      <td>0.0</td>\n",
       "      <td>0.0</td>\n",
       "      <td>0.0</td>\n",
       "      <td>0.0</td>\n",
       "    </tr>\n",
       "    <tr>\n",
       "      <th>3</th>\n",
       "      <td>7.75757</td>\n",
       "      <td>1.661355</td>\n",
       "      <td>0.022177</td>\n",
       "      <td>0.019700</td>\n",
       "      <td>0.002477</td>\n",
       "      <td>0.018943</td>\n",
       "      <td>0.0</td>\n",
       "      <td>0.711246</td>\n",
       "      <td>0.0</td>\n",
       "      <td>1.0</td>\n",
       "      <td>1.0</td>\n",
       "      <td>0.0</td>\n",
       "      <td>0.0</td>\n",
       "      <td>0.0</td>\n",
       "      <td>0.0</td>\n",
       "      <td>0.0</td>\n",
       "    </tr>\n",
       "    <tr>\n",
       "      <th>4</th>\n",
       "      <td>7.81805</td>\n",
       "      <td>1.611652</td>\n",
       "      <td>0.025649</td>\n",
       "      <td>0.019104</td>\n",
       "      <td>0.006545</td>\n",
       "      <td>0.015696</td>\n",
       "      <td>0.0</td>\n",
       "      <td>0.711246</td>\n",
       "      <td>0.0</td>\n",
       "      <td>1.0</td>\n",
       "      <td>1.0</td>\n",
       "      <td>0.0</td>\n",
       "      <td>0.0</td>\n",
       "      <td>0.0</td>\n",
       "      <td>0.0</td>\n",
       "      <td>0.0</td>\n",
       "    </tr>\n",
       "  </tbody>\n",
       "</table>\n",
       "</div>"
      ],
      "text/plain": [
       "   wavelength      flux  error (RMS+SYS)  error (RMS)  error (SYS)  \\\n",
       "0     7.57612  1.842944         0.027002     0.022974     0.004027   \n",
       "1     7.63660  1.771911         0.026625     0.022145     0.004480   \n",
       "2     7.69709  1.713980         0.022441     0.020821     0.001620   \n",
       "3     7.75757  1.661355         0.022177     0.019700     0.002477   \n",
       "4     7.81805  1.611652         0.025649     0.019104     0.006545   \n",
       "\n",
       "   offset uncertainty (CAL)  sky  sky error  module  order  nod  status  \\\n",
       "0                  0.016090  0.0   0.711246     0.0    1.0  1.0     0.0   \n",
       "1                  0.018425  0.0   0.711246     0.0    1.0  1.0     0.0   \n",
       "2                  0.020722  0.0   0.711246     0.0    1.0  1.0     0.0   \n",
       "3                  0.018943  0.0   0.711246     0.0    1.0  1.0     0.0   \n",
       "4                  0.015696  0.0   0.711246     0.0    1.0  1.0     0.0   \n",
       "\n",
       "   flag1  flag2  flag3  unknown  \n",
       "0    0.0    0.0    0.0      0.0  \n",
       "1    0.0    0.0    0.0      0.0  \n",
       "2    0.0    0.0    0.0      0.0  \n",
       "3    0.0    0.0    0.0      0.0  \n",
       "4    0.0    0.0    0.0      0.0  "
      ]
     },
     "execution_count": 313,
     "metadata": {},
     "output_type": "execute_result"
    }
   ],
   "source": [
    "df.head()"
   ]
  },
  {
   "cell_type": "code",
   "execution_count": 314,
   "metadata": {},
   "outputs": [
    {
     "data": {
      "text/html": [
       "<div>\n",
       "<style scoped>\n",
       "    .dataframe tbody tr th:only-of-type {\n",
       "        vertical-align: middle;\n",
       "    }\n",
       "\n",
       "    .dataframe tbody tr th {\n",
       "        vertical-align: top;\n",
       "    }\n",
       "\n",
       "    .dataframe thead th {\n",
       "        text-align: right;\n",
       "    }\n",
       "</style>\n",
       "<table border=\"1\" class=\"dataframe\">\n",
       "  <thead>\n",
       "    <tr style=\"text-align: right;\">\n",
       "      <th></th>\n",
       "      <th>wavelength</th>\n",
       "      <th>flux</th>\n",
       "      <th>error (RMS+SYS)</th>\n",
       "      <th>error (RMS)</th>\n",
       "      <th>error (SYS)</th>\n",
       "      <th>offset uncertainty (CAL)</th>\n",
       "      <th>sky</th>\n",
       "      <th>sky error</th>\n",
       "      <th>module</th>\n",
       "      <th>order</th>\n",
       "      <th>nod</th>\n",
       "      <th>status</th>\n",
       "      <th>flag1</th>\n",
       "      <th>flag2</th>\n",
       "      <th>flag3</th>\n",
       "      <th>unknown</th>\n",
       "    </tr>\n",
       "  </thead>\n",
       "  <tbody>\n",
       "    <tr>\n",
       "      <th>count</th>\n",
       "      <td>387.000000</td>\n",
       "      <td>387.000000</td>\n",
       "      <td>387.000000</td>\n",
       "      <td>387.000000</td>\n",
       "      <td>387.000000</td>\n",
       "      <td>387.000000</td>\n",
       "      <td>387.0</td>\n",
       "      <td>387.000000</td>\n",
       "      <td>387.000000</td>\n",
       "      <td>387.000000</td>\n",
       "      <td>387.0</td>\n",
       "      <td>387.0</td>\n",
       "      <td>387.000000</td>\n",
       "      <td>387.0</td>\n",
       "      <td>387.0</td>\n",
       "      <td>387.0</td>\n",
       "    </tr>\n",
       "    <tr>\n",
       "      <th>mean</th>\n",
       "      <td>16.045664</td>\n",
       "      <td>0.979526</td>\n",
       "      <td>0.019800</td>\n",
       "      <td>0.014002</td>\n",
       "      <td>0.005798</td>\n",
       "      <td>0.007546</td>\n",
       "      <td>0.0</td>\n",
       "      <td>0.582891</td>\n",
       "      <td>1.431525</td>\n",
       "      <td>1.537468</td>\n",
       "      <td>1.0</td>\n",
       "      <td>0.0</td>\n",
       "      <td>0.310078</td>\n",
       "      <td>0.0</td>\n",
       "      <td>0.0</td>\n",
       "      <td>0.0</td>\n",
       "    </tr>\n",
       "    <tr>\n",
       "      <th>std</th>\n",
       "      <td>9.002149</td>\n",
       "      <td>0.912483</td>\n",
       "      <td>0.024442</td>\n",
       "      <td>0.012668</td>\n",
       "      <td>0.013877</td>\n",
       "      <td>0.004969</td>\n",
       "      <td>0.0</td>\n",
       "      <td>0.271884</td>\n",
       "      <td>1.118538</td>\n",
       "      <td>0.627947</td>\n",
       "      <td>0.0</td>\n",
       "      <td>0.0</td>\n",
       "      <td>0.691905</td>\n",
       "      <td>0.0</td>\n",
       "      <td>0.0</td>\n",
       "      <td>0.0</td>\n",
       "    </tr>\n",
       "    <tr>\n",
       "      <th>min</th>\n",
       "      <td>5.247490</td>\n",
       "      <td>0.083014</td>\n",
       "      <td>0.001760</td>\n",
       "      <td>0.001593</td>\n",
       "      <td>0.000000</td>\n",
       "      <td>0.001294</td>\n",
       "      <td>0.0</td>\n",
       "      <td>0.000000</td>\n",
       "      <td>0.000000</td>\n",
       "      <td>1.000000</td>\n",
       "      <td>1.0</td>\n",
       "      <td>0.0</td>\n",
       "      <td>0.000000</td>\n",
       "      <td>0.0</td>\n",
       "      <td>0.0</td>\n",
       "      <td>0.0</td>\n",
       "    </tr>\n",
       "    <tr>\n",
       "      <th>25%</th>\n",
       "      <td>8.150715</td>\n",
       "      <td>0.256977</td>\n",
       "      <td>0.006559</td>\n",
       "      <td>0.004582</td>\n",
       "      <td>0.001098</td>\n",
       "      <td>0.003116</td>\n",
       "      <td>0.0</td>\n",
       "      <td>0.707154</td>\n",
       "      <td>0.000000</td>\n",
       "      <td>1.000000</td>\n",
       "      <td>1.0</td>\n",
       "      <td>0.0</td>\n",
       "      <td>0.000000</td>\n",
       "      <td>0.0</td>\n",
       "      <td>0.0</td>\n",
       "      <td>0.0</td>\n",
       "    </tr>\n",
       "    <tr>\n",
       "      <th>50%</th>\n",
       "      <td>13.624480</td>\n",
       "      <td>0.605169</td>\n",
       "      <td>0.015639</td>\n",
       "      <td>0.013047</td>\n",
       "      <td>0.002661</td>\n",
       "      <td>0.006067</td>\n",
       "      <td>0.0</td>\n",
       "      <td>0.707294</td>\n",
       "      <td>1.000000</td>\n",
       "      <td>1.000000</td>\n",
       "      <td>1.0</td>\n",
       "      <td>0.0</td>\n",
       "      <td>0.000000</td>\n",
       "      <td>0.0</td>\n",
       "      <td>0.0</td>\n",
       "      <td>0.0</td>\n",
       "    </tr>\n",
       "    <tr>\n",
       "      <th>75%</th>\n",
       "      <td>21.266890</td>\n",
       "      <td>1.472475</td>\n",
       "      <td>0.028940</td>\n",
       "      <td>0.019901</td>\n",
       "      <td>0.006110</td>\n",
       "      <td>0.011882</td>\n",
       "      <td>0.0</td>\n",
       "      <td>0.709979</td>\n",
       "      <td>2.000000</td>\n",
       "      <td>2.000000</td>\n",
       "      <td>1.0</td>\n",
       "      <td>0.0</td>\n",
       "      <td>0.000000</td>\n",
       "      <td>0.0</td>\n",
       "      <td>0.0</td>\n",
       "      <td>0.0</td>\n",
       "    </tr>\n",
       "    <tr>\n",
       "      <th>max</th>\n",
       "      <td>37.355492</td>\n",
       "      <td>3.287086</td>\n",
       "      <td>0.375687</td>\n",
       "      <td>0.135014</td>\n",
       "      <td>0.240674</td>\n",
       "      <td>0.029590</td>\n",
       "      <td>0.0</td>\n",
       "      <td>0.723832</td>\n",
       "      <td>3.000000</td>\n",
       "      <td>3.000000</td>\n",
       "      <td>1.0</td>\n",
       "      <td>0.0</td>\n",
       "      <td>2.000000</td>\n",
       "      <td>0.0</td>\n",
       "      <td>0.0</td>\n",
       "      <td>0.0</td>\n",
       "    </tr>\n",
       "  </tbody>\n",
       "</table>\n",
       "</div>"
      ],
      "text/plain": [
       "       wavelength        flux  error (RMS+SYS)  error (RMS)  error (SYS)  \\\n",
       "count  387.000000  387.000000       387.000000   387.000000   387.000000   \n",
       "mean    16.045664    0.979526         0.019800     0.014002     0.005798   \n",
       "std      9.002149    0.912483         0.024442     0.012668     0.013877   \n",
       "min      5.247490    0.083014         0.001760     0.001593     0.000000   \n",
       "25%      8.150715    0.256977         0.006559     0.004582     0.001098   \n",
       "50%     13.624480    0.605169         0.015639     0.013047     0.002661   \n",
       "75%     21.266890    1.472475         0.028940     0.019901     0.006110   \n",
       "max     37.355492    3.287086         0.375687     0.135014     0.240674   \n",
       "\n",
       "       offset uncertainty (CAL)    sky   sky error      module       order  \\\n",
       "count                387.000000  387.0  387.000000  387.000000  387.000000   \n",
       "mean                   0.007546    0.0    0.582891    1.431525    1.537468   \n",
       "std                    0.004969    0.0    0.271884    1.118538    0.627947   \n",
       "min                    0.001294    0.0    0.000000    0.000000    1.000000   \n",
       "25%                    0.003116    0.0    0.707154    0.000000    1.000000   \n",
       "50%                    0.006067    0.0    0.707294    1.000000    1.000000   \n",
       "75%                    0.011882    0.0    0.709979    2.000000    2.000000   \n",
       "max                    0.029590    0.0    0.723832    3.000000    3.000000   \n",
       "\n",
       "         nod  status       flag1  flag2  flag3  unknown  \n",
       "count  387.0   387.0  387.000000  387.0  387.0    387.0  \n",
       "mean     1.0     0.0    0.310078    0.0    0.0      0.0  \n",
       "std      0.0     0.0    0.691905    0.0    0.0      0.0  \n",
       "min      1.0     0.0    0.000000    0.0    0.0      0.0  \n",
       "25%      1.0     0.0    0.000000    0.0    0.0      0.0  \n",
       "50%      1.0     0.0    0.000000    0.0    0.0      0.0  \n",
       "75%      1.0     0.0    0.000000    0.0    0.0      0.0  \n",
       "max      1.0     0.0    2.000000    0.0    0.0      0.0  "
      ]
     },
     "execution_count": 314,
     "metadata": {},
     "output_type": "execute_result"
    }
   ],
   "source": [
    "df.describe()"
   ]
  },
  {
   "cell_type": "markdown",
   "metadata": {},
   "source": [
    "#### Header from the .fits file"
   ]
  },
  {
   "cell_type": "code",
   "execution_count": 185,
   "metadata": {},
   "outputs": [
    {
     "data": {
      "text/plain": [
       "astropy.io.fits.header.Header"
      ]
     },
     "execution_count": 185,
     "metadata": {},
     "output_type": "execute_result"
    }
   ],
   "source": [
    "type(header)"
   ]
  },
  {
   "cell_type": "code",
   "execution_count": 326,
   "metadata": {},
   "outputs": [
    {
     "data": {
      "text/plain": [
       "SIMPLE  =                    T / conforms to FITS standard                      \n",
       "BITPIX  =                  -32 / array data type                                \n",
       "NAXIS   =                    2 / number of array dimensions                     \n",
       "NAXIS1  =                   16                                                  \n",
       "NAXIS2  =                  387                                                  \n",
       "EXTEND  =                    T                                                  \n",
       "COL01DEF= 'wavelength'         / Label for data in column 1                     \n",
       "COL02DEF= 'flux    '           / Label for data in column 2                     \n",
       "COL03DEF= 'error (RMS+SYS)'    / Label for data in column 3                     \n",
       "COL04DEF= 'error (RMS)'        / Label for data in column 4                     \n",
       "COL05DEF= 'error (SYS)'        / Label for data in column 5                     \n",
       "COL06DEF= 'offset uncertainty (CAL)' / Label for data in column 6               \n",
       "COL07DEF= 'sky     '           / Label for data in column 7                     \n",
       "COL08DEF= 'sky error'          / Label for data in column 8                     \n",
       "COL09DEF= 'module  '           / Label for data in column 9                     \n",
       "COL10DEF= 'order   '           / Label for data in column 10                    \n",
       "COL11DEF= 'nod     '           / Label for data in column 11                    \n",
       "COL12DEF= 'status  '           / Label for data in column 12                    \n",
       "COL13DEF= 'flag1   '           / Label for data in column 13                    \n",
       "COL14DEF= 'flag2   '           / Label for data in column 14                    \n",
       "COL15DEF= 'flag3   '           / Label for data in column 15                    \n",
       "TELESCOP= 'Spitzer '                                                            \n",
       "INSTRUME= 'IRSX    '                                                            \n",
       "CREATOR = 'S18.18.0'           / SW version used to create this FITS file       \n",
       "CAL_SET = 'C18.18PRE25.A'      / ID for the set of CAL files used               \n",
       "AOT_TYPE= 'IrsStare'           / Observation Template Type                      \n",
       "AORLABEL= 'calsfx-9F-HD99754'  / AOR Label                                      \n",
       "OBSRVR  = 'Lee Armus'          / Observer Name                                  \n",
       "OBSRVRID=                   21 / Observer ID of Principal Investigator          \n",
       "PROCYCL =                    3 / Proposal Cycle                                 \n",
       "PROGID  =                 1409 / Program ID                                     \n",
       "PROGCAT =                   32 / Program Category                               \n",
       "MJD_OBS =            53181.836 / [days] MJD in UTC at DCE start (JD-2400000.5)  \n",
       "EOHAAOTN= 'IRS01   '                                                            \n",
       "RADESYS = 'ICRS    '           / International Celestial Reference System       \n",
       "PA      =   -65.76508200000001 / [deg] Position angle of axis 2 (E of N,+=CCW)  \n",
       "RA_RQST =            172.09722 / [deg] Commanded RA referenced to commanded FOV \n",
       "RA_SLT  =            172.09622 / [deg] RA at slit center averaged over DCE      \n",
       "DEC_SLT =           -23.829099 / [deg] DEC at slit center averaged over DCE     \n",
       "PA_SLT  =            20.402958 / [deg] PA at slit center averaged over DCE      \n",
       "DEC_RQST=           -23.826727 / [deg] Commanded Dec referenced to commanded FO \n",
       "PA_RQST =      295.46286721493 / Position angle of focal plane                  \n",
       "PM_RA   =                -0.02 / [arcsec/yr] Proper Motion in RA (J2000)        \n",
       "PM_DEC  =         -0.026000001 / [arcsec/yr] Proper Motion in Dec (J2000)       \n",
       "PA_FOV  =            20.402572 / [deg] PA at FOVID averaged over DCE            \n",
       "VHELCORR=                -26.9 / [km/sec] Correction to heliocentric velocity   \n",
       "VLSRCORR=           -33.200001 / [km/sec] Correction to local standard of rest  \n",
       "PKUPMODE= 'IRS     '           / Peakup mode (none, IRS, or PCRS)               \n",
       "PKUPACCU= 'High    '           / Peakup Accuracy (high, moderate,low)           \n",
       "PKUPFILT= 'RED     '           / Peakup filter (blue or red)                    \n",
       "PKUPXTND=                    F / Extended source (T/F)                          \n",
       "AORKEY  = '10019072'           / AOR or EIR key. Astrnmy Obs Req/Instr Eng Req  \n",
       "CAMPAIGN= 'IRSX003400'         / Campaign                                       \n",
       "OBJECT  = 'HD 99754'           / Target Name                                    \n",
       "OBJTYPE = 'TargetFixedSingle'  / Target Type                                    \n",
       "BUNIT   = 'Jy      '           / Spectrum unit                                  \n",
       "CASCL1  =                256.0 / maskval                                        \n",
       "CASCI1  = 'single DCE'         / CASSIS image combination                       \n",
       "CASVE   = '7       '           / CASSIS version                                 \n",
       "CASCIT  = 'Citation'           / Check http://cassis.astro.cornell.edu/atlas/pap\n",
       "POINTING=                    0 / Index of cluster-mode pointing                 \n",
       "REDSHIFT=                 -1.0 / Redshift from NED (-1 if not available)        \n",
       "RA_AVG  =         172.09727478 / Coords of CASSIS extraction (source centroid)  \n",
       "RNAME2  = 'HD  99754 (multiple)' / SIMBAD resolved name                         \n",
       "RNAME1  = '' / NED resolved name                                                \n",
       "DETLVL  =                  109 / Detection level of CASSIS extraction           \n",
       "DEC_AVG =       -23.8266372681 / Coords of CASSIS extraction (source centroid)  \n",
       "EXTENT  =             0.459417 / Estimated source size (arcsec)                 \n",
       "RESOLV2 =                    2 / Num of SIMBAD name resolutions                 \n",
       "RESOLV1 =                    0 / Num of NED name resolutions                    \n",
       "COMMENT Spectrum from CASSIS - Cornell Atlas of Spitzer/IRS Sources             \n",
       "COMMENT See citation requests at http://cassis.astro.cornell.edu                "
      ]
     },
     "execution_count": 326,
     "metadata": {},
     "output_type": "execute_result"
    }
   ],
   "source": [
    "# Uncomment below to see full header of one file as an example.\n",
    "header"
   ]
  },
  {
   "cell_type": "code",
   "execution_count": 201,
   "metadata": {},
   "outputs": [
    {
     "data": {
      "text/plain": [
       "'HD 99754'"
      ]
     },
     "execution_count": 201,
     "metadata": {},
     "output_type": "execute_result"
    }
   ],
   "source": [
    "# Can query header\n",
    "header['RA_SLT']  # Right ascension.\n",
    "header['DEC_SLT']  # Declination.\n",
    "header['BUNIT']  # Units of flux (typically Jy)\n",
    "header['AORKEY']  # Unique observation identifier (specific to Spitzer Space Telescope).\n",
    "header['OBJECT']  # Object name."
   ]
  },
  {
   "cell_type": "code",
   "execution_count": 202,
   "metadata": {},
   "outputs": [],
   "source": [
    "# Can convert to other formats if we want to use the header information for something.\n",
    "# See http://docs.astropy.org/en/stable/io/fits/api/headers.html\n",
    "\n",
    "# header_str = header.tostring()\n",
    "# header.totextfile('test_header.csv')"
   ]
  },
  {
   "cell_type": "code",
   "execution_count": null,
   "metadata": {},
   "outputs": [],
   "source": []
  },
  {
   "cell_type": "markdown",
   "metadata": {},
   "source": [
    "***"
   ]
  },
  {
   "cell_type": "markdown",
   "metadata": {},
   "source": [
    "# Appendix B -- Extra meta, ignore for now"
   ]
  },
  {
   "cell_type": "markdown",
   "metadata": {},
   "source": [
    "### The associated metadata .tbl (table) file"
   ]
  },
  {
   "cell_type": "code",
   "execution_count": 19,
   "metadata": {
    "nbpresent": {
     "id": "3fb66248-982c-4687-b08c-739dd43e890d"
    }
   },
   "outputs": [
    {
     "data": {
      "text/plain": [
       "'metadata/10019072.tbl'"
      ]
     },
     "execution_count": 19,
     "metadata": {},
     "output_type": "execute_result"
    }
   ],
   "source": [
    "test_meta = meta_dir + test_spec.split('/')[-1].split('.fits')[0] + '.tbl'\n",
    "test_meta"
   ]
  },
  {
   "cell_type": "code",
   "execution_count": 20,
   "metadata": {
    "nbpresent": {
     "id": "0060e347-191e-445d-9a72-eb65bc1fca3e"
    }
   },
   "outputs": [
    {
     "data": {
      "text/plain": [
       "True"
      ]
     },
     "execution_count": 20,
     "metadata": {},
     "output_type": "execute_result"
    }
   ],
   "source": [
    "# Ensure the metadata file exists..\n",
    "os.path.isfile(test_meta)"
   ]
  },
  {
   "cell_type": "code",
   "execution_count": 28,
   "metadata": {
    "nbpresent": {
     "id": "06e43b22-0645-41ad-9de6-19b40b7267c9"
    }
   },
   "outputs": [
    {
     "data": {
      "text/html": [
       "<i>Table length=76</i>\n",
       "<table id=\"table34934242776\" class=\"table-striped table-bordered table-condensed\">\n",
       "<thead><tr><th>reqkey</th><th>bcdid</th><th>modedisplayname</th><th>wavelength</th><th>cra</th><th>cdec</th><th>exposuretime</th><th>primaryfield</th><th>filetype</th><th>externalname</th><th>ptcomment</th><th>epoch</th><th>equinox</th><th>scet</th><th>minwavelength</th><th>maxwavelength</th><th>fovname</th><th>dceid</th><th>campid</th><th>filesize</th><th>ra</th><th>dec</th><th>ra1</th><th>dec1</th><th>ra2</th><th>dec2</th><th>ra3</th><th>dec3</th><th>ra4</th><th>dec4</th><th>naxis1</th><th>naxis2</th><th>cdelt1</th><th>cdelt2</th><th>crota2</th><th>crpix1</th><th>crpix2</th><th>crval1</th><th>crval2</th><th>ctype1</th><th>ctype2</th><th>heritagefilename</th><th>hasAccess</th><th>accessUrl</th><th>accessWithAnc1Url</th></tr></thead>\n",
       "<thead><tr><th>int64</th><th>int64</th><th>str9</th><th>str23</th><th>str12</th><th>str12</th><th>float64</th><th>int64</th><th>str5</th><th>str60</th><th>str222</th><th>float64</th><th>float64</th><th>str19</th><th>float64</th><th>float64</th><th>str35</th><th>int64</th><th>int64</th><th>int64</th><th>float64</th><th>float64</th><th>float64</th><th>float64</th><th>float64</th><th>float64</th><th>float64</th><th>float64</th><th>float64</th><th>float64</th><th>int64</th><th>int64</th><th>float64</th><th>float64</th><th>float64</th><th>float64</th><th>float64</th><th>float64</th><th>float64</th><th>str12</th><th>str12</th><th>str89</th><th>str4</th><th>str104</th><th>str117</th></tr></thead>\n",
       "<tr><td>10019072</td><td>327037996</td><td>IRS Stare</td><td>IRS LL 14.0-38.0um</td><td>11h28m31.38s</td><td>-23d50m30.9s</td><td>31.46</td><td>1</td><td>Image</td><td>r10019072/ch2/bcd/SPITZER_S2_10019072_0008_0000_11_bcd.fits</td><td>128x128 32-bit (real) collapsed (2D) slope image CORRECTED for stray light (in case of SL) or crosstalk (in case of SH and LH), after division by the flatfield image. Obtained via ramp-slope estimation in the IRS pipeline.</td><td>2004.4859</td><td>2000.0</td><td>2004-06-25 20:09:17</td><td>14.0</td><td>38.0</td><td>IRS_Long-Lo_2nd_Order_1st_Position</td><td>15866521</td><td>738</td><td>83520</td><td>172.1308</td><td>-23.8419</td><td>172.1804</td><td>-23.863</td><td>172.1789</td><td>-23.8657</td><td>172.0812</td><td>-23.8208</td><td>172.0827</td><td>-23.8182</td><td>2</td><td>2</td><td>-0.0015</td><td>0.05</td><td>63.3417</td><td>1.5</td><td>1.5</td><td>172.1308</td><td>-23.8419</td><td>RA---TAN</td><td>DEC--TAN</td><td>/sha/archive/proc/IRSX003400/r10019072/ch2/bcd/SPITZER_S2_10019072_0008_0000_11_bcd.fits</td><td>true</td><td>http://sha.ipac.caltech.edu/applications/Spitzer/SHA/servlet/ProductDownload?DATASET=level1&amp;ID=327037996</td><td>http://sha.ipac.caltech.edu/applications/Spitzer/SHA/servlet/ProductDownload?DATASET=level1&amp;ID=327037996&amp;OPTIONS=anc1</td></tr>\n",
       "<tr><td>10019072</td><td>327038004</td><td>IRS Stare</td><td>IRS LL 14.0-38.0um</td><td>11h28m18.94s</td><td>-23d49m5.1s</td><td>31.46</td><td>1</td><td>Image</td><td>r10019072/ch2/bcd/SPITZER_S2_10019072_0010_0002_11_bcd.fits</td><td>128x128 32-bit (real) collapsed (2D) slope image CORRECTED for stray light (in case of SL) or crosstalk (in case of SH and LH), after division by the flatfield image. Obtained via ramp-slope estimation in the IRS pipeline.</td><td>2004.4859</td><td>2000.0</td><td>2004-06-25 20:12:25</td><td>14.0</td><td>38.0</td><td>IRS_Long-Lo_1st_Order_1st_Position</td><td>15866525</td><td>738</td><td>83520</td><td>172.0789</td><td>-23.8181</td><td>172.1285</td><td>-23.8392</td><td>172.127</td><td>-23.8418</td><td>172.0294</td><td>-23.797</td><td>172.0308</td><td>-23.7943</td><td>2</td><td>2</td><td>-0.0015</td><td>0.05</td><td>63.3406</td><td>1.5</td><td>1.5</td><td>172.0789</td><td>-23.8181</td><td>RA---TAN</td><td>DEC--TAN</td><td>/sha/archive/proc/IRSX003400/r10019072/ch2/bcd/SPITZER_S2_10019072_0010_0002_11_bcd.fits</td><td>true</td><td>http://sha.ipac.caltech.edu/applications/Spitzer/SHA/servlet/ProductDownload?DATASET=level1&amp;ID=327038004</td><td>http://sha.ipac.caltech.edu/applications/Spitzer/SHA/servlet/ProductDownload?DATASET=level1&amp;ID=327038004&amp;OPTIONS=anc1</td></tr>\n",
       "<tr><td>10019072</td><td>327038008</td><td>IRS Stare</td><td>IRS LL 14.0-38.0um</td><td>11h28m15.33s</td><td>-23d48m40.2s</td><td>31.46</td><td>1</td><td>Image</td><td>r10019072/ch2/bcd/SPITZER_S2_10019072_0011_0003_11_bcd.fits</td><td>128x128 32-bit (real) collapsed (2D) slope image CORRECTED for stray light (in case of SL) or crosstalk (in case of SH and LH), after division by the flatfield image. Obtained via ramp-slope estimation in the IRS pipeline.</td><td>2004.4859</td><td>2000.0</td><td>2004-06-25 20:15:55</td><td>14.0</td><td>38.0</td><td>IRS_Long-Lo_1st_Order_2nd_Position</td><td>15866530</td><td>738</td><td>83520</td><td>172.0639</td><td>-23.8112</td><td>172.1135</td><td>-23.8323</td><td>172.112</td><td>-23.8349</td><td>172.0143</td><td>-23.79</td><td>172.0158</td><td>-23.7874</td><td>2</td><td>2</td><td>-0.0015</td><td>0.05</td><td>63.3366</td><td>1.5</td><td>1.5</td><td>172.0639</td><td>-23.8112</td><td>RA---TAN</td><td>DEC--TAN</td><td>/sha/archive/proc/IRSX003400/r10019072/ch2/bcd/SPITZER_S2_10019072_0011_0003_11_bcd.fits</td><td>true</td><td>http://sha.ipac.caltech.edu/applications/Spitzer/SHA/servlet/ProductDownload?DATASET=level1&amp;ID=327038008</td><td>http://sha.ipac.caltech.edu/applications/Spitzer/SHA/servlet/ProductDownload?DATASET=level1&amp;ID=327038008&amp;OPTIONS=anc1</td></tr>\n",
       "<tr><td>10019072</td><td>327038420</td><td>IRS Stare</td><td>IRS SH 9.9-19.6um</td><td>11h28m23.30s</td><td>-23d49m34.3s</td><td>31.46</td><td>1</td><td>Image</td><td>r10019072/ch1/bcd/SPITZER_S1_10019072_0006_0000_11_bcd.fits</td><td>128x128 32-bit (real) collapsed (2D) slope image CORRECTED for stray light (in case of SL) or crosstalk (in case of SH and LH), after division by the flatfield image. Obtained via ramp-slope estimation in the IRS pipeline.</td><td>2004.4859</td><td>2000.0</td><td>2004-06-25 20:05:40</td><td>9.9</td><td>19.6</td><td>IRS_Short-Hi_1st_Position</td><td>15866517</td><td>738</td><td>86400</td><td>172.0971</td><td>-23.8262</td><td>172.0984</td><td>-23.8274</td><td>172.0971</td><td>-23.8279</td><td>172.0958</td><td>-23.825</td><td>172.0971</td><td>-23.8245</td><td>2</td><td>2</td><td>-0.0007</td><td>0.0016</td><td>23.0678</td><td>1.5</td><td>1.5</td><td>172.0971</td><td>-23.8262</td><td>RA---TAN</td><td>DEC--TAN</td><td>/sha/archive/proc/IRSX003400/r10019072/ch1/bcd/SPITZER_S1_10019072_0006_0000_11_bcd.fits</td><td>true</td><td>http://sha.ipac.caltech.edu/applications/Spitzer/SHA/servlet/ProductDownload?DATASET=level1&amp;ID=327038420</td><td>http://sha.ipac.caltech.edu/applications/Spitzer/SHA/servlet/ProductDownload?DATASET=level1&amp;ID=327038420&amp;OPTIONS=anc1</td></tr>\n",
       "<tr><td>10019072</td><td>327039068</td><td>IRS Stare</td><td>IRS LH 18.7-37.2um</td><td>11h28m23.12s</td><td>-23d49m36.9s</td><td>60.95</td><td>1</td><td>Image</td><td>r10019072/ch3/bcd/SPITZER_S3_10019072_0012_0000_11_bcd.fits</td><td>128x128 32-bit (real) collapsed (2D) slope image CORRECTED for stray light (in case of SL) or crosstalk (in case of SH and LH), after division by the flatfield image. Obtained via ramp-slope estimation in the IRS pipeline.</td><td>2004.4859</td><td>2000.0</td><td>2004-06-25 20:17:08</td><td>18.7</td><td>37.2</td><td>IRS_Long-Hi_1st_Position</td><td>15866531</td><td>738</td><td>86400</td><td>172.0963</td><td>-23.8269</td><td>172.099</td><td>-23.8245</td><td>172.1001</td><td>-23.8274</td><td>172.0936</td><td>-23.8293</td><td>172.0926</td><td>-23.8264</td><td>2</td><td>2</td><td>-0.0015</td><td>0.0031</td><td>107.8768</td><td>1.5</td><td>1.5</td><td>172.0963</td><td>-23.8269</td><td>RA---TAN</td><td>DEC--TAN</td><td>/sha/archive/proc/IRSX003400/r10019072/ch3/bcd/SPITZER_S3_10019072_0012_0000_11_bcd.fits</td><td>true</td><td>http://sha.ipac.caltech.edu/applications/Spitzer/SHA/servlet/ProductDownload?DATASET=level1&amp;ID=327039068</td><td>http://sha.ipac.caltech.edu/applications/Spitzer/SHA/servlet/ProductDownload?DATASET=level1&amp;ID=327039068&amp;OPTIONS=anc1</td></tr>\n",
       "<tr><td>10019072</td><td>327039516</td><td>IRS Stare</td><td>IRS LL 19.5-38.0um</td><td>11h28m25.18s</td><td>-23d49m48.1s</td><td>31.46</td><td>1</td><td>Table</td><td>r10019072/ch2/bcd/SPITZER_S2_10019072_0010_0003_11_spect.tbl</td><td>Spectrum extracted from fully-processed 2D data</td><td>2004.4859</td><td>2000.0</td><td>2004-06-25 20:13:04</td><td>19.5</td><td>38.0</td><td>IRS_Long-Lo_1st_Order_1st_Position</td><td>15866526</td><td>738</td><td>25498</td><td>172.1049</td><td>-23.83</td><td>172.1284</td><td>-23.8392</td><td>172.127</td><td>-23.8418</td><td>172.0814</td><td>-23.8209</td><td>172.0828</td><td>-23.8182</td><td>2</td><td>2</td><td>-0.0015</td><td>0.0233</td><td>63.3406</td><td>1.5</td><td>1.5</td><td>172.1049</td><td>-23.83</td><td>RA---TAN</td><td>DEC--TAN</td><td>/sha/archive/proc/IRSX003400/r10019072/ch2/bcd/SPITZER_S2_10019072_0010_0003_11_spect.tbl</td><td>true</td><td>http://sha.ipac.caltech.edu/applications/Spitzer/SHA/servlet/ProductDownload?DATASET=level1&amp;ID=327039516</td><td>http://sha.ipac.caltech.edu/applications/Spitzer/SHA/servlet/ProductDownload?DATASET=level1&amp;ID=327039516&amp;OPTIONS=anc1</td></tr>\n",
       "<tr><td>10019072</td><td>327039520</td><td>IRS Stare</td><td>IRS LL 19.5-38.0um</td><td>11h28m21.57s</td><td>-23d49m23.2s</td><td>31.46</td><td>1</td><td>Table</td><td>r10019072/ch2/bcd/SPITZER_S2_10019072_0011_0003_11_spect.tbl</td><td>Spectrum extracted from fully-processed 2D data</td><td>2004.4859</td><td>2000.0</td><td>2004-06-25 20:15:55</td><td>19.5</td><td>38.0</td><td>IRS_Long-Lo_1st_Order_2nd_Position</td><td>15866530</td><td>738</td><td>25399</td><td>172.0899</td><td>-23.8231</td><td>172.1134</td><td>-23.8323</td><td>172.1119</td><td>-23.8349</td><td>172.0663</td><td>-23.814</td><td>172.0678</td><td>-23.8113</td><td>2</td><td>2</td><td>-0.0015</td><td>0.0233</td><td>63.3366</td><td>1.5</td><td>1.5</td><td>172.0899</td><td>-23.8231</td><td>RA---TAN</td><td>DEC--TAN</td><td>/sha/archive/proc/IRSX003400/r10019072/ch2/bcd/SPITZER_S2_10019072_0011_0003_11_spect.tbl</td><td>true</td><td>http://sha.ipac.caltech.edu/applications/Spitzer/SHA/servlet/ProductDownload?DATASET=level1&amp;ID=327039520</td><td>http://sha.ipac.caltech.edu/applications/Spitzer/SHA/servlet/ProductDownload?DATASET=level1&amp;ID=327039520&amp;OPTIONS=anc1</td></tr>\n",
       "<tr><td>10019072</td><td>327039696</td><td>IRS Stare</td><td>IRS SH 9.9-19.6um</td><td>11h28m23.30s</td><td>-23d49m34.2s</td><td>31.46</td><td>1</td><td>Table</td><td>r10019072/ch1/bcd/SPITZER_S1_10019072_0006_0001_11_spect.tbl</td><td>Spectrum extracted from fully-processed 2D data</td><td>2004.4859</td><td>2000.0</td><td>2004-06-25 20:06:19</td><td>9.9</td><td>19.6</td><td>IRS_Short-Hi_1st_Position</td><td>15866518</td><td>738</td><td>131353</td><td>172.0971</td><td>-23.8262</td><td>172.0984</td><td>-23.8274</td><td>172.0971</td><td>-23.8279</td><td>172.0957</td><td>-23.825</td><td>172.0971</td><td>-23.8245</td><td>2</td><td>2</td><td>-0.0007</td><td>0.0016</td><td>23.0679</td><td>1.5</td><td>1.5</td><td>172.0971</td><td>-23.8262</td><td>RA---TAN</td><td>DEC--TAN</td><td>/sha/archive/proc/IRSX003400/r10019072/ch1/bcd/SPITZER_S1_10019072_0006_0001_11_spect.tbl</td><td>true</td><td>http://sha.ipac.caltech.edu/applications/Spitzer/SHA/servlet/ProductDownload?DATASET=level1&amp;ID=327039696</td><td>http://sha.ipac.caltech.edu/applications/Spitzer/SHA/servlet/ProductDownload?DATASET=level1&amp;ID=327039696&amp;OPTIONS=anc1</td></tr>\n",
       "<tr><td>10019072</td><td>327039712</td><td>IRS Stare</td><td>IRS SH 9.9-19.6um</td><td>11h28m23.30s</td><td>-23d49m34.3s</td><td>31.46</td><td>1</td><td>Table</td><td>r10019072/ch1/bcd/SPITZER_S1_10019072_0006_0000_11_spect.tbl</td><td>Spectrum extracted from fully-processed 2D data</td><td>2004.4859</td><td>2000.0</td><td>2004-06-25 20:05:40</td><td>9.9</td><td>19.6</td><td>IRS_Short-Hi_1st_Position</td><td>15866517</td><td>738</td><td>131353</td><td>172.0971</td><td>-23.8262</td><td>172.0984</td><td>-23.8274</td><td>172.0971</td><td>-23.8279</td><td>172.0958</td><td>-23.825</td><td>172.0971</td><td>-23.8245</td><td>2</td><td>2</td><td>-0.0007</td><td>0.0016</td><td>23.0678</td><td>1.5</td><td>1.5</td><td>172.0971</td><td>-23.8262</td><td>RA---TAN</td><td>DEC--TAN</td><td>/sha/archive/proc/IRSX003400/r10019072/ch1/bcd/SPITZER_S1_10019072_0006_0000_11_spect.tbl</td><td>true</td><td>http://sha.ipac.caltech.edu/applications/Spitzer/SHA/servlet/ProductDownload?DATASET=level1&amp;ID=327039712</td><td>http://sha.ipac.caltech.edu/applications/Spitzer/SHA/servlet/ProductDownload?DATASET=level1&amp;ID=327039712&amp;OPTIONS=anc1</td></tr>\n",
       "<tr><td>10019072</td><td>327042356</td><td>IRS Stare</td><td>IRS SL 5.2-14.5um</td><td>11h28m24.09s</td><td>-23d49m8.5s</td><td>6.29</td><td>1</td><td>Image</td><td>r10019072/ch0/bcd/SPITZER_S0_10019072_0005_0000_11_bcd.fits</td><td>128x128 32-bit (real) collapsed (2D) slope image CORRECTED for stray light (in case of SL) or crosstalk (in case of SH and LH), after division by the flatfield image. Obtained via ramp-slope estimation in the IRS pipeline.</td><td>2004.4859</td><td>2000.0</td><td>2004-06-25 20:04:50</td><td>5.2</td><td>14.5</td><td>IRS_Short-Lo_1st_Order_2nd_Position</td><td>15866516</td><td>738</td><td>89280</td><td>172.1004</td><td>-23.819</td><td>172.0937</td><td>-23.8369</td><td>172.0926</td><td>-23.8365</td><td>172.107</td><td>-23.8011</td><td>172.1081</td><td>-23.8015</td><td>2</td><td>2</td><td>-0.0005</td><td>0.0189</td><td>-20.4029</td><td>1.5</td><td>1.5</td><td>172.1004</td><td>-23.819</td><td>RA---TAN</td><td>DEC--TAN</td><td>/sha/archive/proc/IRSX003400/r10019072/ch0/bcd/SPITZER_S0_10019072_0005_0000_11_bcd.fits</td><td>true</td><td>http://sha.ipac.caltech.edu/applications/Spitzer/SHA/servlet/ProductDownload?DATASET=level1&amp;ID=327042356</td><td>http://sha.ipac.caltech.edu/applications/Spitzer/SHA/servlet/ProductDownload?DATASET=level1&amp;ID=327042356&amp;OPTIONS=anc1</td></tr>\n",
       "<tr><td>...</td><td>...</td><td>...</td><td>...</td><td>...</td><td>...</td><td>...</td><td>...</td><td>...</td><td>...</td><td>...</td><td>...</td><td>...</td><td>...</td><td>...</td><td>...</td><td>...</td><td>...</td><td>...</td><td>...</td><td>...</td><td>...</td><td>...</td><td>...</td><td>...</td><td>...</td><td>...</td><td>...</td><td>...</td><td>...</td><td>...</td><td>...</td><td>...</td><td>...</td><td>...</td><td>...</td><td>...</td><td>...</td><td>...</td><td>...</td><td>...</td><td>...</td><td>...</td><td>...</td><td>...</td></tr>\n",
       "<tr><td>10019072</td><td>327040511</td><td>IRS Stare</td><td>IRS LH 18.7-37.2um</td><td>11h28m23.13s</td><td>-23d49m37.0s</td><td>60.95</td><td>1</td><td>Table</td><td>r10019072/ch3/bcd/SPITZER_S3_10019072_0012_0003_11_spect.tbl</td><td>Spectrum extracted from fully-processed 2D data</td><td>2004.4859</td><td>2000.0</td><td>2004-06-25 20:20:53</td><td>18.7</td><td>37.2</td><td>IRS_Long-Hi_1st_Position</td><td>15866534</td><td>738</td><td>126233</td><td>172.0964</td><td>-23.8269</td><td>172.0991</td><td>-23.8245</td><td>172.1001</td><td>-23.8274</td><td>172.0937</td><td>-23.8293</td><td>172.0926</td><td>-23.8264</td><td>2</td><td>2</td><td>-0.0015</td><td>0.0031</td><td>107.8767</td><td>1.5</td><td>1.5</td><td>172.0964</td><td>-23.8269</td><td>RA---TAN</td><td>DEC--TAN</td><td>/sha/archive/proc/IRSX003400/r10019072/ch3/bcd/SPITZER_S3_10019072_0012_0003_11_spect.tbl</td><td>true</td><td>http://sha.ipac.caltech.edu/applications/Spitzer/SHA/servlet/ProductDownload?DATASET=level1&amp;ID=327040511</td><td>http://sha.ipac.caltech.edu/applications/Spitzer/SHA/servlet/ProductDownload?DATASET=level1&amp;ID=327040511&amp;OPTIONS=anc1</td></tr>\n",
       "<tr><td>10019072</td><td>327040535</td><td>IRS Stare</td><td>IRS LH 18.7-37.2um</td><td>11h28m23.12s</td><td>-23d49m36.9s</td><td>60.95</td><td>1</td><td>Table</td><td>r10019072/ch3/bcd/SPITZER_S3_10019072_0012_0000_11_spect.tbl</td><td>Spectrum extracted from fully-processed 2D data</td><td>2004.4859</td><td>2000.0</td><td>2004-06-25 20:17:08</td><td>18.7</td><td>37.2</td><td>IRS_Long-Hi_1st_Position</td><td>15866531</td><td>738</td><td>126233</td><td>172.0963</td><td>-23.8269</td><td>172.099</td><td>-23.8245</td><td>172.1001</td><td>-23.8274</td><td>172.0936</td><td>-23.8293</td><td>172.0926</td><td>-23.8264</td><td>2</td><td>2</td><td>-0.0015</td><td>0.0031</td><td>107.8768</td><td>1.5</td><td>1.5</td><td>172.0963</td><td>-23.8269</td><td>RA---TAN</td><td>DEC--TAN</td><td>/sha/archive/proc/IRSX003400/r10019072/ch3/bcd/SPITZER_S3_10019072_0012_0000_11_spect.tbl</td><td>true</td><td>http://sha.ipac.caltech.edu/applications/Spitzer/SHA/servlet/ProductDownload?DATASET=level1&amp;ID=327040535</td><td>http://sha.ipac.caltech.edu/applications/Spitzer/SHA/servlet/ProductDownload?DATASET=level1&amp;ID=327040535&amp;OPTIONS=anc1</td></tr>\n",
       "<tr><td>10019072</td><td>327042363</td><td>IRS Stare</td><td>IRS SL 5.2-14.5um</td><td>11h28m22.10s</td><td>-23d50m21.5s</td><td>6.29</td><td>1</td><td>Image</td><td>r10019072/ch0/bcd/SPITZER_S0_10019072_0003_0000_11_bcd.fits</td><td>128x128 32-bit (real) collapsed (2D) slope image CORRECTED for stray light (in case of SL) or crosstalk (in case of SH and LH), after division by the flatfield image. Obtained via ramp-slope estimation in the IRS pipeline.</td><td>2004.4859</td><td>2000.0</td><td>2004-06-25 20:03:51</td><td>5.2</td><td>14.5</td><td>IRS_Short-Lo_2nd_Order_2nd_Position</td><td>15866514</td><td>738</td><td>89280</td><td>172.0921</td><td>-23.8393</td><td>172.0854</td><td>-23.8572</td><td>172.0844</td><td>-23.8568</td><td>172.0988</td><td>-23.8214</td><td>172.0998</td><td>-23.8218</td><td>2</td><td>2</td><td>-0.0005</td><td>0.0189</td><td>-20.403</td><td>1.5</td><td>1.5</td><td>172.0921</td><td>-23.8393</td><td>RA---TAN</td><td>DEC--TAN</td><td>/sha/archive/proc/IRSX003400/r10019072/ch0/bcd/SPITZER_S0_10019072_0003_0000_11_bcd.fits</td><td>true</td><td>http://sha.ipac.caltech.edu/applications/Spitzer/SHA/servlet/ProductDownload?DATASET=level1&amp;ID=327042363</td><td>http://sha.ipac.caltech.edu/applications/Spitzer/SHA/servlet/ProductDownload?DATASET=level1&amp;ID=327042363&amp;OPTIONS=anc1</td></tr>\n",
       "<tr><td>10019072</td><td>327043651</td><td>IRS Stare</td><td>IRS PU Blue 13.3-18.7um</td><td>11h28m30.9s</td><td>-23d50m19s</td><td>9.44</td><td>2</td><td>Image</td><td>r10019072/ch0/bcd/SPITZER_S0_10019072_0000_0001_11_acqb.fits</td><td>Blue cutout for Peakup Acquisition.</td><td>2004.4859</td><td>2000.0</td><td>2004-06-25 19:56:35</td><td>13.3</td><td>18.7</td><td>IRS_Red_Peak-Up_FOV_Center</td><td>15866506</td><td>738</td><td>28800</td><td>172.1288</td><td>-23.8386</td><td>172.1379</td><td>-23.8545</td><td>172.1469</td><td>-23.8352</td><td>172.1187</td><td>-23.8236</td><td>172.1095</td><td>-23.8429</td><td>41</td><td>56</td><td>0.0005</td><td>0.0005</td><td>65.8144</td><td>22.0</td><td>28.0</td><td>172.1288</td><td>-23.8386</td><td>RA---TAN-SIP</td><td>DEC--TAN-SIP</td><td>/sha/archive/proc/IRSX003400/r10019072/ch0/bcd/SPITZER_S0_10019072_0000_0001_11_acqb.fits</td><td>true</td><td>http://sha.ipac.caltech.edu/applications/Spitzer/SHA/servlet/ProductDownload?DATASET=level1&amp;ID=327043651</td><td>http://sha.ipac.caltech.edu/applications/Spitzer/SHA/servlet/ProductDownload?DATASET=level1&amp;ID=327043651&amp;OPTIONS=anc1</td></tr>\n",
       "<tr><td>10019072</td><td>327043655</td><td>IRS Stare</td><td>IRS PU Blue 13.3-18.7um</td><td>11h28m31.1s</td><td>-23d50m22s</td><td>9.44</td><td>2</td><td>Image</td><td>r10019072/ch0/bcd/SPITZER_S0_10019072_0001_0001_11_acqb.fits</td><td>Blue cutout for Peakup Acquisition.</td><td>2004.4859</td><td>2000.0</td><td>2004-06-25 19:58:16</td><td>13.3</td><td>18.7</td><td>IRS_Red_Peak-Up_FOV_Sweet_Spot</td><td>15866510</td><td>738</td><td>28800</td><td>172.1297</td><td>-23.8394</td><td>172.1388</td><td>-23.8553</td><td>172.1478</td><td>-23.836</td><td>172.1196</td><td>-23.8244</td><td>172.1104</td><td>-23.8437</td><td>41</td><td>56</td><td>0.0005</td><td>0.0005</td><td>65.8147</td><td>22.0</td><td>28.0</td><td>172.1297</td><td>-23.8394</td><td>RA---TAN-SIP</td><td>DEC--TAN-SIP</td><td>/sha/archive/proc/IRSX003400/r10019072/ch0/bcd/SPITZER_S0_10019072_0001_0001_11_acqb.fits</td><td>true</td><td>http://sha.ipac.caltech.edu/applications/Spitzer/SHA/servlet/ProductDownload?DATASET=level1&amp;ID=327043655</td><td>http://sha.ipac.caltech.edu/applications/Spitzer/SHA/servlet/ProductDownload?DATASET=level1&amp;ID=327043655&amp;OPTIONS=anc1</td></tr>\n",
       "<tr><td>10019072</td><td>327043659</td><td>IRS Stare</td><td>IRS PU Blue 13.3-18.7um</td><td>11h28m31.1s</td><td>-23d50m22s</td><td>9.44</td><td>2</td><td>Image</td><td>r10019072/ch0/bcd/SPITZER_S0_10019072_0001_0002_11_acqb.fits</td><td>Blue cutout for Peakup Acquisition.</td><td>2004.4859</td><td>2000.0</td><td>2004-06-25 19:58:31</td><td>13.3</td><td>18.7</td><td>IRS_Red_Peak-Up_FOV_Sweet_Spot</td><td>15866511</td><td>738</td><td>28800</td><td>172.1297</td><td>-23.8394</td><td>172.1388</td><td>-23.8553</td><td>172.1478</td><td>-23.836</td><td>172.1196</td><td>-23.8244</td><td>172.1104</td><td>-23.8437</td><td>41</td><td>56</td><td>0.0005</td><td>0.0005</td><td>65.8147</td><td>22.0</td><td>28.0</td><td>172.1297</td><td>-23.8394</td><td>RA---TAN-SIP</td><td>DEC--TAN-SIP</td><td>/sha/archive/proc/IRSX003400/r10019072/ch0/bcd/SPITZER_S0_10019072_0001_0002_11_acqb.fits</td><td>true</td><td>http://sha.ipac.caltech.edu/applications/Spitzer/SHA/servlet/ProductDownload?DATASET=level1&amp;ID=327043659</td><td>http://sha.ipac.caltech.edu/applications/Spitzer/SHA/servlet/ProductDownload?DATASET=level1&amp;ID=327043659&amp;OPTIONS=anc1</td></tr>\n",
       "<tr><td>10019072</td><td>327044735</td><td>IRS Stare</td><td>IRS PU Red 18.5-26.0um</td><td>11h28m23.6s</td><td>-23d49m39s</td><td>9.44</td><td>1</td><td>Image</td><td>r10019072/ch0/bcd/SPITZER_S0_10019072_0001_0002_11_acqr.fits</td><td>Red cutout for Peakup Acquisition.</td><td>2004.4859</td><td>2000.0</td><td>2004-06-25 19:58:31</td><td>18.5</td><td>26.0</td><td>IRS_Red_Peak-Up_FOV_Sweet_Spot</td><td>15866511</td><td>738</td><td>28800</td><td>172.0981</td><td>-23.8276</td><td>172.1073</td><td>-23.8429</td><td>172.1163</td><td>-23.8236</td><td>172.0882</td><td>-23.812</td><td>172.079</td><td>-23.8314</td><td>41</td><td>56</td><td>0.0005</td><td>0.0005</td><td>65.9363</td><td>21.0</td><td>28.0</td><td>172.0981</td><td>-23.8276</td><td>RA---TAN-SIP</td><td>DEC--TAN-SIP</td><td>/sha/archive/proc/IRSX003400/r10019072/ch0/bcd/SPITZER_S0_10019072_0001_0002_11_acqr.fits</td><td>true</td><td>http://sha.ipac.caltech.edu/applications/Spitzer/SHA/servlet/ProductDownload?DATASET=level1&amp;ID=327044735</td><td>http://sha.ipac.caltech.edu/applications/Spitzer/SHA/servlet/ProductDownload?DATASET=level1&amp;ID=327044735&amp;OPTIONS=anc1</td></tr>\n",
       "<tr><td>10019072</td><td>327044739</td><td>IRS Stare</td><td>IRS PU Red 18.5-26.0um</td><td>11h28m23.3s</td><td>-23d49m36s</td><td>9.44</td><td>1</td><td>Image</td><td>r10019072/ch0/bcd/SPITZER_S0_10019072_0000_0003_11_acqr.fits</td><td>Red cutout for Peakup Acquisition.</td><td>2004.4859</td><td>2000.0</td><td>2004-06-25 19:56:52</td><td>18.5</td><td>26.0</td><td>IRS_Red_Peak-Up_FOV_Center</td><td>15866508</td><td>738</td><td>28800</td><td>172.0972</td><td>-23.8267</td><td>172.1064</td><td>-23.842</td><td>172.1154</td><td>-23.8227</td><td>172.0873</td><td>-23.8112</td><td>172.0781</td><td>-23.8305</td><td>41</td><td>56</td><td>0.0005</td><td>0.0005</td><td>65.936</td><td>21.0</td><td>28.0</td><td>172.0972</td><td>-23.8267</td><td>RA---TAN-SIP</td><td>DEC--TAN-SIP</td><td>/sha/archive/proc/IRSX003400/r10019072/ch0/bcd/SPITZER_S0_10019072_0000_0003_11_acqr.fits</td><td>true</td><td>http://sha.ipac.caltech.edu/applications/Spitzer/SHA/servlet/ProductDownload?DATASET=level1&amp;ID=327044739</td><td>http://sha.ipac.caltech.edu/applications/Spitzer/SHA/servlet/ProductDownload?DATASET=level1&amp;ID=327044739&amp;OPTIONS=anc1</td></tr>\n",
       "<tr><td>10019072</td><td>327044751</td><td>IRS Stare</td><td>IRS PU Red 18.5-26.0um</td><td>11h28m12.6s</td><td>-23d53m55s</td><td>6.29</td><td>1</td><td>Image</td><td>r10019072/ch0/bcd/SPITZER_S0_10019072_0005_0000_11_bcdr.fits</td><td>Red peak-up image</td><td>2004.4859</td><td>2000.0</td><td>2004-06-25 20:04:50</td><td>18.5</td><td>26.0</td><td>IRS_Short-Lo_1st_Order_2nd_Position</td><td>15866516</td><td>738</td><td>31680</td><td>172.0525</td><td>-23.8986</td><td>172.0616</td><td>-23.9139</td><td>172.0706</td><td>-23.8946</td><td>172.0425</td><td>-23.8831</td><td>172.0334</td><td>-23.9024</td><td>41</td><td>56</td><td>0.0005</td><td>0.0005</td><td>65.9185</td><td>21.0</td><td>28.0</td><td>172.0525</td><td>-23.8986</td><td>RA---TAN-SIP</td><td>DEC--TAN-SIP</td><td>/sha/archive/proc/IRSX003400/r10019072/ch0/bcd/SPITZER_S0_10019072_0005_0000_11_bcdr.fits</td><td>true</td><td>http://sha.ipac.caltech.edu/applications/Spitzer/SHA/servlet/ProductDownload?DATASET=level1&amp;ID=327044751</td><td>http://sha.ipac.caltech.edu/applications/Spitzer/SHA/servlet/ProductDownload?DATASET=level1&amp;ID=327044751&amp;OPTIONS=anc1</td></tr>\n",
       "<tr><td>10019072</td><td>327045759</td><td>IRS Stare</td><td>IRS SL 5.2-8.7um</td><td>11h28m23.57s</td><td>-23d49m27.2s</td><td>6.29</td><td>1</td><td>Table</td><td>r10019072/ch0/bcd/SPITZER_S0_10019072_0002_0000_11_spect.tbl</td><td>Spectrum extracted from fully-processed 2D data</td><td>2004.4859</td><td>2000.0</td><td>2004-06-25 20:03:23</td><td>5.2</td><td>8.7</td><td>IRS_Short-Lo_2nd_Order_1st_Position</td><td>15866513</td><td>738</td><td>28333</td><td>172.0982</td><td>-23.8242</td><td>172.0957</td><td>-23.8318</td><td>172.0947</td><td>-23.8315</td><td>172.1007</td><td>-23.8166</td><td>172.1018</td><td>-23.817</td><td>2</td><td>2</td><td>-0.0005</td><td>0.0079</td><td>-20.4017</td><td>1.5</td><td>1.5</td><td>172.0982</td><td>-23.8242</td><td>RA---TAN</td><td>DEC--TAN</td><td>/sha/archive/proc/IRSX003400/r10019072/ch0/bcd/SPITZER_S0_10019072_0002_0000_11_spect.tbl</td><td>true</td><td>http://sha.ipac.caltech.edu/applications/Spitzer/SHA/servlet/ProductDownload?DATASET=level1&amp;ID=327045759</td><td>http://sha.ipac.caltech.edu/applications/Spitzer/SHA/servlet/ProductDownload?DATASET=level1&amp;ID=327045759&amp;OPTIONS=anc1</td></tr>\n",
       "</table>"
      ],
      "text/plain": [
       "<Table length=76>\n",
       " reqkey  ...\n",
       " int64   ...\n",
       "-------- ...\n",
       "10019072 ...\n",
       "10019072 ...\n",
       "10019072 ...\n",
       "10019072 ...\n",
       "10019072 ...\n",
       "10019072 ...\n",
       "10019072 ...\n",
       "10019072 ...\n",
       "10019072 ...\n",
       "10019072 ...\n",
       "     ... ...\n",
       "10019072 ...\n",
       "10019072 ...\n",
       "10019072 ...\n",
       "10019072 ...\n",
       "10019072 ...\n",
       "10019072 ...\n",
       "10019072 ...\n",
       "10019072 ...\n",
       "10019072 ...\n",
       "10019072 ..."
      ]
     },
     "execution_count": 28,
     "metadata": {},
     "output_type": "execute_result"
    }
   ],
   "source": [
    "meta_table = Table.read(test_meta, format='ascii.ipac')\n",
    "meta_table"
   ]
  },
  {
   "cell_type": "markdown",
   "metadata": {},
   "source": []
  },
  {
   "cell_type": "code",
   "execution_count": null,
   "metadata": {
    "nbpresent": {
     "id": "588659e1-578a-4674-aa65-f5bbeeb11a5f"
    }
   },
   "outputs": [],
   "source": []
  }
 ],
 "metadata": {
  "kernelspec": {
   "display_name": "Python [conda env:py3]",
   "language": "python",
   "name": "conda-env-py3-py"
  },
  "language_info": {
   "codemirror_mode": {
    "name": "ipython",
    "version": 3
   },
   "file_extension": ".py",
   "mimetype": "text/x-python",
   "name": "python",
   "nbconvert_exporter": "python",
   "pygments_lexer": "ipython3",
   "version": "3.6.5"
  }
 },
 "nbformat": 4,
 "nbformat_minor": 2
}
