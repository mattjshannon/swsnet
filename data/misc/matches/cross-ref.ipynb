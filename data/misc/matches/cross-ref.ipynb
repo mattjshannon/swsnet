{
 "cells": [
  {
   "cell_type": "markdown",
   "metadata": {},
   "source": [
    "## Identify matches between the SWS/CASSIS datasets."
   ]
  },
  {
   "cell_type": "code",
   "execution_count": 1,
   "metadata": {},
   "outputs": [],
   "source": [
    "from concurrent.futures import ProcessPoolExecutor\n",
    "\n",
    "import astropy\n",
    "import matplotlib.pyplot as plt\n",
    "import numpy as np\n",
    "import pandas as pd\n",
    "\n",
    "import swsnet"
   ]
  },
  {
   "cell_type": "code",
   "execution_count": 2,
   "metadata": {},
   "outputs": [],
   "source": [
    "def get_ang_sep(ra1, dec1, ra2, dec2):\n",
    "    \"\"\"Calculate the angular distance between two coordinates.\"\"\"\n",
    "    \n",
    "    delt_lon = (ra1 - ra2)*np.pi/180.\n",
    "    delt_lat = (dec1 - dec2)*np.pi/180.\n",
    "    # Haversine formula\n",
    "    dist = 2.0*np.arcsin( np.sqrt( np.sin(delt_lat/2.0)**2 + \\\n",
    "         np.cos(dec1*np.pi/180.)*np.cos(dec2*np.pi/180.)*np.sin(delt_lon/2.0)**2 ) )  \n",
    "\n",
    "    ang_sep = dist/np.pi*180.\n",
    "     \n",
    "    return ang_sep"
   ]
  },
  {
   "cell_type": "code",
   "execution_count": 3,
   "metadata": {},
   "outputs": [],
   "source": [
    "def get_matches(in_tuple):\n",
    "    \"\"\"Find sources common to CASSIS/SWS Atlas.\"\"\"\n",
    "    \n",
    "    global czip\n",
    "    global c_aor\n",
    "    global s_tdt\n",
    "    \n",
    "    sindex, sra, sdec = in_tuple\n",
    "    match_list = []\n",
    "    \n",
    "    for index, value in enumerate(czip):\n",
    "        cindex, cra, cdec = value\n",
    "        ang_sep = get_ang_sep(sra, sdec, cra, cdec)\n",
    "        if ang_sep*3600 <= 11:\n",
    "            positive_match = c_aor[cindex], s_tdt[sindex], ang_sep*3600, cindex, sindex\n",
    "            match_list.append(positive_match)\n",
    "    \n",
    "    if match_list:\n",
    "        return match_list\n",
    "    else:\n",
    "        return None"
   ]
  },
  {
   "cell_type": "code",
   "execution_count": 4,
   "metadata": {},
   "outputs": [],
   "source": [
    "cass = pd.read_pickle('cassis/metadata.pkl')\n",
    "sws = pd.read_pickle('isosws_atlas/metadata.pkl')\n",
    "\n",
    "cra = cass.ra.values\n",
    "cdec = cass.dec.values\n",
    "\n",
    "sra = sws.ra.values\n",
    "sdec = sws.dec.values\n",
    "\n",
    "c_aor = cass.aorkey.values\n",
    "s_tdt = sws.tdt.values"
   ]
  },
  {
   "cell_type": "markdown",
   "metadata": {},
   "source": [
    "Array containing all possible combinations:"
   ]
  },
  {
   "cell_type": "code",
   "execution_count": 5,
   "metadata": {},
   "outputs": [],
   "source": [
    "czip = []\n",
    "szip = []\n",
    "\n",
    "global czip\n",
    "global c_aor\n",
    "global s_tdt\n",
    "\n",
    "for cindex, cvalue in enumerate(cra):\n",
    "    czip.append((cindex, cra[cindex], cdec[cindex]))\n",
    "    \n",
    "for sindex, svalue in enumerate(sra):\n",
    "    szip.append((sindex, sra[sindex], sdec[sindex]))    "
   ]
  },
  {
   "cell_type": "code",
   "execution_count": 6,
   "metadata": {},
   "outputs": [
    {
     "data": {
      "text/plain": [
       "(6732, 1235)"
      ]
     },
     "execution_count": 6,
     "metadata": {},
     "output_type": "execute_result"
    }
   ],
   "source": [
    "len(czip), len(szip)"
   ]
  },
  {
   "cell_type": "markdown",
   "metadata": {},
   "source": [
    "### Use parallelization to calculate."
   ]
  },
  {
   "cell_type": "code",
   "execution_count": 7,
   "metadata": {},
   "outputs": [],
   "source": [
    "pool = ProcessPoolExecutor(max_workers=14)\n",
    "results = list(pool.map(get_matches, szip))"
   ]
  },
  {
   "cell_type": "code",
   "execution_count": 8,
   "metadata": {},
   "outputs": [],
   "source": [
    "def clean(array):\n",
    "    \"\"\"Tidy up the results from get_matches.\"\"\"\n",
    "    \n",
    "    cleaned_array = []\n",
    "    array_remove_nones = [x for x in array if x is not None]\n",
    "    \n",
    "    for entry in array_remove_nones:\n",
    "        if len(entry) == 1:\n",
    "            cleaned_array.append(entry[0])\n",
    "        else:\n",
    "            for subentry in entry:\n",
    "                cleaned_array.append(subentry)\n",
    "                \n",
    "    return np.array(cleaned_array)"
   ]
  },
  {
   "cell_type": "code",
   "execution_count": 9,
   "metadata": {},
   "outputs": [],
   "source": [
    "cleaned = clean(results)"
   ]
  },
  {
   "cell_type": "code",
   "execution_count": 10,
   "metadata": {},
   "outputs": [
    {
     "data": {
      "text/plain": [
       "array([['21788416', '23200502', '9.683969511351991', '3431', '25'],\n",
       "       ['9069568', '24701422', '8.963445194714112', '6598', '34'],\n",
       "       ['17505792', '68600302', '10.091857207255265', '1830', '49'],\n",
       "       ...,\n",
       "       ['21887488', '26301659', '7.8281940464130555', '3608', '1182'],\n",
       "       ['3855616', '16700767', '10.539486328421072', '5988', '1183'],\n",
       "       ['22268160', '24800307', '8.102067621399753', '4017', '1218']],\n",
       "      dtype='<U18')"
      ]
     },
     "execution_count": 10,
     "metadata": {},
     "output_type": "execute_result"
    }
   ],
   "source": [
    "# aor, tdt, ang_sep (''), cassis_index, sws_index\n",
    "cleaned"
   ]
  },
  {
   "cell_type": "code",
   "execution_count": 11,
   "metadata": {},
   "outputs": [
    {
     "data": {
      "text/plain": [
       "(327, 5)"
      ]
     },
     "execution_count": 11,
     "metadata": {},
     "output_type": "execute_result"
    }
   ],
   "source": [
    "cleaned.shape"
   ]
  },
  {
   "cell_type": "code",
   "execution_count": 12,
   "metadata": {},
   "outputs": [],
   "source": [
    "ang_seps = cleaned.T[2].astype(float)"
   ]
  },
  {
   "cell_type": "code",
   "execution_count": 13,
   "metadata": {},
   "outputs": [
    {
     "data": {
      "text/plain": [
       "Text(0,0.5,'counts')"
      ]
     },
     "execution_count": 13,
     "metadata": {},
     "output_type": "execute_result"
    },
    {
     "data": {
      "image/png": "[encoded data removed]",
      "text/plain": [
       "<Figure size 432x288 with 1 Axes>"
      ]
     },
     "metadata": {},
     "output_type": "display_data"
    }
   ],
   "source": [
    "plt.hist(ang_seps);\n",
    "plt.xlabel('angular separation (arsec)')\n",
    "plt.ylabel('counts')"
   ]
  },
  {
   "cell_type": "code",
   "execution_count": 20,
   "metadata": {},
   "outputs": [],
   "source": [
    "np.savetxt('matches/matches_within_11arcsec.txt', cleaned, delimiter=',', fmt='%s',\n",
    "           header='AOR, TDT, ang_sep (''), cassis_index, sws_index')"
   ]
  },
  {
   "cell_type": "code",
   "execution_count": null,
   "metadata": {},
   "outputs": [],
   "source": []
  }
 ],
 "metadata": {
  "kernelspec": {
   "display_name": "Python [conda env:py3]",
   "language": "python",
   "name": "conda-env-py3-py"
  },
  "language_info": {
   "codemirror_mode": {
    "name": "ipython",
    "version": 3
   },
   "file_extension": ".py",
   "mimetype": "text/x-python",
   "name": "python",
   "nbconvert_exporter": "python",
   "pygments_lexer": "ipython3",
   "version": "3.7.0"
  }
 },
 "nbformat": 4,
 "nbformat_minor": 2
}
