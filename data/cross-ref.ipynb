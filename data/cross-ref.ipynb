{
 "cells": [
  {
   "cell_type": "code",
   "execution_count": 38,
   "metadata": {},
   "outputs": [],
   "source": [
    "import astropy\n",
    "import matplotlib\n",
    "import numpy as np\n",
    "import pandas as pd\n",
    "import swsnet\n",
    "\n",
    "from astropy.coordinates import SkyCoord\n",
    "from concurrent.futures import ProcessPoolExecutor"
   ]
  },
  {
   "cell_type": "code",
   "execution_count": 34,
   "metadata": {},
   "outputs": [],
   "source": [
    "def test_one_sws(in_arr):\n",
    "\n",
    "    sra, sdec, cra, cdec, sindex = in_arr\n",
    "    matches = []\n",
    "    \n",
    "    sref = SkyCoord(sra[sindex], sdec[sindex], frame='icrs', unit='deg')\n",
    "    for index, value in enumerate(cra):\n",
    "        cref = SkyCoord(cra[index], cdec[index], frame='icrs', unit='deg')\n",
    "        sep = cref.separation(sref)\n",
    "        if sep.arcminute <= 100:\n",
    "            print(cass.aorkey.values[index], sws.tdt.values[0], sep.arcminute)\n",
    "            matches.append((cass.aorkey.values[index], sws.tdt.values[0], sep.arcminute))\n",
    "            \n",
    "    return matches"
   ]
  },
  {
   "cell_type": "code",
   "execution_count": 21,
   "metadata": {},
   "outputs": [],
   "source": [
    "cass = pd.read_pickle('cassis/metadata.pkl')\n",
    "sws = pd.read_pickle('isosws_atlas/metadata.pkl')"
   ]
  },
  {
   "cell_type": "code",
   "execution_count": 24,
   "metadata": {},
   "outputs": [],
   "source": [
    "cra = cass.ra.values\n",
    "cdec = cass.dec.values\n",
    "\n",
    "sra = sws.ra.values\n",
    "sdec = sws.dec.values"
   ]
  },
  {
   "cell_type": "code",
   "execution_count": 35,
   "metadata": {},
   "outputs": [],
   "source": [
    "myvar = []\n",
    "for x in range(5):\n",
    "    myvar.append((sra, sdec, cra, cdec, x))"
   ]
  },
  {
   "cell_type": "code",
   "execution_count": 41,
   "metadata": {},
   "outputs": [
    {
     "name": "stdout",
     "output_type": "stream",
     "text": [
      "22070016 37802225 93.5028247454558\n"
     ]
    }
   ],
   "source": [
    "pool = ProcessPoolExecutor(max_workers=4)\n",
    "results = list(pool.map(test_one_sws, myvar))"
   ]
  },
  {
   "cell_type": "code",
   "execution_count": 42,
   "metadata": {},
   "outputs": [
    {
     "data": {
      "text/plain": [
       "[[], [], [], [], [('22070016', '37802225', 93.5028247454558)]]"
      ]
     },
     "execution_count": 42,
     "metadata": {},
     "output_type": "execute_result"
    }
   ],
   "source": [
    "results"
   ]
  },
  {
   "cell_type": "code",
   "execution_count": 40,
   "metadata": {},
   "outputs": [],
   "source": [
    "sws;"
   ]
  },
  {
   "cell_type": "code",
   "execution_count": null,
   "metadata": {},
   "outputs": [],
   "source": []
  }
 ],
 "metadata": {
  "kernelspec": {
   "display_name": "Python [conda env:py3]",
   "language": "python",
   "name": "conda-env-py3-py"
  },
  "language_info": {
   "codemirror_mode": {
    "name": "ipython",
    "version": 3
   },
   "file_extension": ".py",
   "mimetype": "text/x-python",
   "name": "python",
   "nbconvert_exporter": "python",
   "pygments_lexer": "ipython3",
   "version": "3.6.6"
  }
 },
 "nbformat": 4,
 "nbformat_minor": 2
}
