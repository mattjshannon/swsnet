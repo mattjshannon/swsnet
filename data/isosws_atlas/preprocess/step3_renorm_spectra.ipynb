{
 "cells": [
  {
   "cell_type": "code",
   "execution_count": 1,
   "metadata": {},
   "outputs": [],
   "source": [
    "%matplotlib inline\n",
    "\n",
    "import matplotlib.pyplot as plt\n",
    "import numpy as np\n",
    "import pandas as pd"
   ]
  },
  {
   "cell_type": "code",
   "execution_count": 24,
   "metadata": {},
   "outputs": [],
   "source": [
    "meta = pd.read_pickle('step1_sort/metadata_step1_sorted.pkl')"
   ]
  },
  {
   "cell_type": "code",
   "execution_count": 82,
   "metadata": {},
   "outputs": [],
   "source": [
    "norm_params = np.loadtxt('step2_norm/step2_norm_params.txt', delimiter=',', dtype='str')\n",
    "nrows = norm_params.shape[0]"
   ]
  },
  {
   "cell_type": "code",
   "execution_count": 83,
   "metadata": {},
   "outputs": [
    {
     "data": {
      "text/plain": [
       "array(['spectra/02400714_sws.pkl', 'spectra/02400807_sws.pkl',\n",
       "       'spectra/02400910_sws.pkl', ..., 'spectra/87700401_sws.pkl',\n",
       "       'spectra/87700716_sws.pkl', 'spectra/87901801_sws.pkl'],\n",
       "      dtype='<U24')"
      ]
     },
     "execution_count": 83,
     "metadata": {},
     "output_type": "execute_result"
    }
   ],
   "source": [
    "spectra_paths = norm_params.T[0]\n",
    "spectra_paths"
   ]
  },
  {
   "cell_type": "code",
   "execution_count": 84,
   "metadata": {},
   "outputs": [
    {
     "data": {
      "text/plain": [
       "array(['spectra/02400714_sws.pkl', '-3.938295760531123',\n",
       "       '356.8436809729308', '164.63236323735268'], dtype='<U24')"
      ]
     },
     "execution_count": 84,
     "metadata": {},
     "output_type": "execute_result"
    }
   ],
   "source": [
    "norm_params[0]"
   ]
  },
  {
   "cell_type": "markdown",
   "metadata": {},
   "source": [
    "***"
   ]
  },
  {
   "cell_type": "code",
   "execution_count": 43,
   "metadata": {},
   "outputs": [],
   "source": [
    "def read_spectrum(filename):\n",
    "    \"\"\"Returns an ISO spectrum (wave, flux, etc.) from a pickle.\"\"\"\n",
    "    spectrum = pd.read_pickle(filename)\n",
    "    \n",
    "    wave = spectrum['wavelength']\n",
    "    flux = spectrum['flux']\n",
    "    specerr = spectrum['spec_error']\n",
    "    normerr = spectrum['norm_error']\n",
    "    fluxerr = specerr + normerr\n",
    "    \n",
    "    return wave, flux, fluxerr, spectrum"
   ]
  },
  {
   "cell_type": "code",
   "execution_count": 72,
   "metadata": {},
   "outputs": [],
   "source": [
    "def renormalize_spectrum(file_path, norm_factors, output_dir='../spectra_normalized/',\n",
    "                         verbose=True):\n",
    "\n",
    "    # Sanity check that the parameters are for this particular file.\n",
    "    if file_path != norm_factors[0]:\n",
    "        raise SystemExit('File paths do not match!')\n",
    "    \n",
    "    # Read the original pickled spectrum.\n",
    "    full_file_path = '../' + file_path\n",
    "    wave, flux, fluxerr, spectrum = read_spectrum(filename=full_file_path)\n",
    "    \n",
    "    # Identify the scaling factors.\n",
    "    _, spec_min, spec_max, norm_fac = norm_factors\n",
    "    spec_min = float(spec_min)\n",
    "    spec_max = float(spec_max)\n",
    "    norm_fac = float(norm_fac)\n",
    "    \n",
    "    # Scale its flux using the norm factors.\n",
    "    renorm_flux = (flux - spec_min) / norm_fac\n",
    "    \n",
    "    # Create a new pickle with the scaled spectrum (otherwise the same structure).\n",
    "    spectrum['flux'] = renorm_flux\n",
    "    \n",
    "    # Save new pickle.\n",
    "    save_path = file_path.replace('.pkl', '_renorm.pkl')\n",
    "    save_path = save_path.replace('spectra', 'spectra_normalized')\n",
    "    full_save_path = '../' + save_path\n",
    "    spectrum.to_pickle(full_save_path)\n",
    "    \n",
    "    # Print 'Saved!' statement if verbose.\n",
    "    if verbose:\n",
    "        print('Saved: ', full_save_path)\n",
    "    \n",
    "    return save_path"
   ]
  },
  {
   "cell_type": "markdown",
   "metadata": {},
   "source": [
    "***"
   ]
  },
  {
   "cell_type": "code",
   "execution_count": 89,
   "metadata": {},
   "outputs": [
    {
     "name": "stdout",
     "output_type": "stream",
     "text": [
      "0  /  1235\n",
      "100  /  1235\n",
      "200  /  1235\n",
      "300  /  1235\n",
      "400  /  1235\n",
      "500  /  1235\n",
      "600  /  1235\n",
      "700  /  1235\n",
      "800  /  1235\n",
      "900  /  1235\n",
      "1000  /  1235\n",
      "1100  /  1235\n",
      "1200  /  1235\n"
     ]
    }
   ],
   "source": [
    "file_path_list = []\n",
    "\n",
    "for index, file_path in enumerate(spectra_paths):\n",
    "    if index % 100 == 0:\n",
    "        print(index, ' / ', nrows)\n",
    "    \n",
    "    # Normalization parameters for this spectrum:\n",
    "    norm_factors = norm_params[index]\n",
    "    \n",
    "    # Renormalize, save to new pickle.\n",
    "    save_path = renormalize_spectrum(file_path, norm_factors, verbose=False)\n",
    "    \n",
    "    # Do something with meta dataframe??\n",
    "    file_path_list.append(save_path)\n",
    "    \n",
    "#     if index >= 10:\n",
    "#         break"
   ]
  },
  {
   "cell_type": "code",
   "execution_count": 123,
   "metadata": {},
   "outputs": [],
   "source": [
    "def check_tdts(old_file_paths, new_file_paths):\n",
    "    \n",
    "    old_list = [x.split('/')[-1].split('_')[0] for x in old_file_paths]\n",
    "    new_list = [x.split('/')[-1].split('_')[0] for x in new_file_paths]\n",
    "    \n",
    "    if old_list != new_list:\n",
    "        raise SystemExit(\"TDTs don't match.\")\n",
    "    \n",
    "    return"
   ]
  },
  {
   "cell_type": "code",
   "execution_count": 124,
   "metadata": {},
   "outputs": [],
   "source": [
    "def update_dataframe(meta, file_path_list):\n",
    "    \n",
    "    # Make a copy of the dataframe.\n",
    "    new_meta = meta.copy()\n",
    "    \n",
    "    # Isolate file_path from meta dataframe.\n",
    "    old_file_paths = meta['file_path']\n",
    "    new_file_paths = file_path_list\n",
    "    \n",
    "    # Compare them by TDT as a sanity check.\n",
    "    check_tdts(old_file_paths, new_file_paths)\n",
    "    \n",
    "    # Update paths.\n",
    "    new_meta['file_path'] = new_file_paths\n",
    "    \n",
    "    # Save to disk.\n",
    "    new_meta.to_pickle('../metadata_normalized.pkl')\n",
    "    print('Saved: ', '../metadata_normalized.pkl')\n",
    "    \n",
    "    return new_meta"
   ]
  },
  {
   "cell_type": "code",
   "execution_count": 125,
   "metadata": {},
   "outputs": [
    {
     "name": "stdout",
     "output_type": "stream",
     "text": [
      "Saved:  ../metadata_normalized.pkl\n"
     ]
    }
   ],
   "source": [
    "new_meta = update_dataframe(meta, file_path_list)"
   ]
  },
  {
   "cell_type": "markdown",
   "metadata": {},
   "source": [
    "***"
   ]
  },
  {
   "cell_type": "code",
   "execution_count": 20,
   "metadata": {},
   "outputs": [
    {
     "data": {
      "text/html": [
       "<div>\n",
       "<style scoped>\n",
       "    .dataframe tbody tr th:only-of-type {\n",
       "        vertical-align: middle;\n",
       "    }\n",
       "\n",
       "    .dataframe tbody tr th {\n",
       "        vertical-align: top;\n",
       "    }\n",
       "\n",
       "    .dataframe thead th {\n",
       "        text-align: right;\n",
       "    }\n",
       "</style>\n",
       "<table border=\"1\" class=\"dataframe\">\n",
       "  <thead>\n",
       "    <tr style=\"text-align: right;\">\n",
       "      <th></th>\n",
       "      <th>object_name</th>\n",
       "      <th>tdt</th>\n",
       "      <th>ra</th>\n",
       "      <th>dec</th>\n",
       "      <th>full_classifier</th>\n",
       "      <th>group</th>\n",
       "      <th>subgroup</th>\n",
       "      <th>uncertainty_flag</th>\n",
       "      <th>note</th>\n",
       "      <th></th>\n",
       "      <th>file_path</th>\n",
       "      <th>object_type</th>\n",
       "      <th>data_ok</th>\n",
       "    </tr>\n",
       "  </thead>\n",
       "  <tbody>\n",
       "    <tr>\n",
       "      <th>0</th>\n",
       "      <td>NGC 6543</td>\n",
       "      <td>2400714</td>\n",
       "      <td>269.639167</td>\n",
       "      <td>66.633194</td>\n",
       "      <td>4.PN</td>\n",
       "      <td>4</td>\n",
       "      <td>PN</td>\n",
       "      <td></td>\n",
       "      <td></td>\n",
       "      <td></td>\n",
       "      <td>spectra/02400714_sws.pkl</td>\n",
       "      <td>PN</td>\n",
       "      <td>True</td>\n",
       "    </tr>\n",
       "    <tr>\n",
       "      <th>1</th>\n",
       "      <td>NGC 6543</td>\n",
       "      <td>2400807</td>\n",
       "      <td>269.639167</td>\n",
       "      <td>66.633194</td>\n",
       "      <td>4.PN</td>\n",
       "      <td>4</td>\n",
       "      <td>PN</td>\n",
       "      <td></td>\n",
       "      <td></td>\n",
       "      <td></td>\n",
       "      <td>spectra/02400807_sws.pkl</td>\n",
       "      <td>PN</td>\n",
       "      <td>True</td>\n",
       "    </tr>\n",
       "    <tr>\n",
       "      <th>2</th>\n",
       "      <td>NGC 6543</td>\n",
       "      <td>2400910</td>\n",
       "      <td>269.639125</td>\n",
       "      <td>66.633194</td>\n",
       "      <td>4.PN</td>\n",
       "      <td>4</td>\n",
       "      <td>PN</td>\n",
       "      <td></td>\n",
       "      <td></td>\n",
       "      <td></td>\n",
       "      <td>spectra/02400910_sws.pkl</td>\n",
       "      <td>PN</td>\n",
       "      <td>True</td>\n",
       "    </tr>\n",
       "    <tr>\n",
       "      <th>3</th>\n",
       "      <td>NGC 7027</td>\n",
       "      <td>2401183</td>\n",
       "      <td>316.757125</td>\n",
       "      <td>42.235861</td>\n",
       "      <td>4.PU</td>\n",
       "      <td>4</td>\n",
       "      <td>PU</td>\n",
       "      <td></td>\n",
       "      <td></td>\n",
       "      <td></td>\n",
       "      <td>spectra/02401183_sws.pkl</td>\n",
       "      <td>PN</td>\n",
       "      <td>True</td>\n",
       "    </tr>\n",
       "    <tr>\n",
       "      <th>4</th>\n",
       "      <td>{gamma} Dra</td>\n",
       "      <td>2401579</td>\n",
       "      <td>269.151708</td>\n",
       "      <td>51.488972</td>\n",
       "      <td>1.NO</td>\n",
       "      <td>1</td>\n",
       "      <td>NO</td>\n",
       "      <td></td>\n",
       "      <td>(0,0)</td>\n",
       "      <td></td>\n",
       "      <td>spectra/02401579_sws.pkl</td>\n",
       "      <td></td>\n",
       "      <td>True</td>\n",
       "    </tr>\n",
       "  </tbody>\n",
       "</table>\n",
       "</div>"
      ],
      "text/plain": [
       "   object_name      tdt          ra        dec full_classifier group subgroup  \\\n",
       "0     NGC 6543  2400714  269.639167  66.633194            4.PN     4       PN   \n",
       "1     NGC 6543  2400807  269.639167  66.633194            4.PN     4       PN   \n",
       "2     NGC 6543  2400910  269.639125  66.633194            4.PN     4       PN   \n",
       "3     NGC 7027  2401183  316.757125  42.235861            4.PU     4       PU   \n",
       "4  {gamma} Dra  2401579  269.151708  51.488972            1.NO     1       NO   \n",
       "\n",
       "  uncertainty_flag   note                   file_path object_type  data_ok  \n",
       "0                            spectra/02400714_sws.pkl          PN     True  \n",
       "1                            spectra/02400807_sws.pkl          PN     True  \n",
       "2                            spectra/02400910_sws.pkl          PN     True  \n",
       "3                            spectra/02401183_sws.pkl          PN     True  \n",
       "4                   (0,0)    spectra/02401579_sws.pkl                 True  "
      ]
     },
     "execution_count": 20,
     "metadata": {},
     "output_type": "execute_result"
    }
   ],
   "source": [
    "meta.head()"
   ]
  },
  {
   "cell_type": "code",
   "execution_count": 122,
   "metadata": {},
   "outputs": [
    {
     "data": {
      "text/html": [
       "<div>\n",
       "<style scoped>\n",
       "    .dataframe tbody tr th:only-of-type {\n",
       "        vertical-align: middle;\n",
       "    }\n",
       "\n",
       "    .dataframe tbody tr th {\n",
       "        vertical-align: top;\n",
       "    }\n",
       "\n",
       "    .dataframe thead th {\n",
       "        text-align: right;\n",
       "    }\n",
       "</style>\n",
       "<table border=\"1\" class=\"dataframe\">\n",
       "  <thead>\n",
       "    <tr style=\"text-align: right;\">\n",
       "      <th></th>\n",
       "      <th>object_name</th>\n",
       "      <th>tdt</th>\n",
       "      <th>ra</th>\n",
       "      <th>dec</th>\n",
       "      <th>full_classifier</th>\n",
       "      <th>group</th>\n",
       "      <th>subgroup</th>\n",
       "      <th>uncertainty_flag</th>\n",
       "      <th>note</th>\n",
       "      <th></th>\n",
       "      <th>file_path</th>\n",
       "      <th>object_type</th>\n",
       "      <th>data_ok</th>\n",
       "    </tr>\n",
       "  </thead>\n",
       "  <tbody>\n",
       "    <tr>\n",
       "      <th>0</th>\n",
       "      <td>NGC 6543</td>\n",
       "      <td>2400714</td>\n",
       "      <td>269.639167</td>\n",
       "      <td>66.633194</td>\n",
       "      <td>4.PN</td>\n",
       "      <td>4</td>\n",
       "      <td>PN</td>\n",
       "      <td></td>\n",
       "      <td></td>\n",
       "      <td></td>\n",
       "      <td>spectra_normalized/02400714_sws_renorm.pkl</td>\n",
       "      <td>PN</td>\n",
       "      <td>True</td>\n",
       "    </tr>\n",
       "    <tr>\n",
       "      <th>1</th>\n",
       "      <td>NGC 6543</td>\n",
       "      <td>2400807</td>\n",
       "      <td>269.639167</td>\n",
       "      <td>66.633194</td>\n",
       "      <td>4.PN</td>\n",
       "      <td>4</td>\n",
       "      <td>PN</td>\n",
       "      <td></td>\n",
       "      <td></td>\n",
       "      <td></td>\n",
       "      <td>spectra_normalized/02400807_sws_renorm.pkl</td>\n",
       "      <td>PN</td>\n",
       "      <td>True</td>\n",
       "    </tr>\n",
       "    <tr>\n",
       "      <th>2</th>\n",
       "      <td>NGC 6543</td>\n",
       "      <td>2400910</td>\n",
       "      <td>269.639125</td>\n",
       "      <td>66.633194</td>\n",
       "      <td>4.PN</td>\n",
       "      <td>4</td>\n",
       "      <td>PN</td>\n",
       "      <td></td>\n",
       "      <td></td>\n",
       "      <td></td>\n",
       "      <td>spectra_normalized/02400910_sws_renorm.pkl</td>\n",
       "      <td>PN</td>\n",
       "      <td>True</td>\n",
       "    </tr>\n",
       "    <tr>\n",
       "      <th>3</th>\n",
       "      <td>NGC 7027</td>\n",
       "      <td>2401183</td>\n",
       "      <td>316.757125</td>\n",
       "      <td>42.235861</td>\n",
       "      <td>4.PU</td>\n",
       "      <td>4</td>\n",
       "      <td>PU</td>\n",
       "      <td></td>\n",
       "      <td></td>\n",
       "      <td></td>\n",
       "      <td>spectra_normalized/02401183_sws_renorm.pkl</td>\n",
       "      <td>PN</td>\n",
       "      <td>True</td>\n",
       "    </tr>\n",
       "    <tr>\n",
       "      <th>4</th>\n",
       "      <td>{gamma} Dra</td>\n",
       "      <td>2401579</td>\n",
       "      <td>269.151708</td>\n",
       "      <td>51.488972</td>\n",
       "      <td>1.NO</td>\n",
       "      <td>1</td>\n",
       "      <td>NO</td>\n",
       "      <td></td>\n",
       "      <td>(0,0)</td>\n",
       "      <td></td>\n",
       "      <td>spectra_normalized/02401579_sws_renorm.pkl</td>\n",
       "      <td></td>\n",
       "      <td>True</td>\n",
       "    </tr>\n",
       "  </tbody>\n",
       "</table>\n",
       "</div>"
      ],
      "text/plain": [
       "   object_name      tdt          ra        dec full_classifier group subgroup  \\\n",
       "0     NGC 6543  2400714  269.639167  66.633194            4.PN     4       PN   \n",
       "1     NGC 6543  2400807  269.639167  66.633194            4.PN     4       PN   \n",
       "2     NGC 6543  2400910  269.639125  66.633194            4.PN     4       PN   \n",
       "3     NGC 7027  2401183  316.757125  42.235861            4.PU     4       PU   \n",
       "4  {gamma} Dra  2401579  269.151708  51.488972            1.NO     1       NO   \n",
       "\n",
       "  uncertainty_flag   note                                     file_path  \\\n",
       "0                            spectra_normalized/02400714_sws_renorm.pkl   \n",
       "1                            spectra_normalized/02400807_sws_renorm.pkl   \n",
       "2                            spectra_normalized/02400910_sws_renorm.pkl   \n",
       "3                            spectra_normalized/02401183_sws_renorm.pkl   \n",
       "4                   (0,0)    spectra_normalized/02401579_sws_renorm.pkl   \n",
       "\n",
       "  object_type  data_ok  \n",
       "0          PN     True  \n",
       "1          PN     True  \n",
       "2          PN     True  \n",
       "3          PN     True  \n",
       "4                 True  "
      ]
     },
     "execution_count": 122,
     "metadata": {},
     "output_type": "execute_result"
    }
   ],
   "source": [
    "new_meta.head()"
   ]
  },
  {
   "cell_type": "code",
   "execution_count": null,
   "metadata": {},
   "outputs": [],
   "source": []
  }
 ],
 "metadata": {
  "kernelspec": {
   "display_name": "Python [conda env:py3]",
   "language": "python",
   "name": "conda-env-py3-py"
  },
  "language_info": {
   "codemirror_mode": {
    "name": "ipython",
    "version": 3
   },
   "file_extension": ".py",
   "mimetype": "text/x-python",
   "name": "python",
   "nbconvert_exporter": "python",
   "pygments_lexer": "ipython3",
   "version": "3.6.6"
  }
 },
 "nbformat": 4,
 "nbformat_minor": 2
}
