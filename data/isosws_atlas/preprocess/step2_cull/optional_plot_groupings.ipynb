{
 "cells": [
  {
   "cell_type": "markdown",
   "metadata": {},
   "source": [
    "# Optional: plot groupings (culled)"
   ]
  },
  {
   "cell_type": "markdown",
   "metadata": {},
   "source": [
    "This is applied after step 2, which removes group 7 and any with the : or :: flags, i.e. uncertain classification."
   ]
  },
  {
   "cell_type": "markdown",
   "metadata": {},
   "source": [
    "***"
   ]
  },
  {
   "cell_type": "markdown",
   "metadata": {},
   "source": [
    "Necessary modules..."
   ]
  },
  {
   "cell_type": "code",
   "execution_count": 1,
   "metadata": {},
   "outputs": [],
   "source": [
    "%matplotlib inline\n",
    "\n",
    "import matplotlib.pyplot as plt\n",
    "import numpy as np\n",
    "import pandas as pd\n",
    "\n",
    "from matplotlib.backends.backend_pdf import PdfPages\n",
    "\n",
    "from swsnet.dataframe_utils import \\\n",
    "    ensure_exists, read_spectrum, read_metadata, \\\n",
    "    plot_spectrum, plot_dataframe"
   ]
  },
  {
   "cell_type": "markdown",
   "metadata": {},
   "source": [
    "***"
   ]
  },
  {
   "cell_type": "markdown",
   "metadata": {},
   "source": [
    "## 1. Load metadata"
   ]
  },
  {
   "cell_type": "markdown",
   "metadata": {},
   "source": [
    "Note that we start by using the metadata pickle which has set group 7 sources to data_ok=False, as well as any with uncertainty flags."
   ]
  },
  {
   "cell_type": "code",
   "execution_count": 2,
   "metadata": {},
   "outputs": [],
   "source": [
    "meta = pd.read_pickle('../metadata_step2_culled.pkl')"
   ]
  },
  {
   "cell_type": "code",
   "execution_count": 3,
   "metadata": {},
   "outputs": [
    {
     "data": {
      "text/html": [
       "<div>\n",
       "<style scoped>\n",
       "    .dataframe tbody tr th:only-of-type {\n",
       "        vertical-align: middle;\n",
       "    }\n",
       "\n",
       "    .dataframe tbody tr th {\n",
       "        vertical-align: top;\n",
       "    }\n",
       "\n",
       "    .dataframe thead th {\n",
       "        text-align: right;\n",
       "    }\n",
       "</style>\n",
       "<table border=\"1\" class=\"dataframe\">\n",
       "  <thead>\n",
       "    <tr style=\"text-align: right;\">\n",
       "      <th></th>\n",
       "      <th>object_name</th>\n",
       "      <th>tdt</th>\n",
       "      <th>ra</th>\n",
       "      <th>dec</th>\n",
       "      <th>full_classifier</th>\n",
       "      <th>group</th>\n",
       "      <th>subgroup</th>\n",
       "      <th>uncertainty_flag</th>\n",
       "      <th>note</th>\n",
       "      <th></th>\n",
       "      <th>file_path</th>\n",
       "      <th>object_type</th>\n",
       "      <th>data_ok</th>\n",
       "    </tr>\n",
       "  </thead>\n",
       "  <tbody>\n",
       "    <tr>\n",
       "      <th>0</th>\n",
       "      <td>NGC 6543</td>\n",
       "      <td>2400714</td>\n",
       "      <td>269.639167</td>\n",
       "      <td>66.633194</td>\n",
       "      <td>4.PN</td>\n",
       "      <td>4</td>\n",
       "      <td>PN</td>\n",
       "      <td></td>\n",
       "      <td></td>\n",
       "      <td></td>\n",
       "      <td>spectra_normalized/02400714_irs_renorm.pkl</td>\n",
       "      <td>PN</td>\n",
       "      <td>True</td>\n",
       "    </tr>\n",
       "    <tr>\n",
       "      <th>1</th>\n",
       "      <td>NGC 6543</td>\n",
       "      <td>2400807</td>\n",
       "      <td>269.639167</td>\n",
       "      <td>66.633194</td>\n",
       "      <td>4.PN</td>\n",
       "      <td>4</td>\n",
       "      <td>PN</td>\n",
       "      <td></td>\n",
       "      <td></td>\n",
       "      <td></td>\n",
       "      <td>spectra_normalized/02400807_irs_renorm.pkl</td>\n",
       "      <td>PN</td>\n",
       "      <td>True</td>\n",
       "    </tr>\n",
       "    <tr>\n",
       "      <th>2</th>\n",
       "      <td>NGC 6543</td>\n",
       "      <td>2400910</td>\n",
       "      <td>269.639125</td>\n",
       "      <td>66.633194</td>\n",
       "      <td>4.PN</td>\n",
       "      <td>4</td>\n",
       "      <td>PN</td>\n",
       "      <td></td>\n",
       "      <td></td>\n",
       "      <td></td>\n",
       "      <td>spectra_normalized/02400910_irs_renorm.pkl</td>\n",
       "      <td>PN</td>\n",
       "      <td>True</td>\n",
       "    </tr>\n",
       "    <tr>\n",
       "      <th>3</th>\n",
       "      <td>NGC 7027</td>\n",
       "      <td>2401183</td>\n",
       "      <td>316.757125</td>\n",
       "      <td>42.235861</td>\n",
       "      <td>4.PU</td>\n",
       "      <td>4</td>\n",
       "      <td>PU</td>\n",
       "      <td></td>\n",
       "      <td></td>\n",
       "      <td></td>\n",
       "      <td>spectra_normalized/02401183_irs_renorm.pkl</td>\n",
       "      <td>PN</td>\n",
       "      <td>True</td>\n",
       "    </tr>\n",
       "    <tr>\n",
       "      <th>4</th>\n",
       "      <td>{gamma} Dra</td>\n",
       "      <td>2401579</td>\n",
       "      <td>269.151708</td>\n",
       "      <td>51.488972</td>\n",
       "      <td>1.NO</td>\n",
       "      <td>1</td>\n",
       "      <td>NO</td>\n",
       "      <td></td>\n",
       "      <td>(0,0)</td>\n",
       "      <td></td>\n",
       "      <td>spectra_normalized/02401579_irs_renorm.pkl</td>\n",
       "      <td></td>\n",
       "      <td>True</td>\n",
       "    </tr>\n",
       "  </tbody>\n",
       "</table>\n",
       "</div>"
      ],
      "text/plain": [
       "   object_name      tdt          ra        dec full_classifier group subgroup  \\\n",
       "0     NGC 6543  2400714  269.639167  66.633194            4.PN     4       PN   \n",
       "1     NGC 6543  2400807  269.639167  66.633194            4.PN     4       PN   \n",
       "2     NGC 6543  2400910  269.639125  66.633194            4.PN     4       PN   \n",
       "3     NGC 7027  2401183  316.757125  42.235861            4.PU     4       PU   \n",
       "4  {gamma} Dra  2401579  269.151708  51.488972            1.NO     1       NO   \n",
       "\n",
       "  uncertainty_flag   note                                     file_path  \\\n",
       "0                            spectra_normalized/02400714_irs_renorm.pkl   \n",
       "1                            spectra_normalized/02400807_irs_renorm.pkl   \n",
       "2                            spectra_normalized/02400910_irs_renorm.pkl   \n",
       "3                            spectra_normalized/02401183_irs_renorm.pkl   \n",
       "4                   (0,0)    spectra_normalized/02401579_irs_renorm.pkl   \n",
       "\n",
       "  object_type  data_ok  \n",
       "0          PN     True  \n",
       "1          PN     True  \n",
       "2          PN     True  \n",
       "3          PN     True  \n",
       "4                 True  "
      ]
     },
     "execution_count": 3,
     "metadata": {},
     "output_type": "execute_result"
    }
   ],
   "source": [
    "meta.head()"
   ]
  },
  {
   "cell_type": "markdown",
   "metadata": {},
   "source": [
    "***"
   ]
  },
  {
   "cell_type": "markdown",
   "metadata": {},
   "source": [
    "## 2. Save PDFs by groupings"
   ]
  },
  {
   "cell_type": "markdown",
   "metadata": {},
   "source": [
    "Condition is `data_ok == True`."
   ]
  },
  {
   "cell_type": "markdown",
   "metadata": {},
   "source": [
    "### Plot all"
   ]
  },
  {
   "cell_type": "markdown",
   "metadata": {},
   "source": [
    "Save all of them to all.pdf: `pdftk *_renorm.pdf cat output all.pdf`"
   ]
  },
  {
   "cell_type": "code",
   "execution_count": 4,
   "metadata": {},
   "outputs": [
    {
     "name": "stdout",
     "output_type": "stream",
     "text": [
      "Saved:  plots/all.pdf\n"
     ]
    }
   ],
   "source": [
    "save_dir = 'plots/'\n",
    "pdf_file = save_dir + 'all.pdf'\n",
    "\n",
    "# Plot all into a single PDF file.\n",
    "with PdfPages(pdf_file) as pdfpages:   \n",
    "    plot_dataframe(meta, save_dir=save_dir,\n",
    "                   pdfpages=pdfpages, verbose=False)\n",
    "    \n",
    "print('Saved: ', pdf_file)"
   ]
  },
  {
   "cell_type": "markdown",
   "metadata": {},
   "source": [
    "### Plot by group"
   ]
  },
  {
   "cell_type": "code",
   "execution_count": 5,
   "metadata": {},
   "outputs": [
    {
     "name": "stdout",
     "output_type": "stream",
     "text": [
      "Saved:  plots/group_1.pdf\n",
      "Saved:  plots/group_2.pdf\n",
      "Saved:  plots/group_3.pdf\n",
      "Saved:  plots/group_4.pdf\n",
      "Saved:  plots/group_5.pdf\n",
      "Saved:  plots/group_6.pdf\n"
     ]
    }
   ],
   "source": [
    "groups = ['1', '2', '3', '4', '5', '6']\n",
    "\n",
    "# Save separate PDFs for each group in separate folders.\n",
    "for index, group in enumerate(groups):\n",
    "\n",
    "    # Dataframe subset by 'group' condition.\n",
    "    meta_subset = meta.loc[meta['group'] == group]\n",
    "    \n",
    "    # Plot and save to a separate directory.\n",
    "    save_dir = 'plots/'\n",
    "    pdf_file = save_dir + 'group_' + str(group) + '.pdf'\n",
    "    \n",
    "    # Save all PDFs to one file.\n",
    "    with PdfPages(pdf_file) as pdfpages:    \n",
    "        plot_dataframe(meta_subset, save_dir=save_dir,\n",
    "                       pdfpages=pdfpages, verbose=False)\n",
    "    \n",
    "    print('Saved: ', pdf_file)"
   ]
  },
  {
   "cell_type": "markdown",
   "metadata": {},
   "source": [
    "### Plot by subgroup"
   ]
  },
  {
   "cell_type": "code",
   "execution_count": 6,
   "metadata": {},
   "outputs": [
    {
     "name": "stdout",
     "output_type": "stream",
     "text": [
      "\n",
      "Subgroups of group 1 :  ['N' 'NC' 'NE' 'NM' 'NMp' 'NO' 'NOp']\n",
      "Saved:  plots/group1/subgroup_N.pdf\n",
      "Saved:  plots/group1/subgroup_NC.pdf\n",
      "Saved:  plots/group1/subgroup_NE.pdf\n",
      "Saved:  plots/group1/subgroup_NM.pdf\n",
      "Saved:  plots/group1/subgroup_NMp.pdf\n",
      "Saved:  plots/group1/subgroup_NO.pdf\n",
      "Saved:  plots/group1/subgroup_NOp.pdf\n",
      "\n",
      "Subgroups of group 2 :  ['C/SE' 'CE' 'E' 'M' 'SEa' 'SEap' 'SEb' 'SEc' 'SEcp' 'U']\n",
      "Saved:  plots/group2/subgroup_C_slash_SE.pdf\n",
      "Saved:  plots/group2/subgroup_CE.pdf\n",
      "Saved:  plots/group2/subgroup_E.pdf\n",
      "Saved:  plots/group2/subgroup_M.pdf\n",
      "Saved:  plots/group2/subgroup_SEa.pdf\n",
      "Saved:  plots/group2/subgroup_SEap.pdf\n",
      "Saved:  plots/group2/subgroup_SEb.pdf\n",
      "Saved:  plots/group2/subgroup_SEc.pdf\n",
      "Saved:  plots/group2/subgroup_SEcp.pdf\n",
      "Saved:  plots/group2/subgroup_U.pdf\n",
      "\n",
      "Subgroups of group 3 :  ['CE' 'CR' 'SAe' 'SB' 'SBp' 'SE' 'SEe' 'SEp' 'W' 'Wp']\n",
      "Saved:  plots/group3/subgroup_CE.pdf\n",
      "Saved:  plots/group3/subgroup_CR.pdf\n",
      "Saved:  plots/group3/subgroup_SAe.pdf\n",
      "Saved:  plots/group3/subgroup_SB.pdf\n",
      "Saved:  plots/group3/subgroup_SBp.pdf\n",
      "Saved:  plots/group3/subgroup_SE.pdf\n",
      "Saved:  plots/group3/subgroup_SEe.pdf\n",
      "Saved:  plots/group3/subgroup_SEp.pdf\n",
      "Saved:  plots/group3/subgroup_W.pdf\n",
      "Saved:  plots/group3/subgroup_Wp.pdf\n",
      "\n",
      "Subgroups of group 4 :  ['C/SC' 'CN' 'CR' 'CT' 'F' 'Fe' 'Fu' 'M' 'Me' 'Mu' 'PN' 'PU' 'PUp' 'SA'\n",
      " 'SAe' 'SAp' 'SB' 'SBe' 'SBu' 'SC' 'SCp' 'SE' 'SEC' 'SECe' 'SECu' 'SEe'\n",
      " 'SEep' 'SEu' 'SEue' 'U/SC']\n",
      "Saved:  plots/group4/subgroup_C_slash_SC.pdf\n",
      "Saved:  plots/group4/subgroup_CN.pdf\n",
      "Saved:  plots/group4/subgroup_CR.pdf\n",
      "Saved:  plots/group4/subgroup_CT.pdf\n",
      "Saved:  plots/group4/subgroup_F.pdf\n",
      "Saved:  plots/group4/subgroup_Fe.pdf\n",
      "Saved:  plots/group4/subgroup_Fu.pdf\n",
      "Saved:  plots/group4/subgroup_M.pdf\n",
      "Saved:  plots/group4/subgroup_Me.pdf\n",
      "Saved:  plots/group4/subgroup_Mu.pdf\n",
      "Saved:  plots/group4/subgroup_PN.pdf\n",
      "Saved:  plots/group4/subgroup_PU.pdf\n",
      "Saved:  plots/group4/subgroup_PUp.pdf\n",
      "Saved:  plots/group4/subgroup_SA.pdf\n",
      "Saved:  plots/group4/subgroup_SAe.pdf\n",
      "Saved:  plots/group4/subgroup_SAp.pdf\n",
      "Saved:  plots/group4/subgroup_SB.pdf\n",
      "Saved:  plots/group4/subgroup_SBe.pdf\n",
      "Saved:  plots/group4/subgroup_SBu.pdf\n",
      "Saved:  plots/group4/subgroup_SC.pdf\n",
      "Saved:  plots/group4/subgroup_SCp.pdf\n",
      "Saved:  plots/group4/subgroup_SE.pdf\n",
      "Saved:  plots/group4/subgroup_SEC.pdf\n",
      "Saved:  plots/group4/subgroup_SECe.pdf\n",
      "Saved:  plots/group4/subgroup_SECu.pdf\n",
      "Saved:  plots/group4/subgroup_SEe.pdf\n",
      "Saved:  plots/group4/subgroup_SEep.pdf\n",
      "Saved:  plots/group4/subgroup_SEu.pdf\n",
      "Saved:  plots/group4/subgroup_SEue.pdf\n",
      "Saved:  plots/group4/subgroup_U_slash_SC.pdf\n",
      "\n",
      "Subgroups of group 5 :  ['E' 'F' 'Fe' 'M' 'PN' 'PNup' 'SA' 'SAe' 'SAeu' 'SAu' 'SE' 'SEu' 'U' 'UE'\n",
      " 'UEp']\n",
      "Saved:  plots/group5/subgroup_E.pdf\n",
      "Saved:  plots/group5/subgroup_F.pdf\n",
      "Saved:  plots/group5/subgroup_Fe.pdf\n",
      "Saved:  plots/group5/subgroup_M.pdf\n",
      "Saved:  plots/group5/subgroup_PN.pdf\n",
      "Saved:  plots/group5/subgroup_PNup.pdf\n",
      "Saved:  plots/group5/subgroup_SA.pdf\n",
      "Saved:  plots/group5/subgroup_SAe.pdf\n",
      "Saved:  plots/group5/subgroup_SAeu.pdf\n",
      "Saved:  plots/group5/subgroup_SAu.pdf\n",
      "Saved:  plots/group5/subgroup_SE.pdf\n",
      "Saved:  plots/group5/subgroup_SEu.pdf\n",
      "Saved:  plots/group5/subgroup_U.pdf\n",
      "Saved:  plots/group5/subgroup_UE.pdf\n",
      "Saved:  plots/group5/subgroup_UEp.pdf\n",
      "\n",
      "Subgroups of group 6 :  ['' 'u']\n",
      "Saved:  plots/group6/subgroup_empty.pdf\n",
      "Saved:  plots/group6/subgroup_u.pdf\n"
     ]
    }
   ],
   "source": [
    "groups = ['1', '2', '3', '4', '5', '6']\n",
    "\n",
    "# Iterate over all the groups.\n",
    "for index, group in enumerate(groups):\n",
    "\n",
    "    # Isolate group, identify subgroups.\n",
    "    meta_subset = meta.loc[meta['group'] == group]\n",
    "    subgroups = np.unique(meta_subset['subgroup']).astype(str)\n",
    "    print()\n",
    "    print('Subgroups of group', group, ': ', subgroups)\n",
    "    \n",
    "    # Iterate over all the subgroups.\n",
    "    for subindex, subgroup in enumerate(subgroups):\n",
    "\n",
    "        # Subgroup directory label, avoid weird characters.\n",
    "        if subgroup == '':\n",
    "            subgroup_label = 'empty'\n",
    "        else:\n",
    "            subgroup_label = subgroup.replace('/','_slash_')\n",
    "            \n",
    "        # Output directory.\n",
    "        save_dir = 'plots/group' + group + '/'\n",
    "        pdf_file = save_dir + 'subgroup_' + subgroup_label + '.pdf'\n",
    "        ensure_exists(save_dir)        \n",
    "        \n",
    "        # Extract a single subgroup's subset from the meta DataFrame.\n",
    "        meta_subsubset = meta_subset.loc[meta_subset['subgroup'] == subgroup]        \n",
    "        \n",
    "        # Plot all spectra in the subgroup.\n",
    "        with PdfPages(pdf_file) as pdfpages:\n",
    "            plot_dataframe(meta_subsubset, save_dir=save_dir,\n",
    "                           pdfpages=pdfpages, verbose=False)\n",
    "        \n",
    "        print('Saved: ', pdf_file)      "
   ]
  },
  {
   "cell_type": "code",
   "execution_count": null,
   "metadata": {},
   "outputs": [],
   "source": [
    "\n"
   ]
  }
 ],
 "metadata": {
  "kernelspec": {
   "display_name": "Python [conda env:py3]",
   "language": "python",
   "name": "conda-env-py3-py"
  },
  "language_info": {
   "codemirror_mode": {
    "name": "ipython",
    "version": 3
   },
   "file_extension": ".py",
   "mimetype": "text/x-python",
   "name": "python",
   "nbconvert_exporter": "python",
   "pygments_lexer": "ipython3",
   "version": "3.6.5"
  }
 },
 "nbformat": 4,
 "nbformat_minor": 2
}
