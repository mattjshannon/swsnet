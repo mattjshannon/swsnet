{
 "cells": [
  {
   "cell_type": "code",
   "execution_count": 1,
   "metadata": {},
   "outputs": [],
   "source": [
    "%matplotlib inline\n",
    "\n",
    "import matplotlib.pyplot as plt\n",
    "import numpy as np\n",
    "import pandas as pd\n",
    "\n",
    "from swsnet.norm_utils import read_spectrum, renormalize_spectrum"
   ]
  },
  {
   "cell_type": "code",
   "execution_count": 2,
   "metadata": {},
   "outputs": [],
   "source": [
    "meta = pd.read_pickle('../metadata_step0.pkl')"
   ]
  },
  {
   "cell_type": "code",
   "execution_count": 3,
   "metadata": {},
   "outputs": [],
   "source": [
    "norm_params = np.loadtxt('../step1_norm/step1_norm_params.txt', delimiter=',', dtype='str')\n",
    "nrows = norm_params.shape[0]"
   ]
  },
  {
   "cell_type": "code",
   "execution_count": 4,
   "metadata": {},
   "outputs": [
    {
     "data": {
      "text/plain": [
       "array(['spectra/02400714_irs.pkl', 'spectra/02400807_irs.pkl',\n",
       "       'spectra/02400910_irs.pkl', ..., 'spectra/87700401_irs.pkl',\n",
       "       'spectra/87700716_irs.pkl', 'spectra/87901801_irs.pkl'],\n",
       "      dtype='<U24')"
      ]
     },
     "execution_count": 4,
     "metadata": {},
     "output_type": "execute_result"
    }
   ],
   "source": [
    "spectra_paths = norm_params.T[0]\n",
    "spectra_paths"
   ]
  },
  {
   "cell_type": "code",
   "execution_count": 5,
   "metadata": {},
   "outputs": [
    {
     "data": {
      "text/plain": [
       "array(['spectra/02400714_irs.pkl', '-3.9378679', '285.0948',\n",
       "       '164.7205999051585'], dtype='<U24')"
      ]
     },
     "execution_count": 5,
     "metadata": {},
     "output_type": "execute_result"
    }
   ],
   "source": [
    "norm_params[0]"
   ]
  },
  {
   "cell_type": "markdown",
   "metadata": {},
   "source": [
    "***"
   ]
  },
  {
   "cell_type": "code",
   "execution_count": 13,
   "metadata": {},
   "outputs": [
    {
     "name": "stdout",
     "output_type": "stream",
     "text": [
      "0  /  1235\n",
      "100  /  1235\n",
      "200  /  1235\n",
      "300  /  1235\n",
      "400  /  1235\n",
      "500  /  1235\n",
      "600  /  1235\n",
      "700  /  1235\n",
      "800  /  1235\n",
      "900  /  1235\n",
      "1000  /  1235\n",
      "1100  /  1235\n",
      "1200  /  1235\n"
     ]
    }
   ],
   "source": [
    "file_path_list = []\n",
    "\n",
    "for index, file_path in enumerate(spectra_paths):\n",
    "    if index % 100 == 0:\n",
    "        print(index, ' / ', nrows)\n",
    "    \n",
    "    # Normalization parameters for this spectrum:\n",
    "    norm_factors = norm_params[index]\n",
    "    \n",
    "    # Renormalize, save to new pickle.\n",
    "    save_path = renormalize_spectrum(file_path, norm_factors, verbose=False)\n",
    "    \n",
    "    # Do something with meta dataframe??\n",
    "    file_path_list.append(save_path)\n",
    "    \n",
    "#     if index >= 10:\n",
    "#         break"
   ]
  },
  {
   "cell_type": "code",
   "execution_count": 17,
   "metadata": {},
   "outputs": [],
   "source": [
    "def check_tdts(old_file_paths, new_file_paths):\n",
    "    \n",
    "    old_list = [x.split('/')[-1].split('_')[0] for x in old_file_paths]\n",
    "    new_list = [x.split('/')[-1].split('_')[0] for x in new_file_paths]\n",
    "    \n",
    "    if old_list != new_list:\n",
    "        raise SystemExit(\"TDTs don't match.\")\n",
    "    \n",
    "    return"
   ]
  },
  {
   "cell_type": "code",
   "execution_count": 18,
   "metadata": {},
   "outputs": [],
   "source": [
    "def update_dataframe(meta, file_path_list):\n",
    "    \n",
    "    # Make a copy of the dataframe.\n",
    "    new_meta = meta.copy()\n",
    "    \n",
    "    # Isolate file_path from meta dataframe.\n",
    "    old_file_paths = meta['file_path']\n",
    "    new_file_paths = file_path_list\n",
    "    \n",
    "    # Compare them by TDT as a sanity check.\n",
    "    check_tdts(old_file_paths, new_file_paths)\n",
    "    \n",
    "    # Update paths.\n",
    "    new_meta['file_path'] = new_file_paths\n",
    "    \n",
    "    # Save to disk.\n",
    "    new_meta.to_pickle('../metadata_normalized.pkl')\n",
    "    print('Saved: ', '../metadata_normalized.pkl')\n",
    "    \n",
    "    return new_meta"
   ]
  },
  {
   "cell_type": "code",
   "execution_count": 19,
   "metadata": {},
   "outputs": [
    {
     "name": "stdout",
     "output_type": "stream",
     "text": [
      "Saved:  ../metadata_normalized.pkl\n"
     ]
    }
   ],
   "source": [
    "new_meta = update_dataframe(meta, file_path_list)"
   ]
  },
  {
   "cell_type": "markdown",
   "metadata": {},
   "source": [
    "***"
   ]
  },
  {
   "cell_type": "code",
   "execution_count": 20,
   "metadata": {},
   "outputs": [
    {
     "data": {
      "text/html": [
       "<div>\n",
       "<style scoped>\n",
       "    .dataframe tbody tr th:only-of-type {\n",
       "        vertical-align: middle;\n",
       "    }\n",
       "\n",
       "    .dataframe tbody tr th {\n",
       "        vertical-align: top;\n",
       "    }\n",
       "\n",
       "    .dataframe thead th {\n",
       "        text-align: right;\n",
       "    }\n",
       "</style>\n",
       "<table border=\"1\" class=\"dataframe\">\n",
       "  <thead>\n",
       "    <tr style=\"text-align: right;\">\n",
       "      <th></th>\n",
       "      <th>object_name</th>\n",
       "      <th>tdt</th>\n",
       "      <th>ra</th>\n",
       "      <th>dec</th>\n",
       "      <th>full_classifier</th>\n",
       "      <th>group</th>\n",
       "      <th>subgroup</th>\n",
       "      <th>uncertainty_flag</th>\n",
       "      <th>note</th>\n",
       "      <th></th>\n",
       "      <th>file_path</th>\n",
       "      <th>object_type</th>\n",
       "    </tr>\n",
       "  </thead>\n",
       "  <tbody>\n",
       "    <tr>\n",
       "      <th>0</th>\n",
       "      <td>NGC 6543</td>\n",
       "      <td>2400714</td>\n",
       "      <td>269.639167</td>\n",
       "      <td>66.633194</td>\n",
       "      <td>4.PN</td>\n",
       "      <td>4</td>\n",
       "      <td>PN</td>\n",
       "      <td></td>\n",
       "      <td></td>\n",
       "      <td></td>\n",
       "      <td>spectra/02400714_irs.pkl</td>\n",
       "      <td>PN</td>\n",
       "    </tr>\n",
       "    <tr>\n",
       "      <th>1</th>\n",
       "      <td>NGC 6543</td>\n",
       "      <td>2400807</td>\n",
       "      <td>269.639167</td>\n",
       "      <td>66.633194</td>\n",
       "      <td>4.PN</td>\n",
       "      <td>4</td>\n",
       "      <td>PN</td>\n",
       "      <td></td>\n",
       "      <td></td>\n",
       "      <td></td>\n",
       "      <td>spectra/02400807_irs.pkl</td>\n",
       "      <td>PN</td>\n",
       "    </tr>\n",
       "    <tr>\n",
       "      <th>2</th>\n",
       "      <td>NGC 6543</td>\n",
       "      <td>2400910</td>\n",
       "      <td>269.639125</td>\n",
       "      <td>66.633194</td>\n",
       "      <td>4.PN</td>\n",
       "      <td>4</td>\n",
       "      <td>PN</td>\n",
       "      <td></td>\n",
       "      <td></td>\n",
       "      <td></td>\n",
       "      <td>spectra/02400910_irs.pkl</td>\n",
       "      <td>PN</td>\n",
       "    </tr>\n",
       "    <tr>\n",
       "      <th>3</th>\n",
       "      <td>NGC 7027</td>\n",
       "      <td>2401183</td>\n",
       "      <td>316.757125</td>\n",
       "      <td>42.235861</td>\n",
       "      <td>4.PU</td>\n",
       "      <td>4</td>\n",
       "      <td>PU</td>\n",
       "      <td></td>\n",
       "      <td></td>\n",
       "      <td></td>\n",
       "      <td>spectra/02401183_irs.pkl</td>\n",
       "      <td>PN</td>\n",
       "    </tr>\n",
       "    <tr>\n",
       "      <th>4</th>\n",
       "      <td>{gamma} Dra</td>\n",
       "      <td>2401579</td>\n",
       "      <td>269.151708</td>\n",
       "      <td>51.488972</td>\n",
       "      <td>1.NO</td>\n",
       "      <td>1</td>\n",
       "      <td>NO</td>\n",
       "      <td></td>\n",
       "      <td>(0,0)</td>\n",
       "      <td></td>\n",
       "      <td>spectra/02401579_irs.pkl</td>\n",
       "      <td></td>\n",
       "    </tr>\n",
       "  </tbody>\n",
       "</table>\n",
       "</div>"
      ],
      "text/plain": [
       "   object_name      tdt          ra        dec full_classifier group subgroup  \\\n",
       "0     NGC 6543  2400714  269.639167  66.633194            4.PN     4       PN   \n",
       "1     NGC 6543  2400807  269.639167  66.633194            4.PN     4       PN   \n",
       "2     NGC 6543  2400910  269.639125  66.633194            4.PN     4       PN   \n",
       "3     NGC 7027  2401183  316.757125  42.235861            4.PU     4       PU   \n",
       "4  {gamma} Dra  2401579  269.151708  51.488972            1.NO     1       NO   \n",
       "\n",
       "  uncertainty_flag   note                   file_path object_type  \n",
       "0                            spectra/02400714_irs.pkl          PN  \n",
       "1                            spectra/02400807_irs.pkl          PN  \n",
       "2                            spectra/02400910_irs.pkl          PN  \n",
       "3                            spectra/02401183_irs.pkl          PN  \n",
       "4                   (0,0)    spectra/02401579_irs.pkl              "
      ]
     },
     "execution_count": 20,
     "metadata": {},
     "output_type": "execute_result"
    }
   ],
   "source": [
    "meta.head()"
   ]
  },
  {
   "cell_type": "code",
   "execution_count": 21,
   "metadata": {},
   "outputs": [
    {
     "data": {
      "text/html": [
       "<div>\n",
       "<style scoped>\n",
       "    .dataframe tbody tr th:only-of-type {\n",
       "        vertical-align: middle;\n",
       "    }\n",
       "\n",
       "    .dataframe tbody tr th {\n",
       "        vertical-align: top;\n",
       "    }\n",
       "\n",
       "    .dataframe thead th {\n",
       "        text-align: right;\n",
       "    }\n",
       "</style>\n",
       "<table border=\"1\" class=\"dataframe\">\n",
       "  <thead>\n",
       "    <tr style=\"text-align: right;\">\n",
       "      <th></th>\n",
       "      <th>object_name</th>\n",
       "      <th>tdt</th>\n",
       "      <th>ra</th>\n",
       "      <th>dec</th>\n",
       "      <th>full_classifier</th>\n",
       "      <th>group</th>\n",
       "      <th>subgroup</th>\n",
       "      <th>uncertainty_flag</th>\n",
       "      <th>note</th>\n",
       "      <th></th>\n",
       "      <th>file_path</th>\n",
       "      <th>object_type</th>\n",
       "    </tr>\n",
       "  </thead>\n",
       "  <tbody>\n",
       "    <tr>\n",
       "      <th>0</th>\n",
       "      <td>NGC 6543</td>\n",
       "      <td>2400714</td>\n",
       "      <td>269.639167</td>\n",
       "      <td>66.633194</td>\n",
       "      <td>4.PN</td>\n",
       "      <td>4</td>\n",
       "      <td>PN</td>\n",
       "      <td></td>\n",
       "      <td></td>\n",
       "      <td></td>\n",
       "      <td>spectra_normalized/02400714_irs_renorm.pkl</td>\n",
       "      <td>PN</td>\n",
       "    </tr>\n",
       "    <tr>\n",
       "      <th>1</th>\n",
       "      <td>NGC 6543</td>\n",
       "      <td>2400807</td>\n",
       "      <td>269.639167</td>\n",
       "      <td>66.633194</td>\n",
       "      <td>4.PN</td>\n",
       "      <td>4</td>\n",
       "      <td>PN</td>\n",
       "      <td></td>\n",
       "      <td></td>\n",
       "      <td></td>\n",
       "      <td>spectra_normalized/02400807_irs_renorm.pkl</td>\n",
       "      <td>PN</td>\n",
       "    </tr>\n",
       "    <tr>\n",
       "      <th>2</th>\n",
       "      <td>NGC 6543</td>\n",
       "      <td>2400910</td>\n",
       "      <td>269.639125</td>\n",
       "      <td>66.633194</td>\n",
       "      <td>4.PN</td>\n",
       "      <td>4</td>\n",
       "      <td>PN</td>\n",
       "      <td></td>\n",
       "      <td></td>\n",
       "      <td></td>\n",
       "      <td>spectra_normalized/02400910_irs_renorm.pkl</td>\n",
       "      <td>PN</td>\n",
       "    </tr>\n",
       "    <tr>\n",
       "      <th>3</th>\n",
       "      <td>NGC 7027</td>\n",
       "      <td>2401183</td>\n",
       "      <td>316.757125</td>\n",
       "      <td>42.235861</td>\n",
       "      <td>4.PU</td>\n",
       "      <td>4</td>\n",
       "      <td>PU</td>\n",
       "      <td></td>\n",
       "      <td></td>\n",
       "      <td></td>\n",
       "      <td>spectra_normalized/02401183_irs_renorm.pkl</td>\n",
       "      <td>PN</td>\n",
       "    </tr>\n",
       "    <tr>\n",
       "      <th>4</th>\n",
       "      <td>{gamma} Dra</td>\n",
       "      <td>2401579</td>\n",
       "      <td>269.151708</td>\n",
       "      <td>51.488972</td>\n",
       "      <td>1.NO</td>\n",
       "      <td>1</td>\n",
       "      <td>NO</td>\n",
       "      <td></td>\n",
       "      <td>(0,0)</td>\n",
       "      <td></td>\n",
       "      <td>spectra_normalized/02401579_irs_renorm.pkl</td>\n",
       "      <td></td>\n",
       "    </tr>\n",
       "  </tbody>\n",
       "</table>\n",
       "</div>"
      ],
      "text/plain": [
       "   object_name      tdt          ra        dec full_classifier group subgroup  \\\n",
       "0     NGC 6543  2400714  269.639167  66.633194            4.PN     4       PN   \n",
       "1     NGC 6543  2400807  269.639167  66.633194            4.PN     4       PN   \n",
       "2     NGC 6543  2400910  269.639125  66.633194            4.PN     4       PN   \n",
       "3     NGC 7027  2401183  316.757125  42.235861            4.PU     4       PU   \n",
       "4  {gamma} Dra  2401579  269.151708  51.488972            1.NO     1       NO   \n",
       "\n",
       "  uncertainty_flag   note                                     file_path  \\\n",
       "0                            spectra_normalized/02400714_irs_renorm.pkl   \n",
       "1                            spectra_normalized/02400807_irs_renorm.pkl   \n",
       "2                            spectra_normalized/02400910_irs_renorm.pkl   \n",
       "3                            spectra_normalized/02401183_irs_renorm.pkl   \n",
       "4                   (0,0)    spectra_normalized/02401579_irs_renorm.pkl   \n",
       "\n",
       "  object_type  \n",
       "0          PN  \n",
       "1          PN  \n",
       "2          PN  \n",
       "3          PN  \n",
       "4              "
      ]
     },
     "execution_count": 21,
     "metadata": {},
     "output_type": "execute_result"
    }
   ],
   "source": [
    "new_meta.head()"
   ]
  },
  {
   "cell_type": "code",
   "execution_count": null,
   "metadata": {},
   "outputs": [],
   "source": []
  }
 ],
 "metadata": {
  "kernelspec": {
   "display_name": "Python [conda env:py3]",
   "language": "python",
   "name": "conda-env-py3-py"
  },
  "language_info": {
   "codemirror_mode": {
    "name": "ipython",
    "version": 3
   },
   "file_extension": ".py",
   "mimetype": "text/x-python",
   "name": "python",
   "nbconvert_exporter": "python",
   "pygments_lexer": "ipython3",
   "version": "3.6.5"
  }
 },
 "nbformat": 4,
 "nbformat_minor": 2
}
