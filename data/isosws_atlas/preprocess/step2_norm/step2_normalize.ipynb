{
 "cells": [
  {
   "cell_type": "code",
   "execution_count": 1,
   "metadata": {},
   "outputs": [],
   "source": [
    "%matplotlib inline\n",
    "\n",
    "import matplotlib.pyplot as plt\n",
    "import numpy as np\n",
    "import pandas as pd\n",
    "\n",
    "from mattpy.utils import smooth"
   ]
  },
  {
   "cell_type": "code",
   "execution_count": 10,
   "metadata": {},
   "outputs": [],
   "source": [
    "def save_shift_figure(plot_dir, classifier, iso_filename, wave, flux,\n",
    "                      smooth_flux, smooth_flux_shift, verbose=True):\n",
    "    \"\"\"Saves a .PDF figure of the raw spectrum and shifted smoothed spectrum.\"\"\"\n",
    "    \n",
    "    # Plot the raw spectrum and smoothed spectrum.\n",
    "    plt.plot(wave, flux)\n",
    "    plt.plot(wave, smooth_flux)\n",
    "    plt.axhline(y=0, color='k', ls='--', lw=1)\n",
    "    plt.axhline(y=np.nanmax(smooth_flux_shift), ls='--', lw=1,\n",
    "                zorder=-10, color='k')\n",
    "    \n",
    "    # Save to disk.\n",
    "    plt.title(iso_filename + ' - classifier: ' + classifier)\n",
    "    savepath = plot_dir + iso_filename + '_A.pdf'\n",
    "    plt.savefig(savepath, format='pdf', bbox_inches='tight')\n",
    "    plt.close()\n",
    "    \n",
    "    if verbose:\n",
    "        print('Saved: ', savepath)\n",
    "    \n",
    "    return\n",
    "\n",
    "\n",
    "def save_renorm_figure(plot_dir, classifier, iso_filename, renorm_wave,\n",
    "                       renorm_flux_shift, smooth_flux_shift,\n",
    "                       verbose=True):\n",
    "    \"\"\"Saves a .PDF figure of the renormalized spectrum.\"\"\"\n",
    "    \n",
    "    # Plot the renormalized/shifted spectrum.\n",
    "    plt.plot(renorm_wave, renorm_flux_shift)\n",
    "    plt.plot(renorm_wave, smooth_flux_shift)\n",
    "    plt.axhline(y=0, color='red', ls='--', lw=1)\n",
    "    plt.axhline(y=1, ls='--', lw=1, zorder=-10, color='red')\n",
    "    \n",
    "    # Save to disk.\n",
    "    plt.title(iso_filename + ' - classifier: ' + classifier)\n",
    "    savepath = plot_dir + iso_filename + '_B.pdf'\n",
    "    plt.savefig(savepath, format='pdf', bbox_inches='tight')\n",
    "    plt.close()\n",
    "    \n",
    "    if verbose:\n",
    "        print('Saved: ', savepath)\n",
    "    \n",
    "    return"
   ]
  },
  {
   "cell_type": "code",
   "execution_count": 11,
   "metadata": {},
   "outputs": [],
   "source": [
    "def read_spectrum(file_path):\n",
    "    \"\"\"Returns an ISO spectrum (wave, flux, etc.) from a pickle.\"\"\"\n",
    "    spectrum = pd.read_pickle(file_path)\n",
    "    \n",
    "    wave = spectrum['wavelength']\n",
    "    flux = spectrum['flux']\n",
    "    specerr = spectrum['spec_error']\n",
    "    normerr = spectrum['norm_error']\n",
    "    fluxerr = specerr + normerr\n",
    "    \n",
    "    return wave, flux, fluxerr\n",
    "\n",
    "\n",
    "def smooth_spectrum(flux, **kwargs):\n",
    "    \"\"\"Returns a shifted, smoothed spectrum, ready for normalization.\"\"\"\n",
    "    spec_min = np.nanmin(flux)\n",
    "    spec_max = np.nanmax(flux)\n",
    "    # print(spec_min, spec_max)\n",
    "\n",
    "    # Smooth it to find the general low/high points.    \n",
    "    smooth_flux = smooth(flux.values, **kwargs)\n",
    "    \n",
    "    # Smooth it to find the general low/high points, and shift to zero.\n",
    "    smooth_flux_shift = smooth(flux.values - spec_min, **kwargs)\n",
    "\n",
    "    # Upper normalization factor (s.t. the maximum of the continuum is 1.0).\n",
    "    norm_factor = np.nanmax(smooth_flux_shift)\n",
    "\n",
    "    return spec_min, spec_max, smooth_flux, smooth_flux_shift, norm_factor\n",
    "\n",
    "\n",
    "def normalize_spectrum(file_path, classifier, plot=True, verbose=True):\n",
    "    \"\"\"Normalizes an ISO spectrum to span 0-1 (the main curvature).\"\"\"\n",
    "    wave, flux, fluxerr = read_spectrum('../' + file_path)\n",
    "    \n",
    "    # Shift spectrum and get normalization factors.\n",
    "    # Minimum should now=0.0.\n",
    "    spec_min, spec_max, smooth_flux, smooth_flux_shift, norm_factor = \\\n",
    "        smooth_spectrum(flux, window_len=40)\n",
    "\n",
    "    # Final renormalized quantities.\n",
    "    renorm_wave = wave\n",
    "    renorm_flux_shift = (flux - spec_min) / norm_factor\n",
    "    \n",
    "    # Plotting directory\n",
    "    plot_dir = 'step2_norm/plots/'\n",
    "    \n",
    "    # Save file name.\n",
    "    iso_filename = file_path.split('/')[-1].split('.pkl')[0]\n",
    "    \n",
    "    if plot:\n",
    "        # Save a figure showing the initial smooth/shift.\n",
    "        save_shift_figure(plot_dir, classifier, iso_filename,\n",
    "                          wave, flux, smooth_flux, smooth_flux_shift,\n",
    "                          verbose=False)\n",
    "\n",
    "        # Save a figure of the final renormalized spectrum.\n",
    "        save_renorm_figure(plot_dir, classifier, iso_filename,\n",
    "                           renorm_wave, renorm_flux_shift,\n",
    "                           smooth_flux_shift/norm_factor,\n",
    "                           verbose=False)\n",
    "    \n",
    "    return spec_min, spec_max, norm_factor"
   ]
  },
  {
   "cell_type": "code",
   "execution_count": 12,
   "metadata": {},
   "outputs": [],
   "source": [
    "meta = pd.read_pickle('step1_sort/metadata_step1_sorted.pkl')"
   ]
  },
  {
   "cell_type": "code",
   "execution_count": 13,
   "metadata": {},
   "outputs": [],
   "source": [
    "nrows = meta.shape[0]\n",
    "meta;"
   ]
  },
  {
   "cell_type": "code",
   "execution_count": 18,
   "metadata": {},
   "outputs": [],
   "source": [
    "def norm_and_plot(meta):\n",
    "    param_list = []\n",
    "    \n",
    "    for index, filename in enumerate(meta['file_path']):\n",
    "        if index % 200 == 0:\n",
    "            print(index, ' / ', nrows)\n",
    "\n",
    "        # Full classifier\n",
    "        classifier = meta['full_classifier'][index]\n",
    "            \n",
    "        # Perform shift/renormalization\n",
    "        parameters = normalize_spectrum(filename, classifier,\n",
    "                                        plot=True, verbose=False)\n",
    "        \n",
    "        # Save parameters to a list\n",
    "        spec_min, spec_max, norm_factor = parameters\n",
    "        param_list.append([filename, *parameters])\n",
    "        \n",
    "    return param_list"
   ]
  },
  {
   "cell_type": "code",
   "execution_count": 19,
   "metadata": {},
   "outputs": [
    {
     "name": "stdout",
     "output_type": "stream",
     "text": [
      "0  /  1235\n",
      "200  /  1235\n",
      "400  /  1235\n",
      "600  /  1235\n",
      "800  /  1235\n",
      "1000  /  1235\n",
      "1200  /  1235\n"
     ]
    }
   ],
   "source": [
    "par_list = norm_and_plot(meta)"
   ]
  },
  {
   "cell_type": "code",
   "execution_count": 20,
   "metadata": {},
   "outputs": [],
   "source": [
    "np.savetxt('step2_norm/step2_norm_params.txt', par_list, delimiter=',', fmt='%s',\n",
    "           header='iso_filename, spec_min, spec_max, norm_factor (shift first, then norm!!)')"
   ]
  },
  {
   "cell_type": "code",
   "execution_count": null,
   "metadata": {},
   "outputs": [],
   "source": []
  }
 ],
 "metadata": {
  "kernelspec": {
   "display_name": "Python [conda env:py3]",
   "language": "python",
   "name": "conda-env-py3-py"
  },
  "language_info": {
   "codemirror_mode": {
    "name": "ipython",
    "version": 3
   },
   "file_extension": ".py",
   "mimetype": "text/x-python",
   "name": "python",
   "nbconvert_exporter": "python",
   "pygments_lexer": "ipython3",
   "version": "3.6.6"
  }
 },
 "nbformat": 4,
 "nbformat_minor": 2
}
