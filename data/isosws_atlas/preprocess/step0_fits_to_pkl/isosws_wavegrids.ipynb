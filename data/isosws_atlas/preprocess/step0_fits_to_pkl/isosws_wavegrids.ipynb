{
 "cells": [
  {
   "cell_type": "markdown",
   "metadata": {},
   "source": [
    "# ISO-SWS data preprocessing: check wavelength grids"
   ]
  },
  {
   "cell_type": "code",
   "execution_count": 8,
   "metadata": {},
   "outputs": [],
   "source": [
    "import glob\n",
    "import numpy as np\n",
    "import pandas as pd"
   ]
  },
  {
   "cell_type": "code",
   "execution_count": 9,
   "metadata": {},
   "outputs": [],
   "source": [
    "# Some useful functions....\n",
    "\n",
    "def get_wavelength_grid(path):\n",
    "    \"\"\"Return the wavelength grid (as a numpy array) from a pickled pd.DataFrame file.\"\"\"\n",
    "    df = pd.read_pickle(path)\n",
    "    \n",
    "#     print(df.keys())\n",
    "#     return True\n",
    "    wavelength_array = df['wavelength']\n",
    "    return wavelength_array"
   ]
  },
  {
   "cell_type": "markdown",
   "metadata": {},
   "source": [
    "***"
   ]
  },
  {
   "cell_type": "markdown",
   "metadata": {},
   "source": [
    "## Wavelength arrays"
   ]
  },
  {
   "cell_type": "code",
   "execution_count": 10,
   "metadata": {},
   "outputs": [],
   "source": [
    "pickle_dir = 'isosws_dataframes/'\n",
    "pickle_files = np.sort(glob.glob(pickle_dir + '*.pkl'))"
   ]
  },
  {
   "cell_type": "code",
   "execution_count": 11,
   "metadata": {},
   "outputs": [
    {
     "data": {
      "text/plain": [
       "1262"
      ]
     },
     "execution_count": 11,
     "metadata": {},
     "output_type": "execute_result"
    }
   ],
   "source": [
    "len(pickle_files)"
   ]
  },
  {
   "cell_type": "code",
   "execution_count": 12,
   "metadata": {},
   "outputs": [
    {
     "name": "stdout",
     "output_type": "stream",
     "text": [
      "200 / 1262\n",
      "400 / 1262\n",
      "600 / 1262\n",
      "800 / 1262\n",
      "1000 / 1262\n",
      "1200 / 1262\n"
     ]
    }
   ],
   "source": [
    "for index, filename in enumerate(pickle_files):\n",
    "    wave = get_wavelength_grid(filename)\n",
    "    if index == 0:\n",
    "        static_wave = wave\n",
    "        continue\n",
    "#     if index >= 100:\n",
    "#         break\n",
    "        \n",
    "    if index % 200 == 0:\n",
    "        print(index, '/', len(pickle_files))\n",
    "        \n",
    "    if not np.all(static_wave == wave):\n",
    "        raise ValueError('Wavelength arrays not equal...!')\n",
    "    "
   ]
  },
  {
   "cell_type": "markdown",
   "metadata": {},
   "source": [
    "***"
   ]
  },
  {
   "cell_type": "markdown",
   "metadata": {},
   "source": [
    "***"
   ]
  },
  {
   "cell_type": "markdown",
   "metadata": {},
   "source": [
    "***"
   ]
  }
 ],
 "metadata": {
  "kernelspec": {
   "display_name": "Python [conda env:py3]",
   "language": "python",
   "name": "conda-env-py3-py"
  },
  "language_info": {
   "codemirror_mode": {
    "name": "ipython",
    "version": 3
   },
   "file_extension": ".py",
   "mimetype": "text/x-python",
   "name": "python",
   "nbconvert_exporter": "python",
   "pygments_lexer": "ipython3",
   "version": "3.7.2"
  }
 },
 "nbformat": 4,
 "nbformat_minor": 2
}
