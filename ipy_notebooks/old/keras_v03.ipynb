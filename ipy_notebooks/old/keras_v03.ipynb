{
 "cells": [
  {
   "cell_type": "markdown",
   "metadata": {},
   "source": [
    "# Significantly improved accuracy by normalizing spectra prior to NN"
   ]
  },
  {
   "cell_type": "code",
   "execution_count": 1,
   "metadata": {},
   "outputs": [
    {
     "name": "stdout",
     "output_type": "stream",
     "text": [
      "1.10.0\n"
     ]
    }
   ],
   "source": [
    "# TensorFlow and tf.keras\n",
    "import tensorflow as tf\n",
    "from tensorflow import keras\n",
    "\n",
    "# Helper libraries\n",
    "import decimal\n",
    "import glob\n",
    "import matplotlib.pyplot as plt\n",
    "import numpy as np\n",
    "import pandas as pd\n",
    "from IPython.core.debugger import set_trace as st\n",
    "from sklearn.model_selection import train_test_split\n",
    "\n",
    "print(tf.__version__)"
   ]
  },
  {
   "cell_type": "code",
   "execution_count": 2,
   "metadata": {},
   "outputs": [],
   "source": [
    "def smart_round(value, style=\"0.001\"):\n",
    "    \"\"\"Round a float correctly, returning a string.\"\"\"\n",
    "    tmp = decimal.Decimal(value).quantize(decimal.Decimal(style))\n",
    "    return str(tmp)"
   ]
  },
  {
   "cell_type": "markdown",
   "metadata": {},
   "source": [
    "## Dataset: ISO-SWS"
   ]
  },
  {
   "cell_type": "code",
   "execution_count": 3,
   "metadata": {},
   "outputs": [],
   "source": [
    "# Needed directories\n",
    "base_dir = '../data/isosws_atlas/'\n",
    "\n",
    "# Pickles containing our spectra in the form of pandas dataframes:\n",
    "spec_dir = base_dir + 'spectra/'\n",
    "spec_files = np.sort(glob.glob(spec_dir + '*.pkl'))\n",
    "\n",
    "# Metadata pickle (pd.dataframe). Note each entry contains a pointer to the corresponding spectrum pickle.\n",
    "metadata = base_dir + 'metadata.pkl'"
   ]
  },
  {
   "cell_type": "code",
   "execution_count": 4,
   "metadata": {},
   "outputs": [],
   "source": [
    "# Load the metadata pickle.\n",
    "meta = pd.read_pickle(metadata)"
   ]
  },
  {
   "cell_type": "code",
   "execution_count": 5,
   "metadata": {},
   "outputs": [
    {
     "data": {
      "text/html": [
       "<div>\n",
       "<style scoped>\n",
       "    .dataframe tbody tr th:only-of-type {\n",
       "        vertical-align: middle;\n",
       "    }\n",
       "\n",
       "    .dataframe tbody tr th {\n",
       "        vertical-align: top;\n",
       "    }\n",
       "\n",
       "    .dataframe thead th {\n",
       "        text-align: right;\n",
       "    }\n",
       "</style>\n",
       "<table border=\"1\" class=\"dataframe\">\n",
       "  <thead>\n",
       "    <tr style=\"text-align: right;\">\n",
       "      <th></th>\n",
       "      <th>object_name</th>\n",
       "      <th>tdt</th>\n",
       "      <th>ra</th>\n",
       "      <th>dec</th>\n",
       "      <th>full_classifier</th>\n",
       "      <th>group</th>\n",
       "      <th>subgroup</th>\n",
       "      <th>uncertainty_flag</th>\n",
       "      <th>note</th>\n",
       "      <th></th>\n",
       "      <th>file_path</th>\n",
       "      <th>object_type</th>\n",
       "      <th>data_ok</th>\n",
       "    </tr>\n",
       "  </thead>\n",
       "  <tbody>\n",
       "    <tr>\n",
       "      <th>0</th>\n",
       "      <td>W Cet</td>\n",
       "      <td>37802225</td>\n",
       "      <td>0.532083</td>\n",
       "      <td>-14.676639</td>\n",
       "      <td>2.SEa:</td>\n",
       "      <td>2</td>\n",
       "      <td>SEa</td>\n",
       "      <td>1</td>\n",
       "      <td></td>\n",
       "      <td></td>\n",
       "      <td>spectra/37802225_sws.pkl</td>\n",
       "      <td>S*</td>\n",
       "      <td>True</td>\n",
       "    </tr>\n",
       "    <tr>\n",
       "      <th>1</th>\n",
       "      <td>SV And</td>\n",
       "      <td>42801007</td>\n",
       "      <td>1.083333</td>\n",
       "      <td>40.110333</td>\n",
       "      <td>2.SEa:</td>\n",
       "      <td>2</td>\n",
       "      <td>SEa</td>\n",
       "      <td>1</td>\n",
       "      <td></td>\n",
       "      <td></td>\n",
       "      <td>spectra/42801007_sws.pkl</td>\n",
       "      <td>Mira</td>\n",
       "      <td>True</td>\n",
       "    </tr>\n",
       "    <tr>\n",
       "      <th>2</th>\n",
       "      <td>SV And</td>\n",
       "      <td>80800708</td>\n",
       "      <td>1.083333</td>\n",
       "      <td>40.110333</td>\n",
       "      <td>2.SEa</td>\n",
       "      <td>2</td>\n",
       "      <td>SEa</td>\n",
       "      <td></td>\n",
       "      <td></td>\n",
       "      <td></td>\n",
       "      <td>spectra/80800708_sws.pkl</td>\n",
       "      <td>Mira</td>\n",
       "      <td>True</td>\n",
       "    </tr>\n",
       "    <tr>\n",
       "      <th>3</th>\n",
       "      <td>CIT 1</td>\n",
       "      <td>78201008</td>\n",
       "      <td>1.717917</td>\n",
       "      <td>43.076667</td>\n",
       "      <td>7</td>\n",
       "      <td>7</td>\n",
       "      <td></td>\n",
       "      <td></td>\n",
       "      <td>W</td>\n",
       "      <td></td>\n",
       "      <td>spectra/78201008_sws.pkl</td>\n",
       "      <td>Mira</td>\n",
       "      <td>True</td>\n",
       "    </tr>\n",
       "    <tr>\n",
       "      <th>4</th>\n",
       "      <td>HR 10</td>\n",
       "      <td>37802001</td>\n",
       "      <td>1.825833</td>\n",
       "      <td>-17.387000</td>\n",
       "      <td>1.NM:</td>\n",
       "      <td>1</td>\n",
       "      <td>NM</td>\n",
       "      <td>1</td>\n",
       "      <td></td>\n",
       "      <td></td>\n",
       "      <td>spectra/37802001_sws.pkl</td>\n",
       "      <td>Star</td>\n",
       "      <td>True</td>\n",
       "    </tr>\n",
       "    <tr>\n",
       "      <th>5</th>\n",
       "      <td>{beta} Cas</td>\n",
       "      <td>28501420</td>\n",
       "      <td>2.293625</td>\n",
       "      <td>59.149944</td>\n",
       "      <td>1.N</td>\n",
       "      <td>1</td>\n",
       "      <td>N</td>\n",
       "      <td></td>\n",
       "      <td></td>\n",
       "      <td></td>\n",
       "      <td>spectra/28501420_sws.pkl</td>\n",
       "      <td>Star</td>\n",
       "      <td>True</td>\n",
       "    </tr>\n",
       "    <tr>\n",
       "      <th>6</th>\n",
       "      <td>V633 Cas</td>\n",
       "      <td>43501514</td>\n",
       "      <td>2.860833</td>\n",
       "      <td>58.834444</td>\n",
       "      <td>5.SE</td>\n",
       "      <td>5</td>\n",
       "      <td>SE</td>\n",
       "      <td></td>\n",
       "      <td>W</td>\n",
       "      <td></td>\n",
       "      <td>spectra/43501514_sws.pkl</td>\n",
       "      <td>Ae*</td>\n",
       "      <td>True</td>\n",
       "    </tr>\n",
       "    <tr>\n",
       "      <th>7</th>\n",
       "      <td>NGC 40</td>\n",
       "      <td>44401917</td>\n",
       "      <td>3.253792</td>\n",
       "      <td>72.522222</td>\n",
       "      <td>4.PN</td>\n",
       "      <td>4</td>\n",
       "      <td>PN</td>\n",
       "      <td></td>\n",
       "      <td></td>\n",
       "      <td></td>\n",
       "      <td>spectra/44401917_sws.pkl</td>\n",
       "      <td>PN</td>\n",
       "      <td>True</td>\n",
       "    </tr>\n",
       "    <tr>\n",
       "      <th>8</th>\n",
       "      <td>NGC 40</td>\n",
       "      <td>30003803</td>\n",
       "      <td>3.254583</td>\n",
       "      <td>72.521972</td>\n",
       "      <td>4.PN</td>\n",
       "      <td>4</td>\n",
       "      <td>PN</td>\n",
       "      <td></td>\n",
       "      <td></td>\n",
       "      <td></td>\n",
       "      <td>spectra/30003803_sws.pkl</td>\n",
       "      <td>PN</td>\n",
       "      <td>True</td>\n",
       "    </tr>\n",
       "    <tr>\n",
       "      <th>9</th>\n",
       "      <td>HR 48</td>\n",
       "      <td>55502138</td>\n",
       "      <td>3.660000</td>\n",
       "      <td>-18.932889</td>\n",
       "      <td>1.NO</td>\n",
       "      <td>1</td>\n",
       "      <td>NO</td>\n",
       "      <td></td>\n",
       "      <td></td>\n",
       "      <td></td>\n",
       "      <td>spectra/55502138_sws.pkl</td>\n",
       "      <td>Candidate_LP*</td>\n",
       "      <td>True</td>\n",
       "    </tr>\n",
       "    <tr>\n",
       "      <th>10</th>\n",
       "      <td>S Scl</td>\n",
       "      <td>73500129</td>\n",
       "      <td>3.842417</td>\n",
       "      <td>-32.045389</td>\n",
       "      <td>2.SEb</td>\n",
       "      <td>2</td>\n",
       "      <td>SEb</td>\n",
       "      <td></td>\n",
       "      <td></td>\n",
       "      <td></td>\n",
       "      <td>spectra/73500129_sws.pkl</td>\n",
       "      <td>Mira</td>\n",
       "      <td>True</td>\n",
       "    </tr>\n",
       "    <tr>\n",
       "      <th>11</th>\n",
       "      <td>S Scl</td>\n",
       "      <td>37102018</td>\n",
       "      <td>3.842458</td>\n",
       "      <td>-32.045556</td>\n",
       "      <td>2.SEb</td>\n",
       "      <td>2</td>\n",
       "      <td>SEb</td>\n",
       "      <td></td>\n",
       "      <td></td>\n",
       "      <td></td>\n",
       "      <td>spectra/37102018_sws.pkl</td>\n",
       "      <td>Mira</td>\n",
       "      <td>True</td>\n",
       "    </tr>\n",
       "    <tr>\n",
       "      <th>12</th>\n",
       "      <td>IRAS 00127+5437</td>\n",
       "      <td>39902101</td>\n",
       "      <td>3.850542</td>\n",
       "      <td>54.904278</td>\n",
       "      <td>4.SE::</td>\n",
       "      <td>4</td>\n",
       "      <td>SE</td>\n",
       "      <td>2</td>\n",
       "      <td></td>\n",
       "      <td></td>\n",
       "      <td>spectra/39902101_sws.pkl</td>\n",
       "      <td>IR</td>\n",
       "      <td>True</td>\n",
       "    </tr>\n",
       "    <tr>\n",
       "      <th>13</th>\n",
       "      <td>VX And</td>\n",
       "      <td>42801502</td>\n",
       "      <td>4.975417</td>\n",
       "      <td>44.709722</td>\n",
       "      <td>2.CE</td>\n",
       "      <td>2</td>\n",
       "      <td>CE</td>\n",
       "      <td></td>\n",
       "      <td></td>\n",
       "      <td></td>\n",
       "      <td>spectra/42801502_sws.pkl</td>\n",
       "      <td>semi-regV*</td>\n",
       "      <td>True</td>\n",
       "    </tr>\n",
       "    <tr>\n",
       "      <th>14</th>\n",
       "      <td>T Cet</td>\n",
       "      <td>55502308</td>\n",
       "      <td>5.441792</td>\n",
       "      <td>-20.058556</td>\n",
       "      <td>2.SEa</td>\n",
       "      <td>2</td>\n",
       "      <td>SEa</td>\n",
       "      <td></td>\n",
       "      <td></td>\n",
       "      <td></td>\n",
       "      <td>spectra/55502308_sws.pkl</td>\n",
       "      <td>S*</td>\n",
       "      <td>True</td>\n",
       "    </tr>\n",
       "    <tr>\n",
       "      <th>15</th>\n",
       "      <td>T Cet</td>\n",
       "      <td>37801819</td>\n",
       "      <td>5.444083</td>\n",
       "      <td>-20.057778</td>\n",
       "      <td>2.SEa</td>\n",
       "      <td>2</td>\n",
       "      <td>SEa</td>\n",
       "      <td></td>\n",
       "      <td>F</td>\n",
       "      <td></td>\n",
       "      <td>spectra/37801819_sws.pkl</td>\n",
       "      <td>S*</td>\n",
       "      <td>True</td>\n",
       "    </tr>\n",
       "    <tr>\n",
       "      <th>16</th>\n",
       "      <td>RAFGL 5017</td>\n",
       "      <td>54900858</td>\n",
       "      <td>5.450000</td>\n",
       "      <td>-40.286944</td>\n",
       "      <td>4.SEC:</td>\n",
       "      <td>4</td>\n",
       "      <td>SEC</td>\n",
       "      <td>1</td>\n",
       "      <td></td>\n",
       "      <td></td>\n",
       "      <td>spectra/54900858_sws.pkl</td>\n",
       "      <td>Mira</td>\n",
       "      <td>True</td>\n",
       "    </tr>\n",
       "    <tr>\n",
       "      <th>17</th>\n",
       "      <td>T Cas</td>\n",
       "      <td>40201208</td>\n",
       "      <td>5.809375</td>\n",
       "      <td>55.792694</td>\n",
       "      <td>2.SEa</td>\n",
       "      <td>2</td>\n",
       "      <td>SEa</td>\n",
       "      <td></td>\n",
       "      <td></td>\n",
       "      <td></td>\n",
       "      <td>spectra/40201208_sws.pkl</td>\n",
       "      <td>Mira</td>\n",
       "      <td>True</td>\n",
       "    </tr>\n",
       "    <tr>\n",
       "      <th>18</th>\n",
       "      <td>IRAS 00210+6221</td>\n",
       "      <td>40401901</td>\n",
       "      <td>5.963333</td>\n",
       "      <td>62.635278</td>\n",
       "      <td>4.CR</td>\n",
       "      <td>4</td>\n",
       "      <td>CR</td>\n",
       "      <td></td>\n",
       "      <td></td>\n",
       "      <td></td>\n",
       "      <td>spectra/40401901_sws.pkl</td>\n",
       "      <td>C*</td>\n",
       "      <td>True</td>\n",
       "    </tr>\n",
       "    <tr>\n",
       "      <th>19</th>\n",
       "      <td>IRAS 00211+6549</td>\n",
       "      <td>44402001</td>\n",
       "      <td>5.991667</td>\n",
       "      <td>66.100889</td>\n",
       "      <td>5.F:</td>\n",
       "      <td>5</td>\n",
       "      <td>F</td>\n",
       "      <td>1</td>\n",
       "      <td></td>\n",
       "      <td></td>\n",
       "      <td>spectra/44402001_sws.pkl</td>\n",
       "      <td>YSO</td>\n",
       "      <td>True</td>\n",
       "    </tr>\n",
       "    <tr>\n",
       "      <th>20</th>\n",
       "      <td>R And</td>\n",
       "      <td>40201723</td>\n",
       "      <td>6.008333</td>\n",
       "      <td>38.576944</td>\n",
       "      <td>2.SEc</td>\n",
       "      <td>2</td>\n",
       "      <td>SEc</td>\n",
       "      <td></td>\n",
       "      <td></td>\n",
       "      <td></td>\n",
       "      <td>spectra/40201723_sws.pkl</td>\n",
       "      <td>S*</td>\n",
       "      <td>True</td>\n",
       "    </tr>\n",
       "    <tr>\n",
       "      <th>21</th>\n",
       "      <td>47 Tuc</td>\n",
       "      <td>74803701</td>\n",
       "      <td>6.021250</td>\n",
       "      <td>-72.080694</td>\n",
       "      <td>7</td>\n",
       "      <td>7</td>\n",
       "      <td></td>\n",
       "      <td></td>\n",
       "      <td>R</td>\n",
       "      <td></td>\n",
       "      <td>spectra/74803701_sws.pkl</td>\n",
       "      <td>GlCl</td>\n",
       "      <td>True</td>\n",
       "    </tr>\n",
       "    <tr>\n",
       "      <th>22</th>\n",
       "      <td>Off-{beta}Hyi</td>\n",
       "      <td>17900204</td>\n",
       "      <td>6.428542</td>\n",
       "      <td>-77.254778</td>\n",
       "      <td>7</td>\n",
       "      <td>7</td>\n",
       "      <td></td>\n",
       "      <td></td>\n",
       "      <td></td>\n",
       "      <td></td>\n",
       "      <td>spectra/17900204_sws.pkl</td>\n",
       "      <td>V*</td>\n",
       "      <td>True</td>\n",
       "    </tr>\n",
       "    <tr>\n",
       "      <th>23</th>\n",
       "      <td>{beta} Hyi</td>\n",
       "      <td>85000604</td>\n",
       "      <td>6.433708</td>\n",
       "      <td>-77.254611</td>\n",
       "      <td>1.N</td>\n",
       "      <td>1</td>\n",
       "      <td>N</td>\n",
       "      <td></td>\n",
       "      <td></td>\n",
       "      <td></td>\n",
       "      <td>spectra/85000604_sws.pkl</td>\n",
       "      <td>V*</td>\n",
       "      <td>True</td>\n",
       "    </tr>\n",
       "    <tr>\n",
       "      <th>24</th>\n",
       "      <td>Off-{beta}Hyi</td>\n",
       "      <td>9200604</td>\n",
       "      <td>6.447250</td>\n",
       "      <td>-77.254806</td>\n",
       "      <td>7</td>\n",
       "      <td>7</td>\n",
       "      <td></td>\n",
       "      <td></td>\n",
       "      <td>F</td>\n",
       "      <td></td>\n",
       "      <td>spectra/09200604_sws.pkl</td>\n",
       "      <td>V*</td>\n",
       "      <td>True</td>\n",
       "    </tr>\n",
       "    <tr>\n",
       "      <th>25</th>\n",
       "      <td>{kappa} Phe</td>\n",
       "      <td>23200502</td>\n",
       "      <td>6.550667</td>\n",
       "      <td>-43.680306</td>\n",
       "      <td>1.NM:</td>\n",
       "      <td>1</td>\n",
       "      <td>NM</td>\n",
       "      <td>1</td>\n",
       "      <td></td>\n",
       "      <td></td>\n",
       "      <td>spectra/23200502_sws.pkl</td>\n",
       "      <td>Star</td>\n",
       "      <td>True</td>\n",
       "    </tr>\n",
       "    <tr>\n",
       "      <th>26</th>\n",
       "      <td>VX Cas</td>\n",
       "      <td>42701004</td>\n",
       "      <td>7.833333</td>\n",
       "      <td>62.000000</td>\n",
       "      <td>7</td>\n",
       "      <td>7</td>\n",
       "      <td></td>\n",
       "      <td></td>\n",
       "      <td>W</td>\n",
       "      <td></td>\n",
       "      <td>spectra/42701004_sws.pkl</td>\n",
       "      <td>Ae*</td>\n",
       "      <td>True</td>\n",
       "    </tr>\n",
       "    <tr>\n",
       "      <th>27</th>\n",
       "      <td>RNO 1B</td>\n",
       "      <td>28500902</td>\n",
       "      <td>9.192750</td>\n",
       "      <td>63.481778</td>\n",
       "      <td>5.F</td>\n",
       "      <td>5</td>\n",
       "      <td>F</td>\n",
       "      <td></td>\n",
       "      <td></td>\n",
       "      <td></td>\n",
       "      <td>spectra/28500902_sws.pkl</td>\n",
       "      <td>FUOr</td>\n",
       "      <td>True</td>\n",
       "    </tr>\n",
       "    <tr>\n",
       "      <th>28</th>\n",
       "      <td>M 31</td>\n",
       "      <td>40001501</td>\n",
       "      <td>10.691708</td>\n",
       "      <td>41.269972</td>\n",
       "      <td>7</td>\n",
       "      <td>7</td>\n",
       "      <td></td>\n",
       "      <td></td>\n",
       "      <td>G</td>\n",
       "      <td></td>\n",
       "      <td>spectra/40001501_sws.pkl</td>\n",
       "      <td>Galaxy</td>\n",
       "      <td>True</td>\n",
       "    </tr>\n",
       "    <tr>\n",
       "      <th>29</th>\n",
       "      <td>WR 1</td>\n",
       "      <td>42500402</td>\n",
       "      <td>10.868333</td>\n",
       "      <td>64.762361</td>\n",
       "      <td>7</td>\n",
       "      <td>7</td>\n",
       "      <td></td>\n",
       "      <td></td>\n",
       "      <td></td>\n",
       "      <td></td>\n",
       "      <td>spectra/42500402_sws.pkl</td>\n",
       "      <td>WR*</td>\n",
       "      <td>True</td>\n",
       "    </tr>\n",
       "    <tr>\n",
       "      <th>...</th>\n",
       "      <td>...</td>\n",
       "      <td>...</td>\n",
       "      <td>...</td>\n",
       "      <td>...</td>\n",
       "      <td>...</td>\n",
       "      <td>...</td>\n",
       "      <td>...</td>\n",
       "      <td>...</td>\n",
       "      <td>...</td>\n",
       "      <td>...</td>\n",
       "      <td>...</td>\n",
       "      <td>...</td>\n",
       "      <td>...</td>\n",
       "    </tr>\n",
       "    <tr>\n",
       "      <th>1209</th>\n",
       "      <td>{upsilon} Peg</td>\n",
       "      <td>21900653</td>\n",
       "      <td>351.344375</td>\n",
       "      <td>23.404111</td>\n",
       "      <td>1.N:</td>\n",
       "      <td>1</td>\n",
       "      <td>N</td>\n",
       "      <td>1</td>\n",
       "      <td></td>\n",
       "      <td></td>\n",
       "      <td>spectra/21900653_sws.pkl</td>\n",
       "      <td>PM*</td>\n",
       "      <td>True</td>\n",
       "    </tr>\n",
       "    <tr>\n",
       "      <th>1210</th>\n",
       "      <td>NGC 7662</td>\n",
       "      <td>43700427</td>\n",
       "      <td>351.474417</td>\n",
       "      <td>42.534833</td>\n",
       "      <td>4.PN</td>\n",
       "      <td>4</td>\n",
       "      <td>PN</td>\n",
       "      <td></td>\n",
       "      <td></td>\n",
       "      <td></td>\n",
       "      <td>spectra/43700427_sws.pkl</td>\n",
       "      <td>PN</td>\n",
       "      <td>True</td>\n",
       "    </tr>\n",
       "    <tr>\n",
       "      <th>1211</th>\n",
       "      <td>Hb 12</td>\n",
       "      <td>43700330</td>\n",
       "      <td>351.561167</td>\n",
       "      <td>58.181861</td>\n",
       "      <td>4.SECe</td>\n",
       "      <td>4</td>\n",
       "      <td>SECe</td>\n",
       "      <td></td>\n",
       "      <td></td>\n",
       "      <td></td>\n",
       "      <td>spectra/43700330_sws.pkl</td>\n",
       "      <td></td>\n",
       "      <td>True</td>\n",
       "    </tr>\n",
       "    <tr>\n",
       "      <th>1212</th>\n",
       "      <td>RU Phe</td>\n",
       "      <td>34401919</td>\n",
       "      <td>352.034583</td>\n",
       "      <td>-47.458139</td>\n",
       "      <td>2.SEc:</td>\n",
       "      <td>2</td>\n",
       "      <td>SEc</td>\n",
       "      <td>1</td>\n",
       "      <td></td>\n",
       "      <td></td>\n",
       "      <td>spectra/34401919_sws.pkl</td>\n",
       "      <td>Mira</td>\n",
       "      <td>True</td>\n",
       "    </tr>\n",
       "    <tr>\n",
       "      <th>1213</th>\n",
       "      <td>AFGL 3099</td>\n",
       "      <td>78200523</td>\n",
       "      <td>352.070417</td>\n",
       "      <td>10.911111</td>\n",
       "      <td>3.CR</td>\n",
       "      <td>3</td>\n",
       "      <td>CR</td>\n",
       "      <td></td>\n",
       "      <td></td>\n",
       "      <td></td>\n",
       "      <td>spectra/78200523_sws.pkl</td>\n",
       "      <td>Mira</td>\n",
       "      <td>True</td>\n",
       "    </tr>\n",
       "    <tr>\n",
       "      <th>1214</th>\n",
       "      <td>IRAS 23262+6401</td>\n",
       "      <td>43305805</td>\n",
       "      <td>352.115417</td>\n",
       "      <td>64.292472</td>\n",
       "      <td>5.SA</td>\n",
       "      <td>5</td>\n",
       "      <td>SA</td>\n",
       "      <td></td>\n",
       "      <td></td>\n",
       "      <td></td>\n",
       "      <td>spectra/43305805_sws.pkl</td>\n",
       "      <td>IR</td>\n",
       "      <td>True</td>\n",
       "    </tr>\n",
       "    <tr>\n",
       "      <th>1215</th>\n",
       "      <td>V582 Cas</td>\n",
       "      <td>38501620</td>\n",
       "      <td>352.545208</td>\n",
       "      <td>60.276139</td>\n",
       "      <td>2.SEc</td>\n",
       "      <td>2</td>\n",
       "      <td>SEc</td>\n",
       "      <td></td>\n",
       "      <td></td>\n",
       "      <td></td>\n",
       "      <td>spectra/38501620_sws.pkl</td>\n",
       "      <td>semi-regV*</td>\n",
       "      <td>True</td>\n",
       "    </tr>\n",
       "    <tr>\n",
       "      <th>1216</th>\n",
       "      <td>V582 Cas</td>\n",
       "      <td>42300804</td>\n",
       "      <td>352.613875</td>\n",
       "      <td>57.976250</td>\n",
       "      <td>2.SEc</td>\n",
       "      <td>2</td>\n",
       "      <td>SEc</td>\n",
       "      <td></td>\n",
       "      <td></td>\n",
       "      <td></td>\n",
       "      <td>spectra/42300804_sws.pkl</td>\n",
       "      <td>semi-regV*</td>\n",
       "      <td>True</td>\n",
       "    </tr>\n",
       "    <tr>\n",
       "      <th>1217</th>\n",
       "      <td>IRAS 23304+6147</td>\n",
       "      <td>24800452</td>\n",
       "      <td>353.187250</td>\n",
       "      <td>62.063750</td>\n",
       "      <td>4.CT</td>\n",
       "      <td>4</td>\n",
       "      <td>CT</td>\n",
       "      <td></td>\n",
       "      <td></td>\n",
       "      <td></td>\n",
       "      <td>spectra/24800452_sws.pkl</td>\n",
       "      <td>post-AGB*</td>\n",
       "      <td>True</td>\n",
       "    </tr>\n",
       "    <tr>\n",
       "      <th>1218</th>\n",
       "      <td>IRAS 23304+6147</td>\n",
       "      <td>39601867</td>\n",
       "      <td>353.187250</td>\n",
       "      <td>62.063778</td>\n",
       "      <td>4.CT</td>\n",
       "      <td>4</td>\n",
       "      <td>CT</td>\n",
       "      <td></td>\n",
       "      <td></td>\n",
       "      <td></td>\n",
       "      <td>spectra/39601867_sws.pkl</td>\n",
       "      <td>post-AGB*</td>\n",
       "      <td>True</td>\n",
       "    </tr>\n",
       "    <tr>\n",
       "      <th>1219</th>\n",
       "      <td>IRAS 23304+6147</td>\n",
       "      <td>8502452</td>\n",
       "      <td>353.187292</td>\n",
       "      <td>62.063750</td>\n",
       "      <td>4.CT</td>\n",
       "      <td>4</td>\n",
       "      <td>CT</td>\n",
       "      <td></td>\n",
       "      <td>F</td>\n",
       "      <td></td>\n",
       "      <td>spectra/08502452_sws.pkl</td>\n",
       "      <td>post-AGB*</td>\n",
       "      <td>True</td>\n",
       "    </tr>\n",
       "    <tr>\n",
       "      <th>1220</th>\n",
       "      <td>IRAS 23321+6545</td>\n",
       "      <td>25500248</td>\n",
       "      <td>353.593875</td>\n",
       "      <td>66.030667</td>\n",
       "      <td>4.CN:</td>\n",
       "      <td>4</td>\n",
       "      <td>CN</td>\n",
       "      <td>1</td>\n",
       "      <td></td>\n",
       "      <td></td>\n",
       "      <td>spectra/25500248_sws.pkl</td>\n",
       "      <td>C*</td>\n",
       "      <td>True</td>\n",
       "    </tr>\n",
       "    <tr>\n",
       "      <th>1221</th>\n",
       "      <td>IRC +40540</td>\n",
       "      <td>38201557</td>\n",
       "      <td>353.616083</td>\n",
       "      <td>43.550111</td>\n",
       "      <td>3.CR</td>\n",
       "      <td>3</td>\n",
       "      <td>CR</td>\n",
       "      <td></td>\n",
       "      <td></td>\n",
       "      <td></td>\n",
       "      <td>spectra/38201557_sws.pkl</td>\n",
       "      <td>Mira</td>\n",
       "      <td>True</td>\n",
       "    </tr>\n",
       "    <tr>\n",
       "      <th>1222</th>\n",
       "      <td>Nova Cas 1993</td>\n",
       "      <td>24800307</td>\n",
       "      <td>355.446625</td>\n",
       "      <td>57.517028</td>\n",
       "      <td>6</td>\n",
       "      <td>6</td>\n",
       "      <td></td>\n",
       "      <td></td>\n",
       "      <td></td>\n",
       "      <td></td>\n",
       "      <td>spectra/24800307_sws.pkl</td>\n",
       "      <td>Nova</td>\n",
       "      <td>True</td>\n",
       "    </tr>\n",
       "    <tr>\n",
       "      <th>1223</th>\n",
       "      <td>R Aqr</td>\n",
       "      <td>18100530</td>\n",
       "      <td>355.955667</td>\n",
       "      <td>-15.284528</td>\n",
       "      <td>2.SEc</td>\n",
       "      <td>2</td>\n",
       "      <td>SEc</td>\n",
       "      <td></td>\n",
       "      <td></td>\n",
       "      <td></td>\n",
       "      <td>spectra/18100530_sws.pkl</td>\n",
       "      <td>Symbiotic*</td>\n",
       "      <td>True</td>\n",
       "    </tr>\n",
       "    <tr>\n",
       "      <th>1224</th>\n",
       "      <td>PZ Cas</td>\n",
       "      <td>9502846</td>\n",
       "      <td>356.013750</td>\n",
       "      <td>61.789528</td>\n",
       "      <td>2.SEc</td>\n",
       "      <td>2</td>\n",
       "      <td>SEc</td>\n",
       "      <td></td>\n",
       "      <td></td>\n",
       "      <td></td>\n",
       "      <td>spectra/09502846_sws.pkl</td>\n",
       "      <td>semi-regV*</td>\n",
       "      <td>True</td>\n",
       "    </tr>\n",
       "    <tr>\n",
       "      <th>1225</th>\n",
       "      <td>PZ Cas</td>\n",
       "      <td>42604702</td>\n",
       "      <td>356.013750</td>\n",
       "      <td>61.789528</td>\n",
       "      <td>2.SEc</td>\n",
       "      <td>2</td>\n",
       "      <td>SEc</td>\n",
       "      <td></td>\n",
       "      <td></td>\n",
       "      <td></td>\n",
       "      <td>spectra/42604702_sws.pkl</td>\n",
       "      <td>semi-regV*</td>\n",
       "      <td>True</td>\n",
       "    </tr>\n",
       "    <tr>\n",
       "      <th>1226</th>\n",
       "      <td>Z Cas</td>\n",
       "      <td>10101714</td>\n",
       "      <td>356.131208</td>\n",
       "      <td>56.581278</td>\n",
       "      <td>2.SEap</td>\n",
       "      <td>2</td>\n",
       "      <td>SEap</td>\n",
       "      <td></td>\n",
       "      <td></td>\n",
       "      <td></td>\n",
       "      <td>spectra/10101714_sws.pkl</td>\n",
       "      <td>Mira</td>\n",
       "      <td>True</td>\n",
       "    </tr>\n",
       "    <tr>\n",
       "      <th>1227</th>\n",
       "      <td>TX Psc</td>\n",
       "      <td>75700419</td>\n",
       "      <td>356.597917</td>\n",
       "      <td>3.486667</td>\n",
       "      <td>1.NC</td>\n",
       "      <td>1</td>\n",
       "      <td>NC</td>\n",
       "      <td></td>\n",
       "      <td></td>\n",
       "      <td></td>\n",
       "      <td>spectra/75700419_sws.pkl</td>\n",
       "      <td>C*</td>\n",
       "      <td>True</td>\n",
       "    </tr>\n",
       "    <tr>\n",
       "      <th>1228</th>\n",
       "      <td>TX Psc</td>\n",
       "      <td>55501379</td>\n",
       "      <td>356.597917</td>\n",
       "      <td>3.486833</td>\n",
       "      <td>1.NC</td>\n",
       "      <td>1</td>\n",
       "      <td>NC</td>\n",
       "      <td></td>\n",
       "      <td></td>\n",
       "      <td></td>\n",
       "      <td>spectra/55501379_sws.pkl</td>\n",
       "      <td>C*</td>\n",
       "      <td>True</td>\n",
       "    </tr>\n",
       "    <tr>\n",
       "      <th>1229</th>\n",
       "      <td>HR 9043</td>\n",
       "      <td>40400904</td>\n",
       "      <td>358.336625</td>\n",
       "      <td>-24.229250</td>\n",
       "      <td>7</td>\n",
       "      <td>7</td>\n",
       "      <td></td>\n",
       "      <td></td>\n",
       "      <td>R</td>\n",
       "      <td></td>\n",
       "      <td>spectra/40400904_sws.pkl</td>\n",
       "      <td>Star</td>\n",
       "      <td>True</td>\n",
       "    </tr>\n",
       "    <tr>\n",
       "      <th>1230</th>\n",
       "      <td>M 2-56</td>\n",
       "      <td>43700232</td>\n",
       "      <td>359.151958</td>\n",
       "      <td>70.803639</td>\n",
       "      <td>4.SB</td>\n",
       "      <td>4</td>\n",
       "      <td>SB</td>\n",
       "      <td></td>\n",
       "      <td></td>\n",
       "      <td></td>\n",
       "      <td>spectra/43700232_sws.pkl</td>\n",
       "      <td></td>\n",
       "      <td>True</td>\n",
       "    </tr>\n",
       "    <tr>\n",
       "      <th>1231</th>\n",
       "      <td>R Cas</td>\n",
       "      <td>24800223</td>\n",
       "      <td>359.603208</td>\n",
       "      <td>51.388528</td>\n",
       "      <td>2.SEb</td>\n",
       "      <td>2</td>\n",
       "      <td>SEb</td>\n",
       "      <td></td>\n",
       "      <td></td>\n",
       "      <td></td>\n",
       "      <td>spectra/24800223_sws.pkl</td>\n",
       "      <td>Mira</td>\n",
       "      <td>True</td>\n",
       "    </tr>\n",
       "    <tr>\n",
       "      <th>1232</th>\n",
       "      <td>R Cas</td>\n",
       "      <td>26301524</td>\n",
       "      <td>359.603208</td>\n",
       "      <td>51.388556</td>\n",
       "      <td>2.SEb</td>\n",
       "      <td>2</td>\n",
       "      <td>SEb</td>\n",
       "      <td></td>\n",
       "      <td>F</td>\n",
       "      <td></td>\n",
       "      <td>spectra/26301524_sws.pkl</td>\n",
       "      <td>Mira</td>\n",
       "      <td>True</td>\n",
       "    </tr>\n",
       "    <tr>\n",
       "      <th>1233</th>\n",
       "      <td>R Cas</td>\n",
       "      <td>38300825</td>\n",
       "      <td>359.603250</td>\n",
       "      <td>51.388556</td>\n",
       "      <td>2.SEb</td>\n",
       "      <td>2</td>\n",
       "      <td>SEb</td>\n",
       "      <td></td>\n",
       "      <td></td>\n",
       "      <td></td>\n",
       "      <td>spectra/38300825_sws.pkl</td>\n",
       "      <td>Mira</td>\n",
       "      <td>True</td>\n",
       "    </tr>\n",
       "    <tr>\n",
       "      <th>1234</th>\n",
       "      <td>R Cas</td>\n",
       "      <td>39501330</td>\n",
       "      <td>359.603250</td>\n",
       "      <td>51.388556</td>\n",
       "      <td>2.SEb</td>\n",
       "      <td>2</td>\n",
       "      <td>SEb</td>\n",
       "      <td></td>\n",
       "      <td></td>\n",
       "      <td></td>\n",
       "      <td>spectra/39501330_sws.pkl</td>\n",
       "      <td>Mira</td>\n",
       "      <td>True</td>\n",
       "    </tr>\n",
       "    <tr>\n",
       "      <th>1235</th>\n",
       "      <td>R Cas</td>\n",
       "      <td>42100215</td>\n",
       "      <td>359.603250</td>\n",
       "      <td>51.388556</td>\n",
       "      <td>2.SEb</td>\n",
       "      <td>2</td>\n",
       "      <td>SEb</td>\n",
       "      <td></td>\n",
       "      <td></td>\n",
       "      <td></td>\n",
       "      <td>spectra/42100215_sws.pkl</td>\n",
       "      <td>Mira</td>\n",
       "      <td>True</td>\n",
       "    </tr>\n",
       "    <tr>\n",
       "      <th>1236</th>\n",
       "      <td>R Cas</td>\n",
       "      <td>44301926</td>\n",
       "      <td>359.603250</td>\n",
       "      <td>51.388556</td>\n",
       "      <td>2.SEb</td>\n",
       "      <td>2</td>\n",
       "      <td>SEb</td>\n",
       "      <td></td>\n",
       "      <td></td>\n",
       "      <td></td>\n",
       "      <td>spectra/44301926_sws.pkl</td>\n",
       "      <td>Mira</td>\n",
       "      <td>True</td>\n",
       "    </tr>\n",
       "    <tr>\n",
       "      <th>1237</th>\n",
       "      <td>R Cas</td>\n",
       "      <td>62702122</td>\n",
       "      <td>359.603250</td>\n",
       "      <td>51.388556</td>\n",
       "      <td>2.SEb</td>\n",
       "      <td>2</td>\n",
       "      <td>SEb</td>\n",
       "      <td></td>\n",
       "      <td></td>\n",
       "      <td></td>\n",
       "      <td>spectra/62702122_sws.pkl</td>\n",
       "      <td>Mira</td>\n",
       "      <td>True</td>\n",
       "    </tr>\n",
       "    <tr>\n",
       "      <th>1238</th>\n",
       "      <td>R Cas</td>\n",
       "      <td>38302016</td>\n",
       "      <td>359.603292</td>\n",
       "      <td>51.388667</td>\n",
       "      <td>2.SEb</td>\n",
       "      <td>2</td>\n",
       "      <td>SEb</td>\n",
       "      <td></td>\n",
       "      <td></td>\n",
       "      <td></td>\n",
       "      <td>spectra/38302016_sws.pkl</td>\n",
       "      <td>Mira</td>\n",
       "      <td>True</td>\n",
       "    </tr>\n",
       "  </tbody>\n",
       "</table>\n",
       "<p>1239 rows × 13 columns</p>\n",
       "</div>"
      ],
      "text/plain": [
       "          object_name       tdt          ra        dec full_classifier group  \\\n",
       "0               W Cet  37802225    0.532083 -14.676639          2.SEa:     2   \n",
       "1              SV And  42801007    1.083333  40.110333          2.SEa:     2   \n",
       "2              SV And  80800708    1.083333  40.110333           2.SEa     2   \n",
       "3               CIT 1  78201008    1.717917  43.076667               7     7   \n",
       "4               HR 10  37802001    1.825833 -17.387000           1.NM:     1   \n",
       "5          {beta} Cas  28501420    2.293625  59.149944             1.N     1   \n",
       "6            V633 Cas  43501514    2.860833  58.834444            5.SE     5   \n",
       "7              NGC 40  44401917    3.253792  72.522222            4.PN     4   \n",
       "8              NGC 40  30003803    3.254583  72.521972            4.PN     4   \n",
       "9               HR 48  55502138    3.660000 -18.932889            1.NO     1   \n",
       "10              S Scl  73500129    3.842417 -32.045389           2.SEb     2   \n",
       "11              S Scl  37102018    3.842458 -32.045556           2.SEb     2   \n",
       "12    IRAS 00127+5437  39902101    3.850542  54.904278          4.SE::     4   \n",
       "13             VX And  42801502    4.975417  44.709722            2.CE     2   \n",
       "14              T Cet  55502308    5.441792 -20.058556           2.SEa     2   \n",
       "15              T Cet  37801819    5.444083 -20.057778           2.SEa     2   \n",
       "16         RAFGL 5017  54900858    5.450000 -40.286944          4.SEC:     4   \n",
       "17              T Cas  40201208    5.809375  55.792694           2.SEa     2   \n",
       "18    IRAS 00210+6221  40401901    5.963333  62.635278            4.CR     4   \n",
       "19    IRAS 00211+6549  44402001    5.991667  66.100889            5.F:     5   \n",
       "20              R And  40201723    6.008333  38.576944           2.SEc     2   \n",
       "21             47 Tuc  74803701    6.021250 -72.080694               7     7   \n",
       "22      Off-{beta}Hyi  17900204    6.428542 -77.254778               7     7   \n",
       "23         {beta} Hyi  85000604    6.433708 -77.254611             1.N     1   \n",
       "24      Off-{beta}Hyi   9200604    6.447250 -77.254806               7     7   \n",
       "25        {kappa} Phe  23200502    6.550667 -43.680306           1.NM:     1   \n",
       "26             VX Cas  42701004    7.833333  62.000000               7     7   \n",
       "27             RNO 1B  28500902    9.192750  63.481778             5.F     5   \n",
       "28               M 31  40001501   10.691708  41.269972               7     7   \n",
       "29               WR 1  42500402   10.868333  64.762361               7     7   \n",
       "...               ...       ...         ...        ...             ...   ...   \n",
       "1209    {upsilon} Peg  21900653  351.344375  23.404111            1.N:     1   \n",
       "1210         NGC 7662  43700427  351.474417  42.534833            4.PN     4   \n",
       "1211            Hb 12  43700330  351.561167  58.181861          4.SECe     4   \n",
       "1212           RU Phe  34401919  352.034583 -47.458139          2.SEc:     2   \n",
       "1213        AFGL 3099  78200523  352.070417  10.911111            3.CR     3   \n",
       "1214  IRAS 23262+6401  43305805  352.115417  64.292472            5.SA     5   \n",
       "1215         V582 Cas  38501620  352.545208  60.276139           2.SEc     2   \n",
       "1216         V582 Cas  42300804  352.613875  57.976250           2.SEc     2   \n",
       "1217  IRAS 23304+6147  24800452  353.187250  62.063750            4.CT     4   \n",
       "1218  IRAS 23304+6147  39601867  353.187250  62.063778            4.CT     4   \n",
       "1219  IRAS 23304+6147   8502452  353.187292  62.063750            4.CT     4   \n",
       "1220  IRAS 23321+6545  25500248  353.593875  66.030667           4.CN:     4   \n",
       "1221       IRC +40540  38201557  353.616083  43.550111            3.CR     3   \n",
       "1222    Nova Cas 1993  24800307  355.446625  57.517028               6     6   \n",
       "1223            R Aqr  18100530  355.955667 -15.284528           2.SEc     2   \n",
       "1224           PZ Cas   9502846  356.013750  61.789528           2.SEc     2   \n",
       "1225           PZ Cas  42604702  356.013750  61.789528           2.SEc     2   \n",
       "1226            Z Cas  10101714  356.131208  56.581278          2.SEap     2   \n",
       "1227           TX Psc  75700419  356.597917   3.486667            1.NC     1   \n",
       "1228           TX Psc  55501379  356.597917   3.486833            1.NC     1   \n",
       "1229          HR 9043  40400904  358.336625 -24.229250               7     7   \n",
       "1230           M 2-56  43700232  359.151958  70.803639            4.SB     4   \n",
       "1231            R Cas  24800223  359.603208  51.388528           2.SEb     2   \n",
       "1232            R Cas  26301524  359.603208  51.388556           2.SEb     2   \n",
       "1233            R Cas  38300825  359.603250  51.388556           2.SEb     2   \n",
       "1234            R Cas  39501330  359.603250  51.388556           2.SEb     2   \n",
       "1235            R Cas  42100215  359.603250  51.388556           2.SEb     2   \n",
       "1236            R Cas  44301926  359.603250  51.388556           2.SEb     2   \n",
       "1237            R Cas  62702122  359.603250  51.388556           2.SEb     2   \n",
       "1238            R Cas  38302016  359.603292  51.388667           2.SEb     2   \n",
       "\n",
       "     subgroup uncertainty_flag note                    file_path  \\\n",
       "0         SEa                1          spectra/37802225_sws.pkl   \n",
       "1         SEa                1          spectra/42801007_sws.pkl   \n",
       "2         SEa                           spectra/80800708_sws.pkl   \n",
       "3                                 W     spectra/78201008_sws.pkl   \n",
       "4          NM                1          spectra/37802001_sws.pkl   \n",
       "5           N                           spectra/28501420_sws.pkl   \n",
       "6          SE                     W     spectra/43501514_sws.pkl   \n",
       "7          PN                           spectra/44401917_sws.pkl   \n",
       "8          PN                           spectra/30003803_sws.pkl   \n",
       "9          NO                           spectra/55502138_sws.pkl   \n",
       "10        SEb                           spectra/73500129_sws.pkl   \n",
       "11        SEb                           spectra/37102018_sws.pkl   \n",
       "12         SE                2          spectra/39902101_sws.pkl   \n",
       "13         CE                           spectra/42801502_sws.pkl   \n",
       "14        SEa                           spectra/55502308_sws.pkl   \n",
       "15        SEa                     F     spectra/37801819_sws.pkl   \n",
       "16        SEC                1          spectra/54900858_sws.pkl   \n",
       "17        SEa                           spectra/40201208_sws.pkl   \n",
       "18         CR                           spectra/40401901_sws.pkl   \n",
       "19          F                1          spectra/44402001_sws.pkl   \n",
       "20        SEc                           spectra/40201723_sws.pkl   \n",
       "21                                R     spectra/74803701_sws.pkl   \n",
       "22                                      spectra/17900204_sws.pkl   \n",
       "23          N                           spectra/85000604_sws.pkl   \n",
       "24                                F     spectra/09200604_sws.pkl   \n",
       "25         NM                1          spectra/23200502_sws.pkl   \n",
       "26                                W     spectra/42701004_sws.pkl   \n",
       "27          F                           spectra/28500902_sws.pkl   \n",
       "28                                G     spectra/40001501_sws.pkl   \n",
       "29                                      spectra/42500402_sws.pkl   \n",
       "...       ...              ...  ... ..                       ...   \n",
       "1209        N                1          spectra/21900653_sws.pkl   \n",
       "1210       PN                           spectra/43700427_sws.pkl   \n",
       "1211     SECe                           spectra/43700330_sws.pkl   \n",
       "1212      SEc                1          spectra/34401919_sws.pkl   \n",
       "1213       CR                           spectra/78200523_sws.pkl   \n",
       "1214       SA                           spectra/43305805_sws.pkl   \n",
       "1215      SEc                           spectra/38501620_sws.pkl   \n",
       "1216      SEc                           spectra/42300804_sws.pkl   \n",
       "1217       CT                           spectra/24800452_sws.pkl   \n",
       "1218       CT                           spectra/39601867_sws.pkl   \n",
       "1219       CT                     F     spectra/08502452_sws.pkl   \n",
       "1220       CN                1          spectra/25500248_sws.pkl   \n",
       "1221       CR                           spectra/38201557_sws.pkl   \n",
       "1222                                    spectra/24800307_sws.pkl   \n",
       "1223      SEc                           spectra/18100530_sws.pkl   \n",
       "1224      SEc                           spectra/09502846_sws.pkl   \n",
       "1225      SEc                           spectra/42604702_sws.pkl   \n",
       "1226     SEap                           spectra/10101714_sws.pkl   \n",
       "1227       NC                           spectra/75700419_sws.pkl   \n",
       "1228       NC                           spectra/55501379_sws.pkl   \n",
       "1229                              R     spectra/40400904_sws.pkl   \n",
       "1230       SB                           spectra/43700232_sws.pkl   \n",
       "1231      SEb                           spectra/24800223_sws.pkl   \n",
       "1232      SEb                     F     spectra/26301524_sws.pkl   \n",
       "1233      SEb                           spectra/38300825_sws.pkl   \n",
       "1234      SEb                           spectra/39501330_sws.pkl   \n",
       "1235      SEb                           spectra/42100215_sws.pkl   \n",
       "1236      SEb                           spectra/44301926_sws.pkl   \n",
       "1237      SEb                           spectra/62702122_sws.pkl   \n",
       "1238      SEb                           spectra/38302016_sws.pkl   \n",
       "\n",
       "        object_type  data_ok  \n",
       "0                S*     True  \n",
       "1              Mira     True  \n",
       "2              Mira     True  \n",
       "3              Mira     True  \n",
       "4              Star     True  \n",
       "5              Star     True  \n",
       "6               Ae*     True  \n",
       "7                PN     True  \n",
       "8                PN     True  \n",
       "9     Candidate_LP*     True  \n",
       "10             Mira     True  \n",
       "11             Mira     True  \n",
       "12               IR     True  \n",
       "13       semi-regV*     True  \n",
       "14               S*     True  \n",
       "15               S*     True  \n",
       "16             Mira     True  \n",
       "17             Mira     True  \n",
       "18               C*     True  \n",
       "19              YSO     True  \n",
       "20               S*     True  \n",
       "21             GlCl     True  \n",
       "22               V*     True  \n",
       "23               V*     True  \n",
       "24               V*     True  \n",
       "25             Star     True  \n",
       "26              Ae*     True  \n",
       "27             FUOr     True  \n",
       "28           Galaxy     True  \n",
       "29              WR*     True  \n",
       "...             ...      ...  \n",
       "1209            PM*     True  \n",
       "1210             PN     True  \n",
       "1211                    True  \n",
       "1212           Mira     True  \n",
       "1213           Mira     True  \n",
       "1214             IR     True  \n",
       "1215     semi-regV*     True  \n",
       "1216     semi-regV*     True  \n",
       "1217      post-AGB*     True  \n",
       "1218      post-AGB*     True  \n",
       "1219      post-AGB*     True  \n",
       "1220             C*     True  \n",
       "1221           Mira     True  \n",
       "1222           Nova     True  \n",
       "1223     Symbiotic*     True  \n",
       "1224     semi-regV*     True  \n",
       "1225     semi-regV*     True  \n",
       "1226           Mira     True  \n",
       "1227             C*     True  \n",
       "1228             C*     True  \n",
       "1229           Star     True  \n",
       "1230                    True  \n",
       "1231           Mira     True  \n",
       "1232           Mira     True  \n",
       "1233           Mira     True  \n",
       "1234           Mira     True  \n",
       "1235           Mira     True  \n",
       "1236           Mira     True  \n",
       "1237           Mira     True  \n",
       "1238           Mira     True  \n",
       "\n",
       "[1239 rows x 13 columns]"
      ]
     },
     "execution_count": 5,
     "metadata": {},
     "output_type": "execute_result"
    }
   ],
   "source": [
    "meta"
   ]
  },
  {
   "cell_type": "markdown",
   "metadata": {},
   "source": [
    "### Labels"
   ]
  },
  {
   "cell_type": "code",
   "execution_count": 6,
   "metadata": {},
   "outputs": [],
   "source": [
    "# Simple classifier first.\n",
    "labels = meta['group'].values.astype(int)"
   ]
  },
  {
   "cell_type": "code",
   "execution_count": 7,
   "metadata": {},
   "outputs": [
    {
     "data": {
      "text/plain": [
       "array([1, 2, 3, 4, 5, 6, 7])"
      ]
     },
     "execution_count": 7,
     "metadata": {},
     "output_type": "execute_result"
    }
   ],
   "source": [
    "# The possible labels.\n",
    "np.unique(labels)"
   ]
  },
  {
   "cell_type": "code",
   "execution_count": 8,
   "metadata": {},
   "outputs": [],
   "source": [
    "# SHIFTING TO START AT ZERO!\n",
    "labels = labels - 1"
   ]
  },
  {
   "cell_type": "markdown",
   "metadata": {},
   "source": [
    "#### Labels ('group'):\n",
    "\n",
    "1. Naked stars\n",
    "2. Stars with dust\n",
    "3. Warm, dusty objects\n",
    "4. Cool, dusty objects\n",
    "5. Very red objects\n",
    "6. Continuum-free objects but having emission lines\n",
    "7. Flux-free and/or fatally flawed spectra"
   ]
  },
  {
   "cell_type": "code",
   "execution_count": 9,
   "metadata": {},
   "outputs": [
    {
     "data": {
      "image/png": "[encoded data removed]",
      "text/plain": [
       "<Figure size 432x288 with 1 Axes>"
      ]
     },
     "metadata": {},
     "output_type": "display_data"
    }
   ],
   "source": [
    "# See how the labels are distributed.\n",
    "plt.plot(labels);"
   ]
  },
  {
   "cell_type": "code",
   "execution_count": 10,
   "metadata": {},
   "outputs": [],
   "source": [
    "# Shuffle data at some point."
   ]
  },
  {
   "cell_type": "code",
   "execution_count": 11,
   "metadata": {},
   "outputs": [
    {
     "data": {
      "text/plain": [
       "numpy.int64"
      ]
     },
     "execution_count": 11,
     "metadata": {},
     "output_type": "execute_result"
    }
   ],
   "source": [
    "type(labels[0])"
   ]
  },
  {
   "cell_type": "code",
   "execution_count": 12,
   "metadata": {},
   "outputs": [
    {
     "data": {
      "text/plain": [
       "True"
      ]
     },
     "execution_count": 12,
     "metadata": {},
     "output_type": "execute_result"
    }
   ],
   "source": [
    "# Make sure each sample has a valid label.\n",
    "np.sum(np.isfinite(labels)) == len(labels)"
   ]
  },
  {
   "cell_type": "code",
   "execution_count": 13,
   "metadata": {},
   "outputs": [
    {
     "data": {
      "text/plain": [
       "1239"
      ]
     },
     "execution_count": 13,
     "metadata": {},
     "output_type": "execute_result"
    }
   ],
   "source": [
    "len(labels)"
   ]
  },
  {
   "cell_type": "code",
   "execution_count": 14,
   "metadata": {},
   "outputs": [],
   "source": [
    "# knowing that each sample has a 359-point vector/spectrum.\n",
    "features = np.zeros((len(labels), 359))"
   ]
  },
  {
   "cell_type": "markdown",
   "metadata": {},
   "source": [
    "### Features"
   ]
  },
  {
   "cell_type": "code",
   "execution_count": 44,
   "metadata": {},
   "outputs": [],
   "source": [
    "def load_spectrum(path):\n",
    "    df = pd.read_pickle(path)\n",
    "    flux = df['flux']\n",
    "    \n",
    "    # IMPORTANT!\n",
    "    # Scale the fluxes.\n",
    "    tmp_flux = flux + np.nanmin(flux)\n",
    "    tmp_flux = tmp_flux / np.nanmax(tmp_flux) # should be between [0, 1] now\n",
    "    \n",
    "#     return tmp_flux\n",
    "    return flux / np.nanmax(flux)\n",
    "\n",
    "index = 0\n",
    "# Fill the 'spectra' variable with the astronomical data.\n",
    "for row in meta.itertuples(index=True, name='Pandas'):\n",
    "    flux = load_spectrum(base_dir + row.file_path)\n",
    "    features[index] = flux\n",
    "    index += 1"
   ]
  },
  {
   "cell_type": "code",
   "execution_count": 45,
   "metadata": {},
   "outputs": [
    {
     "data": {
      "text/plain": [
       "(1239, 359)"
      ]
     },
     "execution_count": 45,
     "metadata": {},
     "output_type": "execute_result"
    }
   ],
   "source": [
    "features.shape"
   ]
  },
  {
   "cell_type": "code",
   "execution_count": 46,
   "metadata": {},
   "outputs": [],
   "source": [
    "maxvec = np.nanmax(features, axis=1)"
   ]
  },
  {
   "cell_type": "markdown",
   "metadata": {},
   "source": [
    "# Split into training and test sets"
   ]
  },
  {
   "cell_type": "markdown",
   "metadata": {},
   "source": [
    "Data as...\n",
    "- feaatures (1239, 359)\n",
    "- labels (1239)"
   ]
  },
  {
   "cell_type": "code",
   "execution_count": 47,
   "metadata": {},
   "outputs": [],
   "source": [
    "X_train, X_test, y_train, y_test = \\\n",
    "train_test_split(features, labels, test_size=0.33, random_state = 22)"
   ]
  },
  {
   "cell_type": "code",
   "execution_count": 48,
   "metadata": {},
   "outputs": [
    {
     "data": {
      "text/plain": [
       "(830, 359)"
      ]
     },
     "execution_count": 48,
     "metadata": {},
     "output_type": "execute_result"
    }
   ],
   "source": [
    "X_train.shape"
   ]
  },
  {
   "cell_type": "code",
   "execution_count": 49,
   "metadata": {},
   "outputs": [
    {
     "data": {
      "text/plain": [
       "(409, 359)"
      ]
     },
     "execution_count": 49,
     "metadata": {},
     "output_type": "execute_result"
    }
   ],
   "source": [
    "X_test.shape"
   ]
  },
  {
   "cell_type": "code",
   "execution_count": 50,
   "metadata": {},
   "outputs": [
    {
     "data": {
      "text/plain": [
       "(830,)"
      ]
     },
     "execution_count": 50,
     "metadata": {},
     "output_type": "execute_result"
    }
   ],
   "source": [
    "y_train.shape"
   ]
  },
  {
   "cell_type": "code",
   "execution_count": 51,
   "metadata": {},
   "outputs": [
    {
     "data": {
      "text/plain": [
       "(409,)"
      ]
     },
     "execution_count": 51,
     "metadata": {},
     "output_type": "execute_result"
    }
   ],
   "source": [
    "y_test.shape"
   ]
  },
  {
   "cell_type": "markdown",
   "metadata": {},
   "source": [
    "# Model 1. NN (now with EarlyStopping)"
   ]
  },
  {
   "cell_type": "code",
   "execution_count": 80,
   "metadata": {},
   "outputs": [],
   "source": [
    "model = keras.Sequential()\n",
    "# Adds a densely-connected layer with 64 units to the model:\n",
    "model.add(keras.layers.Dense(64, activation='relu'))\n",
    "# Add another:\n",
    "model.add(keras.layers.Dense(64, activation='relu'))\n",
    "# Add another:\n",
    "model.add(keras.layers.Dense(64, activation='relu'))\n",
    "# Add another:\n",
    "model.add(keras.layers.Dense(32, activation='relu'))\n",
    "# Add a softmax layer with 7 output units:\n",
    "model.add(keras.layers.Dense(7, activation='softmax'))"
   ]
  },
  {
   "cell_type": "code",
   "execution_count": 81,
   "metadata": {},
   "outputs": [],
   "source": [
    "model.compile(optimizer=tf.train.AdamOptimizer(0.0005),\n",
    "              loss='sparse_categorical_crossentropy',\n",
    "              metrics=['accuracy'])"
   ]
  },
  {
   "cell_type": "code",
   "execution_count": 82,
   "metadata": {},
   "outputs": [],
   "source": [
    "callback = [\n",
    "    tf.keras.callbacks.EarlyStopping(monitor='acc', patience=4, verbose=0),\n",
    "#     ModelCheckpoint(kfold_weights_path, monitor='val_loss', save_best_only=True, verbose=0),\n",
    "]"
   ]
  },
  {
   "cell_type": "code",
   "execution_count": 83,
   "metadata": {},
   "outputs": [
    {
     "name": "stdout",
     "output_type": "stream",
     "text": [
      "Epoch 1/50\n",
      "1239/1239 [==============================] - 0s 292us/step - loss: 1.6195 - acc: 0.4011\n",
      "Epoch 2/50\n",
      "1239/1239 [==============================] - 0s 60us/step - loss: 1.1847 - acc: 0.5811\n",
      "Epoch 3/50\n",
      "1239/1239 [==============================] - 0s 60us/step - loss: 1.0217 - acc: 0.6231\n",
      "Epoch 4/50\n",
      "1239/1239 [==============================] - 0s 63us/step - loss: 0.9163 - acc: 0.6610\n",
      "Epoch 5/50\n",
      "1239/1239 [==============================] - 0s 56us/step - loss: 0.8564 - acc: 0.6715\n",
      "Epoch 6/50\n",
      "1239/1239 [==============================] - 0s 62us/step - loss: 0.7941 - acc: 0.7046\n",
      "Epoch 7/50\n",
      "1239/1239 [==============================] - 0s 63us/step - loss: 0.7572 - acc: 0.7086\n",
      "Epoch 8/50\n",
      "1239/1239 [==============================] - 0s 55us/step - loss: 0.7171 - acc: 0.7304\n",
      "Epoch 9/50\n",
      "1239/1239 [==============================] - 0s 60us/step - loss: 0.6716 - acc: 0.7377\n",
      "Epoch 10/50\n",
      "1239/1239 [==============================] - 0s 59us/step - loss: 0.6501 - acc: 0.7546\n",
      "Epoch 11/50\n",
      "1239/1239 [==============================] - 0s 64us/step - loss: 0.6212 - acc: 0.7684\n",
      "Epoch 12/50\n",
      "1239/1239 [==============================] - 0s 62us/step - loss: 0.6011 - acc: 0.7740\n",
      "Epoch 13/50\n",
      "1239/1239 [==============================] - 0s 60us/step - loss: 0.5770 - acc: 0.7764\n",
      "Epoch 14/50\n",
      "1239/1239 [==============================] - 0s 65us/step - loss: 0.5707 - acc: 0.7869\n",
      "Epoch 15/50\n",
      "1239/1239 [==============================] - 0s 65us/step - loss: 0.5463 - acc: 0.7837\n",
      "Epoch 16/50\n",
      "1239/1239 [==============================] - 0s 63us/step - loss: 0.5246 - acc: 0.8006\n",
      "Epoch 17/50\n",
      "1239/1239 [==============================] - 0s 59us/step - loss: 0.5152 - acc: 0.8047\n",
      "Epoch 18/50\n",
      "1239/1239 [==============================] - 0s 58us/step - loss: 0.5018 - acc: 0.8168\n",
      "Epoch 19/50\n",
      "1239/1239 [==============================] - 0s 60us/step - loss: 0.4854 - acc: 0.8321\n",
      "Epoch 20/50\n",
      "1239/1239 [==============================] - 0s 59us/step - loss: 0.4711 - acc: 0.8281\n",
      "Epoch 21/50\n",
      "1239/1239 [==============================] - 0s 62us/step - loss: 0.5019 - acc: 0.8160\n",
      "Epoch 22/50\n",
      "1239/1239 [==============================] - 0s 63us/step - loss: 0.4456 - acc: 0.8434\n",
      "Epoch 23/50\n",
      "1239/1239 [==============================] - 0s 53us/step - loss: 0.4496 - acc: 0.8305\n",
      "Epoch 24/50\n",
      "1239/1239 [==============================] - 0s 60us/step - loss: 0.4334 - acc: 0.8499\n",
      "Epoch 25/50\n",
      "1239/1239 [==============================] - 0s 57us/step - loss: 0.4158 - acc: 0.8450\n",
      "Epoch 26/50\n",
      "1239/1239 [==============================] - 0s 62us/step - loss: 0.4025 - acc: 0.8499\n",
      "Epoch 27/50\n",
      "1239/1239 [==============================] - 0s 66us/step - loss: 0.3900 - acc: 0.8547\n",
      "Epoch 28/50\n",
      "1239/1239 [==============================] - 0s 71us/step - loss: 0.4048 - acc: 0.8491\n",
      "Epoch 29/50\n",
      "1239/1239 [==============================] - 0s 60us/step - loss: 0.4171 - acc: 0.8475\n",
      "Epoch 30/50\n",
      "1239/1239 [==============================] - 0s 64us/step - loss: 0.3893 - acc: 0.8604\n",
      "Epoch 31/50\n",
      "1239/1239 [==============================] - 0s 56us/step - loss: 0.3544 - acc: 0.8814\n",
      "Epoch 32/50\n",
      "1239/1239 [==============================] - 0s 64us/step - loss: 0.3524 - acc: 0.8733\n",
      "Epoch 33/50\n",
      "1239/1239 [==============================] - 0s 67us/step - loss: 0.3482 - acc: 0.8773\n",
      "Epoch 34/50\n",
      "1239/1239 [==============================] - 0s 62us/step - loss: 0.3461 - acc: 0.8725\n",
      "Epoch 35/50\n",
      "1239/1239 [==============================] - 0s 59us/step - loss: 0.3243 - acc: 0.8935\n",
      "Epoch 36/50\n",
      "1239/1239 [==============================] - 0s 56us/step - loss: 0.3331 - acc: 0.8886\n",
      "Epoch 37/50\n",
      "1239/1239 [==============================] - 0s 58us/step - loss: 0.3483 - acc: 0.8660\n",
      "Epoch 38/50\n",
      "1239/1239 [==============================] - 0s 65us/step - loss: 0.3111 - acc: 0.8951\n",
      "Epoch 39/50\n",
      "1239/1239 [==============================] - 0s 60us/step - loss: 0.2993 - acc: 0.9023\n",
      "Epoch 40/50\n",
      "1239/1239 [==============================] - 0s 57us/step - loss: 0.2914 - acc: 0.8983\n",
      "Epoch 41/50\n",
      "1239/1239 [==============================] - 0s 69us/step - loss: 0.3051 - acc: 0.8902\n",
      "Epoch 42/50\n",
      "1239/1239 [==============================] - 0s 61us/step - loss: 0.3208 - acc: 0.8935\n",
      "Epoch 43/50\n",
      "1239/1239 [==============================] - 0s 62us/step - loss: 0.2791 - acc: 0.9048\n",
      "Epoch 44/50\n",
      "1239/1239 [==============================] - 0s 64us/step - loss: 0.2684 - acc: 0.9144\n",
      "Epoch 45/50\n",
      "1239/1239 [==============================] - 0s 68us/step - loss: 0.2567 - acc: 0.9185\n",
      "Epoch 46/50\n",
      "1239/1239 [==============================] - 0s 63us/step - loss: 0.2499 - acc: 0.9136\n",
      "Epoch 47/50\n",
      "1239/1239 [==============================] - 0s 64us/step - loss: 0.2596 - acc: 0.9088\n",
      "Epoch 48/50\n",
      "1239/1239 [==============================] - 0s 66us/step - loss: 0.2561 - acc: 0.9023\n",
      "Epoch 49/50\n",
      "1239/1239 [==============================] - 0s 65us/step - loss: 0.2387 - acc: 0.9193\n",
      "Epoch 50/50\n",
      "1239/1239 [==============================] - 0s 62us/step - loss: 0.2552 - acc: 0.9080\n"
     ]
    },
    {
     "data": {
      "text/plain": [
       "<tensorflow.python.keras.callbacks.History at 0x7f9417590208>"
      ]
     },
     "execution_count": 83,
     "metadata": {},
     "output_type": "execute_result"
    }
   ],
   "source": [
    "model.fit(features, labels, epochs=50, batch_size=32,\n",
    "          callbacks=callback)"
   ]
  },
  {
   "cell_type": "markdown",
   "metadata": {},
   "source": [
    "#### Test accuracy"
   ]
  },
  {
   "cell_type": "code",
   "execution_count": 84,
   "metadata": {},
   "outputs": [
    {
     "name": "stdout",
     "output_type": "stream",
     "text": [
      "409/409 [==============================] - 0s 271us/step\n",
      "Test accuracy: 0.9388753066436003\n"
     ]
    }
   ],
   "source": [
    "test_loss, test_acc = model.evaluate(X_test, y_test)\n",
    "\n",
    "print('Test accuracy:', test_acc)"
   ]
  },
  {
   "cell_type": "markdown",
   "metadata": {},
   "source": [
    "#### Check predictions"
   ]
  },
  {
   "cell_type": "code",
   "execution_count": 85,
   "metadata": {},
   "outputs": [],
   "source": [
    "predictions = model.predict(X_test)"
   ]
  },
  {
   "cell_type": "code",
   "execution_count": 86,
   "metadata": {},
   "outputs": [],
   "source": [
    "predicted_groups = [np.argmax(x) for x in predictions]"
   ]
  },
  {
   "cell_type": "code",
   "execution_count": 87,
   "metadata": {},
   "outputs": [
    {
     "data": {
      "text/plain": [
       "<matplotlib.legend.Legend at 0x7f9416c2e470>"
      ]
     },
     "execution_count": 87,
     "metadata": {},
     "output_type": "execute_result"
    },
    {
     "data": {
      "image/png": "[encoded data removed]",
      "text/plain": [
       "<Figure size 432x288 with 1 Axes>"
      ]
     },
     "metadata": {},
     "output_type": "display_data"
    }
   ],
   "source": [
    "plt.hist(y_test, label='Actual labels');\n",
    "plt.hist(predicted_groups, label='Predicted labels', alpha=0.7);\n",
    "plt.legend(loc=0)"
   ]
  },
  {
   "cell_type": "markdown",
   "metadata": {},
   "source": [
    "# Model 2. stochastic gradient descent"
   ]
  },
  {
   "cell_type": "markdown",
   "metadata": {},
   "source": [
    "http://scikit-learn.org/stable/modules/sgd.html"
   ]
  },
  {
   "cell_type": "code",
   "execution_count": 82,
   "metadata": {},
   "outputs": [],
   "source": [
    "from sklearn.linear_model import SGDClassifier\n",
    "# clf = SGDClassifier(loss=\"hinge\", penalty=\"l2\")"
   ]
  },
  {
   "cell_type": "code",
   "execution_count": 196,
   "metadata": {},
   "outputs": [],
   "source": [
    "def sgd(X_train, y_train, X_test, y_test,\n",
    "        alpha=0.0001, average=False, class_weight=None, epsilon=0.1,\n",
    "        eta0=0.0, fit_intercept=True, l1_ratio=0.15,\n",
    "        learning_rate='optimal', loss='hinge', max_iter=20000, n_iter=None,\n",
    "        n_jobs=-1, penalty='l2', power_t=0.5, random_state=None,\n",
    "        shuffle=True, tol=None, verbose=0, warm_start=False,    \n",
    "        **kwargs):\n",
    "    \n",
    "    # Stochastic gradient descent instance.\n",
    "    clf = SGDClassifier(alpha=alpha, average=average, class_weight=class_weight,\n",
    "                        epsilon=epsilon, eta0=eta0, fit_intercept=fit_intercept,\n",
    "                        l1_ratio=l1_ratio, learning_rate=learning_rate, loss=loss,\n",
    "                        max_iter=max_iter, n_iter=n_iter, n_jobs=n_jobs, penalty=penalty,\n",
    "                        power_t=power_t, random_state=random_state, shuffle=shuffle,\n",
    "                        tol=tol, verbose=verbose, warm_start=warm_start, **kwargs)\n",
    "\n",
    "    # Fit!\n",
    "    clf.fit(X_train, y_train);\n",
    "    \n",
    "    # Measure test accuracy.\n",
    "    predicted_labels = clf.predict(X_test)\n",
    "    test_acc = np.sum(predicted_labels == y_test) / len(y_test)\n",
    "    \n",
    "    return test_acc, clf"
   ]
  },
  {
   "cell_type": "markdown",
   "metadata": {},
   "source": [
    "#### Model parameter search"
   ]
  },
  {
   "cell_type": "code",
   "execution_count": 219,
   "metadata": {},
   "outputs": [
    {
     "name": "stdout",
     "output_type": "stream",
     "text": [
      "Accuracy, iterations:  0.609 10\n",
      "Accuracy, iterations:  0.672 510\n",
      "Accuracy, iterations:  0.665 1010\n",
      "Accuracy, iterations:  0.680 1510\n",
      "Accuracy, iterations:  0.687 2010\n",
      "Accuracy, iterations:  0.670 2510\n",
      "Accuracy, iterations:  0.670 3010\n",
      "Accuracy, iterations:  0.677 3510\n",
      "Accuracy, iterations:  0.682 4010\n",
      "Accuracy, iterations:  0.675 4510\n",
      "Accuracy, iterations:  0.660 5010\n",
      "Accuracy, iterations:  0.677 5510\n",
      "Accuracy, iterations:  0.675 6010\n",
      "Accuracy, iterations:  0.667 6510\n",
      "Accuracy, iterations:  0.670 7010\n",
      "Accuracy, iterations:  0.670 7510\n",
      "Accuracy, iterations:  0.667 8010\n",
      "Accuracy, iterations:  0.675 8510\n",
      "Accuracy, iterations:  0.658 9010\n",
      "Accuracy, iterations:  0.670 9510\n"
     ]
    }
   ],
   "source": [
    "# Number of iterations\n",
    "iterations = np.arange(10, 10000, 500)\n",
    "\n",
    "for index, value in enumerate(iterations):\n",
    "    acc, _ = sgd(X_train, y_train, X_test, y_test,\n",
    "                 max_iter=value)\n",
    "    print('Accuracy, iterations: ', smart_round(acc), value)"
   ]
  },
  {
   "cell_type": "markdown",
   "metadata": {},
   "source": [
    "Conclusion: converges surprisingly quickly."
   ]
  },
  {
   "cell_type": "code",
   "execution_count": 156,
   "metadata": {},
   "outputs": [
    {
     "name": "stdout",
     "output_type": "stream",
     "text": [
      "Accuracy, loss:  0.599 hinge\n",
      "Accuracy, loss:  0.633 log\n",
      "Accuracy, loss:  0.601 modified_huber\n",
      "Accuracy, loss:  0.601 squared_hinge\n",
      "Accuracy, loss:  0.623 perceptron\n",
      "Accuracy, loss:  0.103 squared_loss\n",
      "Accuracy, loss:  0.264 huber\n",
      "Accuracy, loss:  0.076 epsilon_insensitive\n",
      "Accuracy, loss:  0.205 squared_epsilon_insensitive\n"
     ]
    }
   ],
   "source": [
    "# Loss function\n",
    "losses = ['hinge', 'log', 'modified_huber', 'squared_hinge',\n",
    "          'perceptron', 'squared_loss', 'huber',\n",
    "          'epsilon_insensitive', 'squared_epsilon_insensitive']\n",
    "\n",
    "for index, value in enumerate(losses):\n",
    "    acc, _ = sgd(X_train, y_train, X_test, y_test,\n",
    "                 max_iter=2000,\n",
    "                 loss=value)\n",
    "    print('Accuracy, loss: ', smart_round(acc), value)"
   ]
  },
  {
   "cell_type": "markdown",
   "metadata": {},
   "source": [
    "Conclusion: stick to hinge (default), log or perceptron."
   ]
  },
  {
   "cell_type": "code",
   "execution_count": 158,
   "metadata": {},
   "outputs": [
    {
     "name": "stdout",
     "output_type": "stream",
     "text": [
      "Accuracy, penalty:  0.623 l2\n",
      "Accuracy, penalty:  0.562 l1\n",
      "Accuracy, penalty:  0.645 elasticnet\n"
     ]
    }
   ],
   "source": [
    "# Penalty\n",
    "penalties = ['l2', 'l1', 'elasticnet']\n",
    "\n",
    "for index, value in enumerate(penalties):\n",
    "    acc, _ = sgd(X_train, y_train, X_test, y_test,\n",
    "                 max_iter=2000, loss='hinge',\n",
    "                 penalty=value)\n",
    "    print('Accuracy, penalty: ', smart_round(acc), value)"
   ]
  },
  {
   "cell_type": "markdown",
   "metadata": {},
   "source": [
    "Conclusion: probably stick to l2 (default), also try elasticnet occasionally."
   ]
  },
  {
   "cell_type": "code",
   "execution_count": 169,
   "metadata": {},
   "outputs": [
    {
     "name": "stdout",
     "output_type": "stream",
     "text": [
      "Accuracy, alpha:  0.724 1e-12\n",
      "Accuracy, alpha:  0.724 1e-11\n",
      "Accuracy, alpha:  0.719 1e-10\n",
      "Accuracy, alpha:  0.726 1e-09\n",
      "Accuracy, alpha:  0.711 1e-08\n",
      "Accuracy, alpha:  0.716 1e-07\n",
      "Accuracy, alpha:  0.716 1e-06\n",
      "Accuracy, alpha:  0.714 1e-05\n",
      "Accuracy, alpha:  0.633 0.0001\n",
      "Accuracy, alpha:  0.557 0.001\n",
      "Accuracy, alpha:  0.689 0.01\n",
      "Accuracy, alpha:  0.606 0.1\n"
     ]
    }
   ],
   "source": [
    "# Alpha (multiplies penalty term). Default: 0.0001\n",
    "alphas = [1e-12, 1e-11, 1e-10, 1e-9, 1e-8, 1e-7, 1e-6, 1e-5, 1e-4, 1e-3, 1e-2, 1e-1]\n",
    "\n",
    "for index, value in enumerate(alphas):\n",
    "    acc, _ = sgd(X_train, y_train, X_test, y_test,\n",
    "                 max_iter=2000, loss='hinge', penalty='l2',\n",
    "                 alpha=value)\n",
    "    print('Accuracy, alpha: ', smart_round(acc), value)"
   ]
  },
  {
   "cell_type": "markdown",
   "metadata": {},
   "source": [
    "Conclusion: stick to 1e-6 (lower than the default of 1e-4)."
   ]
  },
  {
   "cell_type": "markdown",
   "metadata": {},
   "source": [
    "#### Selecting among best parameters"
   ]
  },
  {
   "cell_type": "markdown",
   "metadata": {},
   "source": [
    "L2 penalty..."
   ]
  },
  {
   "cell_type": "code",
   "execution_count": 192,
   "metadata": {},
   "outputs": [
    {
     "name": "stdout",
     "output_type": "stream",
     "text": [
      "Accuracy:  0.699\n"
     ]
    }
   ],
   "source": [
    "acc, _ = sgd(X_train, y_train, X_test, y_test,\n",
    "             max_iter=2000, loss='hinge', penalty='l2', alpha=1e-6)\n",
    "print('Accuracy: ', smart_round(acc))"
   ]
  },
  {
   "cell_type": "code",
   "execution_count": 194,
   "metadata": {},
   "outputs": [
    {
     "name": "stdout",
     "output_type": "stream",
     "text": [
      "Accuracy:  0.716\n"
     ]
    }
   ],
   "source": [
    "acc, _ = sgd(X_train, y_train, X_test, y_test,\n",
    "             max_iter=2000, loss='log', penalty='l2', alpha=1e-6)\n",
    "print('Accuracy: ', smart_round(acc))"
   ]
  },
  {
   "cell_type": "code",
   "execution_count": 191,
   "metadata": {},
   "outputs": [
    {
     "name": "stdout",
     "output_type": "stream",
     "text": [
      "Accuracy:  0.716\n"
     ]
    }
   ],
   "source": [
    "acc, _ = sgd(X_train, y_train, X_test, y_test,\n",
    "             max_iter=2000, loss='perceptron', penalty='l2', alpha=1e-6)\n",
    "print('Accuracy: ', smart_round(acc))"
   ]
  },
  {
   "cell_type": "markdown",
   "metadata": {},
   "source": [
    "Elasticnet penalty..."
   ]
  },
  {
   "cell_type": "code",
   "execution_count": 188,
   "metadata": {},
   "outputs": [
    {
     "name": "stdout",
     "output_type": "stream",
     "text": [
      "Accuracy:  0.724\n"
     ]
    }
   ],
   "source": [
    "acc, _ = sgd(X_train, y_train, X_test, y_test,\n",
    "             max_iter=2000, loss='hinge', penalty='elasticnet', alpha=1e-6)\n",
    "print('Accuracy: ', smart_round(acc))"
   ]
  },
  {
   "cell_type": "code",
   "execution_count": 189,
   "metadata": {},
   "outputs": [
    {
     "name": "stdout",
     "output_type": "stream",
     "text": [
      "Accuracy:  0.726\n"
     ]
    }
   ],
   "source": [
    "acc, _ = sgd(X_train, y_train, X_test, y_test,\n",
    "             max_iter=2000, loss='log', penalty='elasticnet', alpha=1e-6)\n",
    "print('Accuracy: ', smart_round(acc))"
   ]
  },
  {
   "cell_type": "code",
   "execution_count": 190,
   "metadata": {},
   "outputs": [
    {
     "name": "stdout",
     "output_type": "stream",
     "text": [
      "Accuracy:  0.726\n"
     ]
    }
   ],
   "source": [
    "acc, _ = sgd(X_train, y_train, X_test, y_test,\n",
    "             max_iter=2000, loss='perceptron', penalty='elasticnet', alpha=1e-6)\n",
    "print('Accuracy: ', smart_round(acc))"
   ]
  },
  {
   "cell_type": "markdown",
   "metadata": {},
   "source": [
    "Conclusion:\n",
    "* use elasticnet penalty, loss doesn't matter (log), alpha=1e-6"
   ]
  },
  {
   "cell_type": "markdown",
   "metadata": {},
   "source": [
    "#### Putting it all together, ramp up iterations."
   ]
  },
  {
   "cell_type": "code",
   "execution_count": 215,
   "metadata": {},
   "outputs": [
    {
     "name": "stdout",
     "output_type": "stream",
     "text": [
      "Accuracy:  0.650\n",
      "Iterations:  5000\n"
     ]
    }
   ],
   "source": [
    "# Run final SGD model.\n",
    "acc, clf = sgd(X_train, y_train, X_test, y_test, n_jobs=-1,\n",
    "               max_iter=5000, loss='log', penalty='elasticnet', alpha=1e-6)\n",
    "\n",
    "# Accuracy.\n",
    "predicted_labels = clf.predict(X_test)\n",
    "print('Accuracy: ', smart_round(acc))\n",
    "\n",
    "# Number of iterations (compare to max_iter):\n",
    "print('Iterations: ', clf.n_iter_)"
   ]
  },
  {
   "cell_type": "code",
   "execution_count": 216,
   "metadata": {},
   "outputs": [
    {
     "data": {
      "image/png": "[encoded data removed]",
      "text/plain": [
       "<Figure size 432x288 with 1 Axes>"
      ]
     },
     "metadata": {},
     "output_type": "display_data"
    }
   ],
   "source": [
    "# Histogram of results.\n",
    "plt.hist(y_test, label='Actual labels');\n",
    "plt.hist(predicted_labels, label='Predicted labels', alpha=0.7);\n",
    "plt.legend(loc=0);"
   ]
  },
  {
   "cell_type": "markdown",
   "metadata": {},
   "source": [
    "Conclusion:\n",
    "* SGD can't match the capability of a NN for this problem (unless I have no idea what I'm doing with SGD here, which is entirely possible! :)"
   ]
  },
  {
   "cell_type": "code",
   "execution_count": 209,
   "metadata": {},
   "outputs": [],
   "source": [
    "from sklearn.preprocessing import StandardScaler\n",
    "scaler = StandardScaler()\n",
    "scaler.fit(X_train)  # Don't cheat - fit only on training data\n",
    "X_train = scaler.transform(X_train)\n",
    "X_test = scaler.transform(X_test)  # apply same transformation to test data"
   ]
  },
  {
   "cell_type": "code",
   "execution_count": 210,
   "metadata": {},
   "outputs": [
    {
     "name": "stdout",
     "output_type": "stream",
     "text": [
      "Accuracy:  0.658\n",
      "Iterations:  2000\n"
     ]
    }
   ],
   "source": [
    "# Run final SGD model.\n",
    "acc, clf = sgd(X_train, y_train, X_test, y_test, n_jobs=-1,\n",
    "               max_iter=2000, loss='log', penalty='elasticnet', alpha=1e-6)\n",
    "\n",
    "# Accuracy.\n",
    "predicted_labels = clf.predict(X_test)\n",
    "print('Accuracy: ', smart_round(acc))\n",
    "\n",
    "# Number of iterations (compare to max_iter):\n",
    "print('Iterations: ', clf.n_iter_)"
   ]
  },
  {
   "cell_type": "code",
   "execution_count": 211,
   "metadata": {},
   "outputs": [
    {
     "data": {
      "image/png": "[encoded data removed]",
      "text/plain": [
       "<Figure size 432x288 with 1 Axes>"
      ]
     },
     "metadata": {},
     "output_type": "display_data"
    }
   ],
   "source": [
    "# Histogram of results.\n",
    "plt.hist(y_test, label='Actual labels');\n",
    "plt.hist(predicted_labels, label='Predicted labels', alpha=0.7);\n",
    "plt.legend(loc=0);"
   ]
  },
  {
   "cell_type": "code",
   "execution_count": null,
   "metadata": {},
   "outputs": [],
   "source": []
  },
  {
   "cell_type": "code",
   "execution_count": null,
   "metadata": {},
   "outputs": [],
   "source": []
  },
  {
   "cell_type": "code",
   "execution_count": null,
   "metadata": {},
   "outputs": [],
   "source": []
  },
  {
   "cell_type": "code",
   "execution_count": null,
   "metadata": {},
   "outputs": [],
   "source": []
  },
  {
   "cell_type": "code",
   "execution_count": null,
   "metadata": {},
   "outputs": [],
   "source": []
  }
 ],
 "metadata": {
  "kernelspec": {
   "display_name": "Python [conda env:tf]",
   "language": "python",
   "name": "conda-env-tf-py"
  },
  "language_info": {
   "codemirror_mode": {
    "name": "ipython",
    "version": 3
   },
   "file_extension": ".py",
   "mimetype": "text/x-python",
   "name": "python",
   "nbconvert_exporter": "python",
   "pygments_lexer": "ipython3",
   "version": "3.6.6"
  }
 },
 "nbformat": 4,
 "nbformat_minor": 2
}
