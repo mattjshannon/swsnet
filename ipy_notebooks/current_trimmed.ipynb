{
 "cells": [
  {
   "cell_type": "markdown",
   "metadata": {},
   "source": [
    "# TF neural net with normalized ISO spectra"
   ]
  },
  {
   "cell_type": "code",
   "execution_count": 1,
   "metadata": {},
   "outputs": [
    {
     "name": "stdout",
     "output_type": "stream",
     "text": [
      "1.12.0\n"
     ]
    }
   ],
   "source": [
    "# TensorFlow and tf.keras\n",
    "import tensorflow as tf\n",
    "from tensorflow import keras\n",
    "\n",
    "# Helper libraries\n",
    "import glob\n",
    "import matplotlib.pyplot as plt\n",
    "import numpy as np\n",
    "import pandas as pd\n",
    "from concurrent.futures import ProcessPoolExecutor\n",
    "from IPython.core.debugger import set_trace as st\n",
    "from sklearn.model_selection import train_test_split\n",
    "from time import time\n",
    "\n",
    "# My modules\n",
    "from swsnet import helpers\n",
    "\n",
    "print(tf.__version__)"
   ]
  },
  {
   "cell_type": "markdown",
   "metadata": {},
   "source": [
    "## Dataset: ISO-SWS (normalized, culled)"
   ]
  },
  {
   "cell_type": "code",
   "execution_count": 2,
   "metadata": {},
   "outputs": [],
   "source": [
    "# Needed directories\n",
    "base_dir = '../data/isosws_atlas/'\n",
    "\n",
    "# Pickles containing our spectra in the form of pandas dataframes:\n",
    "spec_dir = base_dir + 'spectra_normalized/'\n",
    "spec_files = np.sort(glob.glob(spec_dir + '*.pkl'))\n",
    "\n",
    "# Metadata pickle (pd.dataframe). Note each entry contains a pointer to the corresponding spectrum pickle.\n",
    "metadata = base_dir + 'metadata_step2_culled.pkl'"
   ]
  },
  {
   "cell_type": "markdown",
   "metadata": {},
   "source": [
    "#### Labels ('group'):\n",
    "\n",
    "1. Naked stars\n",
    "2. Stars with dust\n",
    "3. Warm, dusty objects\n",
    "4. Cool, dusty objects\n",
    "5. Very red objects\n",
    "6. Continuum-free objects but having emission lines\n",
    "7. Flux-free and/or fatally flawed spectra"
   ]
  },
  {
   "cell_type": "markdown",
   "metadata": {},
   "source": [
    "### Subset 1: all data included (trimmed)"
   ]
  },
  {
   "cell_type": "code",
   "execution_count": 5,
   "metadata": {},
   "outputs": [],
   "source": [
    "features, labels = helpers.load_data(base_dir=base_dir, metadata=metadata,\n",
    "                                     only_ok_data=False, clean=False, verbose=False,\n",
    "                                     cut_28micron=False)"
   ]
  },
  {
   "cell_type": "code",
   "execution_count": 6,
   "metadata": {},
   "outputs": [
    {
     "name": "stdout",
     "output_type": "stream",
     "text": [
      "(1235, 359)\n",
      "(1235,)\n"
     ]
    }
   ],
   "source": [
    "print(features.shape)\n",
    "print(labels.shape)"
   ]
  },
  {
   "cell_type": "markdown",
   "metadata": {},
   "source": [
    "### Subset 2: exclude group 7 (trimmed)"
   ]
  },
  {
   "cell_type": "code",
   "execution_count": 7,
   "metadata": {},
   "outputs": [],
   "source": [
    "features_clean, labels_clean = \\\n",
    "    helpers.load_data(base_dir=base_dir, metadata=metadata,\n",
    "                      only_ok_data=False, clean=True, verbose=False,\n",
    "                      cut_28micron=False)"
   ]
  },
  {
   "cell_type": "code",
   "execution_count": 8,
   "metadata": {},
   "outputs": [
    {
     "name": "stdout",
     "output_type": "stream",
     "text": [
      "(1058, 359)\n",
      "(1058,)\n"
     ]
    }
   ],
   "source": [
    "print(features_clean.shape)\n",
    "print(labels_clean.shape)"
   ]
  },
  {
   "cell_type": "markdown",
   "metadata": {},
   "source": [
    "### Subset 3: exclude group 7, uncertain data (trimmed)"
   ]
  },
  {
   "cell_type": "code",
   "execution_count": 9,
   "metadata": {},
   "outputs": [],
   "source": [
    "features_certain, labels_certain = \\\n",
    "    helpers.load_data(base_dir=base_dir, metadata=metadata,\n",
    "                      only_ok_data=True, clean=True, verbose=False,\n",
    "                      cut_28micron=False, remove_group=6)"
   ]
  },
  {
   "cell_type": "code",
   "execution_count": 10,
   "metadata": {},
   "outputs": [
    {
     "name": "stdout",
     "output_type": "stream",
     "text": [
      "(741, 359)\n",
      "(741,)\n"
     ]
    }
   ],
   "source": [
    "print(features_certain.shape)\n",
    "print(labels_certain.shape)"
   ]
  },
  {
   "cell_type": "code",
   "execution_count": 11,
   "metadata": {},
   "outputs": [
    {
     "data": {
      "text/plain": [
       "array([0, 1, 2, 3, 4])"
      ]
     },
     "execution_count": 11,
     "metadata": {},
     "output_type": "execute_result"
    }
   ],
   "source": [
    "np.unique(labels_certain)"
   ]
  },
  {
   "cell_type": "markdown",
   "metadata": {},
   "source": [
    "# Testing l2norms"
   ]
  },
  {
   "cell_type": "code",
   "execution_count": 69,
   "metadata": {},
   "outputs": [],
   "source": [
    "def neural(features, labels, test_size=0.3, l2norm=0.01):\n",
    "\n",
    "    X_train, X_test, y_train, y_test = \\\n",
    "        train_test_split(features, labels, test_size=test_size, random_state = 42)\n",
    "\n",
    "    # Sequential model, 7 classes of output.\n",
    "    model = keras.Sequential()\n",
    "    model.add(keras.layers.Dense(64, activation='relu', kernel_regularizer=keras.regularizers.l2(l2norm), input_dim=303))\n",
    "    model.add(keras.layers.Dense(64, activation='relu', kernel_regularizer=keras.regularizers.l2(l2norm)))\n",
    "    model.add(keras.layers.Dense(64, activation='relu', kernel_regularizer=keras.regularizers.l2(l2norm)))\n",
    "    model.add(keras.layers.Dense(64, activation='relu', kernel_regularizer=keras.regularizers.l2(l2norm)))\n",
    "    model.add(keras.layers.Dense(5, activation='softmax'))\n",
    "\n",
    "    # Early stopping condition.\n",
    "    callback = [tf.keras.callbacks.EarlyStopping(monitor='acc', patience=5, verbose=0)]\n",
    "\n",
    "    # Recompile model and fit.\n",
    "    model.compile(optimizer=keras.optimizers.Adam(0.0005),\n",
    "                  loss='sparse_categorical_crossentropy',\n",
    "                  metrics=['accuracy'])\n",
    "    #     model.fit(X_train, y_train, epochs=50, batch_size=32, verbose=False)\n",
    "    model.fit(X_train, y_train, epochs=100, batch_size=32, callbacks=callback, verbose=False)\n",
    "\n",
    "    # Check accuracy.\n",
    "    score = model.evaluate(X_test, y_test, verbose=0)\n",
    "    accuracy = score[1]\n",
    "    print(\"L2 norm, accuracy: \", l2norm, accuracy)\n",
    "    \n",
    "    return model, test_size, accuracy"
   ]
  },
  {
   "cell_type": "code",
   "execution_count": 70,
   "metadata": {
    "scrolled": true
   },
   "outputs": [],
   "source": [
    "# for l2norm in (0.1, 0.01, 0.001, 0.0001, 0.00001):\n",
    "#     model, test_size, accuracy = neural(features, labels, l2norm=l2norm)"
   ]
  },
  {
   "cell_type": "code",
   "execution_count": 71,
   "metadata": {
    "scrolled": true
   },
   "outputs": [],
   "source": [
    "# for l2norm in (0.1, 0.01, 0.001, 0.0001, 0.00001):\n",
    "#     model, test_size, accuracy = neural(features_clean, labels_clean, l2norm=l2norm)"
   ]
  },
  {
   "cell_type": "code",
   "execution_count": 72,
   "metadata": {
    "scrolled": true
   },
   "outputs": [],
   "source": [
    "# for l2norm in (0.1, 0.01, 0.001, 0.0001, 0.00001):\n",
    "#     model, test_size, accuracy = neural(features_certain, labels_certain, l2norm=l2norm)"
   ]
  },
  {
   "cell_type": "code",
   "execution_count": 73,
   "metadata": {
    "scrolled": true
   },
   "outputs": [],
   "source": [
    "# for l2norm in (0.001, 0.0001, 0.00001, 0.000001):\n",
    "#     model, test_size, accuracy = neural(features_certain, labels_certain, l2norm=l2norm)"
   ]
  },
  {
   "cell_type": "markdown",
   "metadata": {},
   "source": [
    "***"
   ]
  },
  {
   "cell_type": "markdown",
   "metadata": {},
   "source": [
    "# Testing training size vs. accuracy"
   ]
  },
  {
   "cell_type": "markdown",
   "metadata": {},
   "source": [
    "Model:"
   ]
  },
  {
   "cell_type": "code",
   "execution_count": 29,
   "metadata": {},
   "outputs": [],
   "source": [
    "def run_NN(input_tuple):\n",
    "    \"\"\"Run a Keras NN for the purpose of examining the effect of training set size.\n",
    "    \n",
    "    Args:\n",
    "        features (ndarray): Array containing the spectra (fluxes).\n",
    "        labels (ndarray): Array containing the group labels for the spectra.\n",
    "        test_size (float): Fraction of test size relative to (test + training).\n",
    "        \n",
    "    Returns:\n",
    "        test_size (float): Input test_size, just a sanity check!\n",
    "        accuracy (float): Accuracy of this neural net when applied to the test set.\n",
    "    \"\"\"\n",
    "    \n",
    "    features, labels, test_size = input_tuple\n",
    "    l2norm = 0.001\n",
    "    \n",
    "    X_train, X_test, y_train, y_test = \\\n",
    "        train_test_split(features, labels, test_size=test_size, random_state = 42)\n",
    "    \n",
    "    # Sequential model, 7 classes of output.\n",
    "    model = keras.Sequential()\n",
    "    model.add(keras.layers.Dense(64, activation='relu', kernel_regularizer=keras.regularizers.l2(l2norm), input_dim=359))\n",
    "    model.add(keras.layers.Dense(64, activation='relu', kernel_regularizer=keras.regularizers.l2(l2norm)))\n",
    "    model.add(keras.layers.Dense(5, activation='softmax'))\n",
    "\n",
    "    # Early stopping condition.\n",
    "    callback = [tf.keras.callbacks.EarlyStopping(monitor='acc', patience=5, verbose=0)]\n",
    "\n",
    "    # Recompile model and fit.\n",
    "    model.compile(optimizer=keras.optimizers.Adam(0.0005),\n",
    "                  loss='sparse_categorical_crossentropy',\n",
    "                  metrics=['accuracy'])\n",
    "    #     model.fit(X_train, y_train, epochs=50, batch_size=32, verbose=False)\n",
    "    model.fit(X_train, y_train, epochs=100, batch_size=32, callbacks=callback, verbose=False)\n",
    "\n",
    "    # Check accuracy.\n",
    "    score = model.evaluate(X_test, y_test, verbose=0)\n",
    "    accuracy = score[1]\n",
    "#     print(\"Test size, accuracy: \", test_size, accuracy)\n",
    "\n",
    "    return test_size, accuracy, model"
   ]
  },
  {
   "cell_type": "code",
   "execution_count": 24,
   "metadata": {},
   "outputs": [],
   "source": [
    "def run_networks(search_map):\n",
    "    # Run the networks in parallel.\n",
    "    start = time()\n",
    "    pool = ProcessPoolExecutor(max_workers=7)\n",
    "    results = list(pool.map(run_NN, search_map))\n",
    "    end = time()\n",
    "    print('Took %.3f seconds' % (end - start))\n",
    "\n",
    "    run_matrix = np.array(results)\n",
    "    return run_matrix\n",
    "\n",
    "def plot_results(run_matrix):\n",
    "    # Examine results.\n",
    "    plt.plot(run_matrix.T[0], run_matrix.T[1], 's', mfc='w', ms=5, mew=2, mec='r');\n",
    "    plt.xlabel('Test size (fraction)');\n",
    "    plt.ylabel('Test accuracy');\n",
    "    plt.minorticks_on();\n",
    "#     plt.xlim(left=0);  \n",
    "    return"
   ]
  },
  {
   "cell_type": "markdown",
   "metadata": {},
   "source": [
    "Search space (training size):"
   ]
  },
  {
   "cell_type": "code",
   "execution_count": 25,
   "metadata": {},
   "outputs": [
    {
     "name": "stdout",
     "output_type": "stream",
     "text": [
      "Size of test set considered:  [0.32 0.36 0.4 ]\n",
      "Number of iterations per test_size:  4\n",
      "Total number of NN iterations required:  12\n"
     ]
    }
   ],
   "source": [
    "# Values of test_size to probe.\n",
    "# search_space = np.arange(0.14, 0.60, 0.02)\n",
    "search_space = np.arange(0.32, 0.40, 0.04)\n",
    "print('Size of test set considered: ', search_space)\n",
    "\n",
    "# Number of iterations for each test_size value.\n",
    "# n_iterations = 20\n",
    "n_iterations = 4\n",
    "\n",
    "# Create a vector to iterate over.\n",
    "rx = np.array([search_space] * n_iterations).T\n",
    "search_space_full = rx.flatten()\n",
    "\n",
    "print('Number of iterations per test_size: ', n_iterations)\n",
    "print('Total number of NN iterations required: ', n_iterations * len(search_space))"
   ]
  },
  {
   "cell_type": "code",
   "execution_count": 26,
   "metadata": {},
   "outputs": [],
   "source": [
    "# Wrap up tuple inputs for running in parallel.\n",
    "# search_map = [(features, labels, x) for x in search_space_full]\n",
    "# search_map_clean = [(features_clean, labels_clean, x) for x in search_space_full]\n",
    "search_map_certain = [(features_certain, labels_certain, x) for x in search_space_full]"
   ]
  },
  {
   "cell_type": "code",
   "execution_count": 27,
   "metadata": {},
   "outputs": [
    {
     "name": "stdout",
     "output_type": "stream",
     "text": [
      "Took 3.679 seconds\n"
     ]
    }
   ],
   "source": [
    "# run_matrix = run_networks(search_map)\n",
    "# run_matrix_clean = run_networks(search_map_clean)\n",
    "run_matrix_certain = run_networks(search_map_certain)"
   ]
  },
  {
   "cell_type": "code",
   "execution_count": 28,
   "metadata": {},
   "outputs": [
    {
     "data": {
      "image/png": "[encoded data removed]",
      "text/plain": [
       "<Figure size 432x288 with 1 Axes>"
      ]
     },
     "metadata": {
      "needs_background": "light"
     },
     "output_type": "display_data"
    }
   ],
   "source": [
    "plot_results(run_matrix_certain)"
   ]
  },
  {
   "cell_type": "markdown",
   "metadata": {},
   "source": [
    "# Results - trimmed wavelength arrays"
   ]
  },
  {
   "cell_type": "markdown",
   "metadata": {},
   "source": [
    "## Full set:"
   ]
  },
  {
   "cell_type": "code",
   "execution_count": 14,
   "metadata": {},
   "outputs": [
    {
     "data": {
      "image/png": "[encoded data removed]",
      "text/plain": [
       "<Figure size 432x288 with 1 Axes>"
      ]
     },
     "metadata": {
      "needs_background": "light"
     },
     "output_type": "display_data"
    }
   ],
   "source": [
    "plot_results(run_matrix)"
   ]
  },
  {
   "cell_type": "markdown",
   "metadata": {},
   "source": [
    "## Clean set:"
   ]
  },
  {
   "cell_type": "code",
   "execution_count": 15,
   "metadata": {},
   "outputs": [
    {
     "data": {
      "image/png": "[encoded data removed]",
      "text/plain": [
       "<Figure size 432x288 with 1 Axes>"
      ]
     },
     "metadata": {
      "needs_background": "light"
     },
     "output_type": "display_data"
    }
   ],
   "source": [
    "plot_results(run_matrix_clean)"
   ]
  },
  {
   "cell_type": "markdown",
   "metadata": {},
   "source": [
    "## Certain set: (< 28 µm only)"
   ]
  },
  {
   "cell_type": "code",
   "execution_count": 25,
   "metadata": {},
   "outputs": [
    {
     "data": {
      "image/png": "[encoded data removed]",
      "text/plain": [
       "<Figure size 432x288 with 1 Axes>"
      ]
     },
     "metadata": {
      "needs_background": "light"
     },
     "output_type": "display_data"
    }
   ],
   "source": [
    "plot_results(run_matrix_certain)"
   ]
  },
  {
   "cell_type": "markdown",
   "metadata": {},
   "source": [
    "## Certain set: (full wavelength array)"
   ]
  },
  {
   "cell_type": "code",
   "execution_count": 37,
   "metadata": {},
   "outputs": [
    {
     "data": {
      "image/png": "[encoded data removed]",
      "text/plain": [
       "<Figure size 432x288 with 1 Axes>"
      ]
     },
     "metadata": {
      "needs_background": "light"
     },
     "output_type": "display_data"
    }
   ],
   "source": [
    "plot_results(run_matrix_certain)"
   ]
  },
  {
   "cell_type": "code",
   "execution_count": 45,
   "metadata": {},
   "outputs": [],
   "source": [
    "x, y = run_matrix_certain.T\n",
    "z = np.polyfit(x, y, 4)\n",
    "p = np.poly1d(z)"
   ]
  },
  {
   "cell_type": "code",
   "execution_count": 47,
   "metadata": {},
   "outputs": [
    {
     "data": {
      "image/png": "[encoded data removed]",
      "text/plain": [
       "<Figure size 432x288 with 1 Axes>"
      ]
     },
     "metadata": {
      "needs_background": "light"
     },
     "output_type": "display_data"
    }
   ],
   "source": [
    "xp = np.linspace(x[0], x[-1], 100)\n",
    "_ = plt.plot(x, y, '.', xp, p(xp), '-', lw=2)"
   ]
  },
  {
   "cell_type": "markdown",
   "metadata": {},
   "source": [
    "# Remove group 6! only six!"
   ]
  },
  {
   "cell_type": "markdown",
   "metadata": {},
   "source": [
    "## Certain set: (full wavelength array)"
   ]
  },
  {
   "cell_type": "code",
   "execution_count": 31,
   "metadata": {},
   "outputs": [
    {
     "data": {
      "image/png": "[encoded data removed]",
      "text/plain": [
       "<Figure size 432x288 with 1 Axes>"
      ]
     },
     "metadata": {
      "needs_background": "light"
     },
     "output_type": "display_data"
    }
   ],
   "source": [
    "plot_results(run_matrix_certain)"
   ]
  },
  {
   "cell_type": "code",
   "execution_count": 32,
   "metadata": {},
   "outputs": [],
   "source": [
    "x, y = run_matrix_certain.T\n",
    "z = np.polyfit(x, y, 4)\n",
    "p = np.poly1d(z)"
   ]
  },
  {
   "cell_type": "code",
   "execution_count": 33,
   "metadata": {},
   "outputs": [
    {
     "data": {
      "image/png": "[encoded data removed]",
      "text/plain": [
       "<Figure size 432x288 with 1 Axes>"
      ]
     },
     "metadata": {
      "needs_background": "light"
     },
     "output_type": "display_data"
    }
   ],
   "source": [
    "xp = np.linspace(x[0], x[-1], 100)\n",
    "_ = plt.plot(x, y, '.', xp, p(xp), '-', lw=2)"
   ]
  },
  {
   "cell_type": "code",
   "execution_count": null,
   "metadata": {},
   "outputs": [],
   "source": []
  },
  {
   "cell_type": "markdown",
   "metadata": {},
   "source": [
    "***"
   ]
  },
  {
   "cell_type": "markdown",
   "metadata": {},
   "source": [
    "Based on the above, probably need to do more data preprocessing:\n",
    "- e.g., remove untrustworthy data"
   ]
  },
  {
   "cell_type": "markdown",
   "metadata": {},
   "source": [
    "# Run a single time, save to file."
   ]
  },
  {
   "cell_type": "code",
   "execution_count": 30,
   "metadata": {},
   "outputs": [
    {
     "name": "stdout",
     "output_type": "stream",
     "text": [
      "0.35 0.8576923076923076\n"
     ]
    }
   ],
   "source": [
    "# Input for NN:\n",
    "in_tuple = (features_certain, labels_certain, 0.35)\n",
    "\n",
    "# Run and retrieve model.\n",
    "test_size, accuracy, model = run_NN(in_tuple)\n",
    "print(test_size, accuracy)"
   ]
  },
  {
   "cell_type": "code",
   "execution_count": 34,
   "metadata": {},
   "outputs": [],
   "source": [
    "save_path = '../models/sws_model_01.h5'\n",
    "model.save(save_path)"
   ]
  },
  {
   "cell_type": "code",
   "execution_count": 38,
   "metadata": {},
   "outputs": [],
   "source": [
    "save_path_text = '../models/sws_model_01_features.txt'\n",
    "np.savetxt(save_path_text, features_certain.T)"
   ]
  },
  {
   "cell_type": "code",
   "execution_count": 35,
   "metadata": {},
   "outputs": [
    {
     "data": {
      "text/plain": [
       "(741, 359)"
      ]
     },
     "execution_count": 35,
     "metadata": {},
     "output_type": "execute_result"
    }
   ],
   "source": [
    "features_certain.shape"
   ]
  },
  {
   "cell_type": "code",
   "execution_count": 36,
   "metadata": {},
   "outputs": [
    {
     "data": {
      "text/plain": [
       "(741,)"
      ]
     },
     "execution_count": 36,
     "metadata": {},
     "output_type": "execute_result"
    }
   ],
   "source": [
    "labels_certain.shape"
   ]
  },
  {
   "cell_type": "code",
   "execution_count": 39,
   "metadata": {},
   "outputs": [
    {
     "data": {
      "text/plain": [
       "<tf.Tensor 'dense_input:0' shape=(?, 359) dtype=float32>"
      ]
     },
     "execution_count": 39,
     "metadata": {},
     "output_type": "execute_result"
    }
   ],
   "source": [
    "model.input"
   ]
  },
  {
   "cell_type": "code",
   "execution_count": null,
   "metadata": {},
   "outputs": [],
   "source": [
    "model. "
   ]
  }
 ],
 "metadata": {
  "kernelspec": {
   "display_name": "Python [conda env:tf]",
   "language": "python",
   "name": "conda-env-tf-py"
  },
  "language_info": {
   "codemirror_mode": {
    "name": "ipython",
    "version": 3
   },
   "file_extension": ".py",
   "mimetype": "text/x-python",
   "name": "python",
   "nbconvert_exporter": "python",
   "pygments_lexer": "ipython3",
   "version": "3.6.7"
  }
 },
 "nbformat": 4,
 "nbformat_minor": 2
}
