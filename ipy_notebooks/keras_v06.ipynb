{
 "cells": [
  {
   "cell_type": "markdown",
   "metadata": {},
   "source": [
    "# Examining the choice of training set size and the exclusion/inclusion of ISO group 7 (\"flawed\") spectra"
   ]
  },
  {
   "cell_type": "code",
   "execution_count": 36,
   "metadata": {},
   "outputs": [
    {
     "name": "stdout",
     "output_type": "stream",
     "text": [
      "1.10.0\n"
     ]
    }
   ],
   "source": [
    "# TensorFlow and tf.keras\n",
    "import tensorflow as tf\n",
    "from tensorflow import keras\n",
    "\n",
    "# Helper libraries\n",
    "import glob\n",
    "import matplotlib.pyplot as plt\n",
    "import numpy as np\n",
    "import pandas as pd\n",
    "from concurrent.futures import ProcessPoolExecutor\n",
    "from IPython.core.debugger import set_trace as st\n",
    "from sklearn.model_selection import train_test_split\n",
    "from time import time\n",
    "\n",
    "# My modules\n",
    "from swsnet import helpers\n",
    "\n",
    "print(tf.__version__)"
   ]
  },
  {
   "cell_type": "code",
   "execution_count": 37,
   "metadata": {},
   "outputs": [],
   "source": [
    "# def run_NN(features, labels, test_size):\n",
    "def run_NN(input_tuple):\n",
    "    \"\"\"Run a Keras NN for the purpose of examining the effect of training set size.\n",
    "    \n",
    "    Args:\n",
    "        features (ndarray): Array containing the spectra (fluxes).\n",
    "        labels (ndarray): Array containing the group labels for the spectra.\n",
    "        test_size (float): Fraction of test size relative to (test + training).\n",
    "        \n",
    "    Returns:\n",
    "        test_size (float): Input test_size, just a sanity check!\n",
    "        accuracy (float): Accuracy of this neural net when applied to the test set.\n",
    "    \"\"\"\n",
    "    \n",
    "    features, labels, test_size = input_tuple\n",
    "    \n",
    "    X_train, X_test, y_train, y_test = \\\n",
    "        train_test_split(features, labels, test_size=test_size, random_state = 42)\n",
    "    \n",
    "    # Sequential model, 7 classes of output.\n",
    "    model = keras.Sequential()\n",
    "    model.add(keras.layers.Dense(64, activation='relu', input_dim=359))\n",
    "    model.add(keras.layers.Dense(64, activation='relu'))\n",
    "    model.add(keras.layers.Dense(64, activation='relu'))\n",
    "    model.add(keras.layers.Dense(64, activation='relu'))\n",
    "    model.add(keras.layers.Dense(7, activation='softmax'))\n",
    "\n",
    "    # Early stopping condition.\n",
    "    callback = [tf.keras.callbacks.EarlyStopping(monitor='acc', patience=3, verbose=0)]\n",
    "\n",
    "    # Recompile model and fit.\n",
    "    model.compile(optimizer=tf.train.AdamOptimizer(0.0005),\n",
    "                  loss='sparse_categorical_crossentropy',\n",
    "                  metrics=['accuracy'])\n",
    "#     model.fit(X_train, y_train, epochs=50, batch_size=32, verbose=False)\n",
    "    model.fit(X_train, y_train, epochs=50, batch_size=32, callbacks=callback, verbose=False)\n",
    "\n",
    "#     # Summary\n",
    "#     model.summary()\n",
    "\n",
    "    # Check accuracy.\n",
    "    score = model.evaluate(X_test, y_test, verbose=0)\n",
    "    accuracy = score[1]\n",
    "#     print('Test loss:', score[0])\n",
    "#     print('Test accuracy:', score[1])\n",
    "\n",
    "    return test_size, accuracy"
   ]
  },
  {
   "cell_type": "markdown",
   "metadata": {},
   "source": [
    "## Dataset: ISO-SWS"
   ]
  },
  {
   "cell_type": "code",
   "execution_count": 38,
   "metadata": {},
   "outputs": [],
   "source": [
    "# Needed directories\n",
    "base_dir = '../data/isosws_atlas/'\n",
    "\n",
    "# Pickles containing our spectra in the form of pandas dataframes:\n",
    "spec_dir = base_dir + 'spectra/'\n",
    "spec_files = np.sort(glob.glob(spec_dir + '*.pkl'))\n",
    "\n",
    "# Metadata pickle (pd.dataframe). Note each entry contains a pointer to the corresponding spectrum pickle.\n",
    "metadata = base_dir + 'metadata.pkl'"
   ]
  },
  {
   "cell_type": "markdown",
   "metadata": {},
   "source": [
    "#### Labels ('group'):\n",
    "\n",
    "1. Naked stars\n",
    "2. Stars with dust\n",
    "3. Warm, dusty objects\n",
    "4. Cool, dusty objects\n",
    "5. Very red objects\n",
    "6. Continuum-free objects but having emission lines\n",
    "7. Flux-free and/or fatally flawed spectra"
   ]
  },
  {
   "cell_type": "markdown",
   "metadata": {},
   "source": [
    "N.B., these are shifted down by 1 in the labels (to span 0-6) for the model."
   ]
  },
  {
   "cell_type": "markdown",
   "metadata": {},
   "source": [
    "### Subset 1: all data included"
   ]
  },
  {
   "cell_type": "code",
   "execution_count": 39,
   "metadata": {},
   "outputs": [],
   "source": [
    "features, labels = helpers.load_data(base_dir=base_dir, metadata=metadata, clean=False, verbose=False)"
   ]
  },
  {
   "cell_type": "code",
   "execution_count": 40,
   "metadata": {},
   "outputs": [
    {
     "name": "stdout",
     "output_type": "stream",
     "text": [
      "(1235, 359)\n",
      "(1235,)\n"
     ]
    }
   ],
   "source": [
    "print(features.shape)\n",
    "print(labels.shape)"
   ]
  },
  {
   "cell_type": "markdown",
   "metadata": {},
   "source": [
    "### Subset 2: exclude group=7 data"
   ]
  },
  {
   "cell_type": "code",
   "execution_count": 41,
   "metadata": {},
   "outputs": [],
   "source": [
    "features_clean, labels_clean = helpers.load_data(base_dir=base_dir, metadata=metadata, clean=True, verbose=False)"
   ]
  },
  {
   "cell_type": "code",
   "execution_count": 42,
   "metadata": {},
   "outputs": [
    {
     "name": "stdout",
     "output_type": "stream",
     "text": [
      "(1058, 359)\n",
      "(1058,)\n"
     ]
    }
   ],
   "source": [
    "print(features_clean.shape)\n",
    "print(labels_clean.shape)"
   ]
  },
  {
   "cell_type": "markdown",
   "metadata": {},
   "source": [
    "# Model 1. Neural network"
   ]
  },
  {
   "cell_type": "code",
   "execution_count": 79,
   "metadata": {},
   "outputs": [
    {
     "name": "stdout",
     "output_type": "stream",
     "text": [
      "Size of test set considered:  [0.04 0.06 0.08 0.1  0.12 0.14 0.16 0.18 0.2  0.22 0.24 0.26 0.28 0.3\n",
      " 0.32 0.34 0.36 0.38 0.4  0.42 0.44 0.46 0.48 0.5  0.52 0.54 0.56 0.58\n",
      " 0.6 ]\n",
      "Number of iterations per test_size:  20\n",
      "Total number of NN iterations required:  580\n"
     ]
    }
   ],
   "source": [
    "# Values of test_size to probe.\n",
    "search_space = np.arange(0.04, 0.62, 0.02)\n",
    "print('Size of test set considered: ', search_space)\n",
    "\n",
    "# Number of iterations for each test_size value.\n",
    "n_iterations = 20\n",
    "\n",
    "# Create a vector to iterate over.\n",
    "rx = np.array([search_space] * n_iterations).T\n",
    "search_space_full = rx.flatten()\n",
    "\n",
    "print('Number of iterations per test_size: ', n_iterations)\n",
    "print('Total number of NN iterations required: ', n_iterations * len(search_space))"
   ]
  },
  {
   "cell_type": "code",
   "execution_count": 80,
   "metadata": {},
   "outputs": [],
   "source": [
    "# Wrap up tuple inputs for running in parallel.\n",
    "search_map = [(features, labels, x) for x in search_space_full]\n",
    "search_map_clean = [(features_clean, labels_clean, x) for x in search_space_full]"
   ]
  },
  {
   "cell_type": "markdown",
   "metadata": {},
   "source": [
    "### Training set size vs. accuracy (with group 7)"
   ]
  },
  {
   "cell_type": "code",
   "execution_count": 81,
   "metadata": {},
   "outputs": [
    {
     "name": "stdout",
     "output_type": "stream",
     "text": [
      "Took 268.404 seconds\n"
     ]
    }
   ],
   "source": [
    "# Run the networks in parallel.\n",
    "start = time()\n",
    "pool = ProcessPoolExecutor(max_workers=14)\n",
    "results = list(pool.map(run_NN, search_map))\n",
    "end = time()\n",
    "print('Took %.3f seconds' % (end - start))\n",
    "\n",
    "run_matrix = np.array(results)"
   ]
  },
  {
   "cell_type": "code",
   "execution_count": 82,
   "metadata": {},
   "outputs": [
    {
     "data": {
      "image/png": "[encoded data removed]",
      "text/plain": [
       "<Figure size 432x288 with 1 Axes>"
      ]
     },
     "metadata": {},
     "output_type": "display_data"
    }
   ],
   "source": [
    "# Examine results.\n",
    "plt.plot(run_matrix.T[0], run_matrix.T[1], 's', mfc='w', ms=5, mew=2, mec='r');\n",
    "plt.xlabel('Test size (fraction)');\n",
    "plt.ylabel('Test accuracy');\n",
    "plt.minorticks_on();\n",
    "plt.xlim(xmin=0);"
   ]
  },
  {
   "cell_type": "markdown",
   "metadata": {},
   "source": [
    "### Training set size vs. accuracy (without group 7)"
   ]
  },
  {
   "cell_type": "code",
   "execution_count": 83,
   "metadata": {},
   "outputs": [
    {
     "name": "stdout",
     "output_type": "stream",
     "text": [
      "Took 221.896 seconds\n"
     ]
    }
   ],
   "source": [
    "# Run the networks in parallel.\n",
    "start = time()\n",
    "pool = ProcessPoolExecutor(max_workers=16)\n",
    "results_clean = list(pool.map(run_NN, search_map_clean))\n",
    "end = time()\n",
    "print('Took %.3f seconds' % (end - start))\n",
    "\n",
    "run_matrix_clean = np.array(results_clean)"
   ]
  },
  {
   "cell_type": "code",
   "execution_count": 84,
   "metadata": {},
   "outputs": [
    {
     "data": {
      "image/png": "[encoded data removed]",
      "text/plain": [
       "<Figure size 432x288 with 1 Axes>"
      ]
     },
     "metadata": {},
     "output_type": "display_data"
    }
   ],
   "source": [
    "# Examine results.\n",
    "plt.plot(run_matrix_clean.T[0], run_matrix_clean.T[1], 's', mfc='w', ms=5, mew=2, mec='r');\n",
    "plt.xlabel('Test size (fraction) [cleaned]');\n",
    "plt.ylabel('Test accuracy [cleaned]');\n",
    "plt.minorticks_on();\n",
    "plt.xlim(xmin=0);"
   ]
  },
  {
   "cell_type": "code",
   "execution_count": null,
   "metadata": {},
   "outputs": [],
   "source": []
  }
 ],
 "metadata": {
  "kernelspec": {
   "display_name": "Python [conda env:tf]",
   "language": "python",
   "name": "conda-env-tf-py"
  },
  "language_info": {
   "codemirror_mode": {
    "name": "ipython",
    "version": 3
   },
   "file_extension": ".py",
   "mimetype": "text/x-python",
   "name": "python",
   "nbconvert_exporter": "python",
   "pygments_lexer": "ipython3",
   "version": "3.6.6"
  }
 },
 "nbformat": 4,
 "nbformat_minor": 2
}
