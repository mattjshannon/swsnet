{
 "cells": [
  {
   "cell_type": "markdown",
   "metadata": {},
   "source": [
    "# TF neural net with normalized ISO spectra"
   ]
  },
  {
   "cell_type": "code",
   "execution_count": 1,
   "metadata": {},
   "outputs": [
    {
     "name": "stdout",
     "output_type": "stream",
     "text": [
      "1.11.0\n"
     ]
    }
   ],
   "source": [
    "# TensorFlow and tf.keras\n",
    "import tensorflow as tf\n",
    "from tensorflow import keras\n",
    "\n",
    "# Helper libraries\n",
    "import glob\n",
    "import matplotlib.pyplot as plt\n",
    "import numpy as np\n",
    "import pandas as pd\n",
    "from concurrent.futures import ProcessPoolExecutor\n",
    "from IPython.core.debugger import set_trace as st\n",
    "from sklearn.model_selection import train_test_split\n",
    "from time import time\n",
    "\n",
    "# My modules\n",
    "from swsnet import helpers\n",
    "\n",
    "print(tf.__version__)"
   ]
  },
  {
   "cell_type": "markdown",
   "metadata": {},
   "source": [
    "## Dataset: ISO-SWS (normalized, culled)"
   ]
  },
  {
   "cell_type": "code",
   "execution_count": 2,
   "metadata": {},
   "outputs": [],
   "source": [
    "# Needed directories\n",
    "base_dir = '../data/isosws_atlas/'\n",
    "\n",
    "# Pickles containing our spectra in the form of pandas dataframes:\n",
    "spec_dir = base_dir + 'spectra_normalized/'\n",
    "spec_files = np.sort(glob.glob(spec_dir + '*.pkl'))\n",
    "\n",
    "# Metadata pickle (pd.dataframe). Note each entry contains a pointer to the corresponding spectrum pickle.\n",
    "metadata = base_dir + 'metadata_sorted_normalized_culled.pkl'"
   ]
  },
  {
   "cell_type": "markdown",
   "metadata": {},
   "source": [
    "#### Labels ('group'):\n",
    "\n",
    "1. Naked stars\n",
    "2. Stars with dust\n",
    "3. Warm, dusty objects\n",
    "4. Cool, dusty objects\n",
    "5. Very red objects\n",
    "6. Continuum-free objects but having emission lines\n",
    "7. Flux-free and/or fatally flawed spectra"
   ]
  },
  {
   "cell_type": "markdown",
   "metadata": {},
   "source": [
    "### Subset 1: all data included"
   ]
  },
  {
   "cell_type": "code",
   "execution_count": 3,
   "metadata": {},
   "outputs": [],
   "source": [
    "features, labels = helpers.load_data(base_dir=base_dir, metadata=metadata,\n",
    "                                     only_ok_data=False, clean=False, verbose=False)"
   ]
  },
  {
   "cell_type": "code",
   "execution_count": 4,
   "metadata": {},
   "outputs": [
    {
     "name": "stdout",
     "output_type": "stream",
     "text": [
      "(1235, 359)\n",
      "(1235,)\n"
     ]
    }
   ],
   "source": [
    "print(features.shape)\n",
    "print(labels.shape)"
   ]
  },
  {
   "cell_type": "markdown",
   "metadata": {},
   "source": [
    "### Subset 2: exclude group 7"
   ]
  },
  {
   "cell_type": "code",
   "execution_count": 5,
   "metadata": {},
   "outputs": [],
   "source": [
    "features_clean, labels_clean = \\\n",
    "    helpers.load_data(base_dir=base_dir, metadata=metadata,\n",
    "                      only_ok_data=False, clean=True, verbose=False)"
   ]
  },
  {
   "cell_type": "code",
   "execution_count": 6,
   "metadata": {},
   "outputs": [
    {
     "name": "stdout",
     "output_type": "stream",
     "text": [
      "(1058, 359)\n",
      "(1058,)\n"
     ]
    }
   ],
   "source": [
    "print(features_clean.shape)\n",
    "print(labels_clean.shape)"
   ]
  },
  {
   "cell_type": "markdown",
   "metadata": {},
   "source": [
    "### Subset 3: exclude group 7, uncertain data"
   ]
  },
  {
   "cell_type": "code",
   "execution_count": 7,
   "metadata": {},
   "outputs": [],
   "source": [
    "features_certain, labels_certain = \\\n",
    "    helpers.load_data(base_dir=base_dir, metadata=metadata,\n",
    "                      only_ok_data=True, clean=False, verbose=False)"
   ]
  },
  {
   "cell_type": "code",
   "execution_count": 9,
   "metadata": {},
   "outputs": [
    {
     "name": "stdout",
     "output_type": "stream",
     "text": [
      "(851, 359)\n",
      "(851,)\n"
     ]
    }
   ],
   "source": [
    "print(features_certain.shape)\n",
    "print(labels_certain.shape)"
   ]
  },
  {
   "cell_type": "markdown",
   "metadata": {},
   "source": [
    "# Testing l2norms"
   ]
  },
  {
   "cell_type": "code",
   "execution_count": 10,
   "metadata": {},
   "outputs": [],
   "source": [
    "def neural(features, labels, test_size=0.3, l2norm=0.01):\n",
    "\n",
    "    X_train, X_test, y_train, y_test = \\\n",
    "        train_test_split(features, labels, test_size=test_size, random_state = 42)\n",
    "\n",
    "    # Sequential model, 7 classes of output.\n",
    "    model = keras.Sequential()\n",
    "    model.add(keras.layers.Dense(64, activation='relu', kernel_regularizer=keras.regularizers.l2(l2norm), input_dim=359))\n",
    "    model.add(keras.layers.Dense(64, activation='relu', kernel_regularizer=keras.regularizers.l2(l2norm)))\n",
    "    model.add(keras.layers.Dense(64, activation='relu', kernel_regularizer=keras.regularizers.l2(l2norm)))\n",
    "    model.add(keras.layers.Dense(64, activation='relu', kernel_regularizer=keras.regularizers.l2(l2norm)))\n",
    "    model.add(keras.layers.Dense(7, activation='softmax'))\n",
    "\n",
    "    # Early stopping condition.\n",
    "    callback = [tf.keras.callbacks.EarlyStopping(monitor='acc', patience=5, verbose=0)]\n",
    "\n",
    "    # Recompile model and fit.\n",
    "    model.compile(optimizer=keras.optimizers.Adam(0.0005),\n",
    "                  loss='sparse_categorical_crossentropy',\n",
    "                  metrics=['accuracy'])\n",
    "    #     model.fit(X_train, y_train, epochs=50, batch_size=32, verbose=False)\n",
    "    model.fit(X_train, y_train, epochs=100, batch_size=32, callbacks=callback, verbose=False)\n",
    "\n",
    "    # Check accuracy.\n",
    "    score = model.evaluate(X_test, y_test, verbose=0)\n",
    "    accuracy = score[1]\n",
    "    print(\"L2 norm, accuracy: \", l2norm, accuracy)\n",
    "    \n",
    "    return model, test_size, accuracy"
   ]
  },
  {
   "cell_type": "code",
   "execution_count": 20,
   "metadata": {
    "scrolled": true
   },
   "outputs": [
    {
     "name": "stdout",
     "output_type": "stream",
     "text": [
      "L2 norm, accuracy:  0.1 0.4660194177650711\n",
      "L2 norm, accuracy:  0.01 0.7313915869178895\n",
      "L2 norm, accuracy:  0.001 0.7766990302835853\n",
      "L2 norm, accuracy:  0.0001 0.7637540466577104\n",
      "L2 norm, accuracy:  1e-05 0.7669902922266124\n"
     ]
    }
   ],
   "source": [
    "# for l2norm in (0.1, 0.01, 0.001, 0.0001, 0.00001):\n",
    "#     model, test_size, accuracy = neural(features, labels, l2norm=l2norm)"
   ]
  },
  {
   "cell_type": "code",
   "execution_count": 17,
   "metadata": {
    "scrolled": true
   },
   "outputs": [
    {
     "name": "stdout",
     "output_type": "stream",
     "text": [
      "L2 norm, accuracy:  0.1 0.48113207622144205\n",
      "L2 norm, accuracy:  0.01 0.7452830199925404\n",
      "L2 norm, accuracy:  0.001 0.7798742123369901\n",
      "L2 norm, accuracy:  0.0001 0.7955974831521136\n",
      "L2 norm, accuracy:  1e-05 0.8018867935774461\n"
     ]
    }
   ],
   "source": [
    "# for l2norm in (0.1, 0.01, 0.001, 0.0001, 0.00001):\n",
    "#     model, test_size, accuracy = neural(features_clean, labels_clean, l2norm=l2norm)"
   ]
  },
  {
   "cell_type": "code",
   "execution_count": 23,
   "metadata": {
    "scrolled": true
   },
   "outputs": [
    {
     "name": "stdout",
     "output_type": "stream",
     "text": [
      "L2 norm, accuracy:  0.1 0.5859375\n",
      "L2 norm, accuracy:  0.01 0.828125\n",
      "L2 norm, accuracy:  0.001 0.8671875\n",
      "L2 norm, accuracy:  0.0001 0.89453125\n",
      "L2 norm, accuracy:  1e-05 0.87890625\n"
     ]
    }
   ],
   "source": [
    "# for l2norm in (0.1, 0.01, 0.001, 0.0001, 0.00001):\n",
    "#     model, test_size, accuracy = neural(features_certain, labels_certain, l2norm=l2norm)"
   ]
  },
  {
   "cell_type": "code",
   "execution_count": 24,
   "metadata": {
    "scrolled": true
   },
   "outputs": [
    {
     "name": "stdout",
     "output_type": "stream",
     "text": [
      "L2 norm, accuracy:  0.001 0.88671875\n",
      "L2 norm, accuracy:  0.0001 0.859375\n",
      "L2 norm, accuracy:  1e-05 0.86328125\n",
      "L2 norm, accuracy:  1e-06 0.859375\n"
     ]
    }
   ],
   "source": [
    "# for l2norm in (0.001, 0.0001, 0.00001, 0.000001):\n",
    "#     model, test_size, accuracy = neural(features_certain, labels_certain, l2norm=l2norm)"
   ]
  },
  {
   "cell_type": "markdown",
   "metadata": {},
   "source": [
    "***"
   ]
  },
  {
   "cell_type": "markdown",
   "metadata": {},
   "source": [
    "# Testing training size vs. accuracy"
   ]
  },
  {
   "cell_type": "markdown",
   "metadata": {},
   "source": [
    "Model:"
   ]
  },
  {
   "cell_type": "code",
   "execution_count": 31,
   "metadata": {},
   "outputs": [],
   "source": [
    "def run_NN(input_tuple):\n",
    "    \"\"\"Run a Keras NN for the purpose of examining the effect of training set size.\n",
    "    \n",
    "    Args:\n",
    "        features (ndarray): Array containing the spectra (fluxes).\n",
    "        labels (ndarray): Array containing the group labels for the spectra.\n",
    "        test_size (float): Fraction of test size relative to (test + training).\n",
    "        \n",
    "    Returns:\n",
    "        test_size (float): Input test_size, just a sanity check!\n",
    "        accuracy (float): Accuracy of this neural net when applied to the test set.\n",
    "    \"\"\"\n",
    "    \n",
    "    features, labels, test_size = input_tuple\n",
    "    l2norm = 0.001\n",
    "    \n",
    "    X_train, X_test, y_train, y_test = \\\n",
    "        train_test_split(features, labels, test_size=test_size, random_state = 42)\n",
    "    \n",
    "    # Sequential model, 7 classes of output.\n",
    "    model = keras.Sequential()\n",
    "    model.add(keras.layers.Dense(64, activation='relu', kernel_regularizer=keras.regularizers.l2(l2norm), input_dim=359))\n",
    "    model.add(keras.layers.Dense(64, activation='relu', kernel_regularizer=keras.regularizers.l2(l2norm)))\n",
    "    model.add(keras.layers.Dense(64, activation='relu', kernel_regularizer=keras.regularizers.l2(l2norm)))\n",
    "    model.add(keras.layers.Dense(64, activation='relu', kernel_regularizer=keras.regularizers.l2(l2norm)))\n",
    "    model.add(keras.layers.Dense(7, activation='softmax'))\n",
    "\n",
    "    # Early stopping condition.\n",
    "    callback = [tf.keras.callbacks.EarlyStopping(monitor='acc', patience=5, verbose=0)]\n",
    "\n",
    "    # Recompile model and fit.\n",
    "    model.compile(optimizer=keras.optimizers.Adam(0.0005),\n",
    "                  loss='sparse_categorical_crossentropy',\n",
    "                  metrics=['accuracy'])\n",
    "    #     model.fit(X_train, y_train, epochs=50, batch_size=32, verbose=False)\n",
    "    model.fit(X_train, y_train, epochs=100, batch_size=32, callbacks=callback, verbose=False)\n",
    "\n",
    "    # Check accuracy.\n",
    "    score = model.evaluate(X_test, y_test, verbose=0)\n",
    "    accuracy = score[1]\n",
    "#     print(\"Test size, accuracy: \", test_size, accuracy)\n",
    "\n",
    "    return test_size, accuracy"
   ]
  },
  {
   "cell_type": "code",
   "execution_count": 36,
   "metadata": {},
   "outputs": [],
   "source": [
    "def run_networks(search_map):\n",
    "    # Run the networks in parallel.\n",
    "    start = time()\n",
    "    pool = ProcessPoolExecutor(max_workers=3)\n",
    "    results = list(pool.map(run_NN, search_map))\n",
    "    end = time()\n",
    "    print('Took %.3f seconds' % (end - start))\n",
    "\n",
    "    run_matrix = np.array(results)\n",
    "    return run_matrix\n",
    "\n",
    "def plot_results(run_matrix):\n",
    "    # Examine results.\n",
    "    plt.plot(run_matrix.T[0], run_matrix.T[1], 's', mfc='w', ms=5, mew=2, mec='r');\n",
    "    plt.xlabel('Test size (fraction)');\n",
    "    plt.ylabel('Test accuracy');\n",
    "    plt.minorticks_on();\n",
    "#     plt.xlim(left=0);  \n",
    "    return"
   ]
  },
  {
   "cell_type": "markdown",
   "metadata": {},
   "source": [
    "Search space (training size):"
   ]
  },
  {
   "cell_type": "code",
   "execution_count": 41,
   "metadata": {},
   "outputs": [
    {
     "name": "stdout",
     "output_type": "stream",
     "text": [
      "Size of test set considered:  [0.2  0.22 0.24 0.26 0.28 0.3  0.32 0.34 0.36 0.38]\n",
      "Number of iterations per test_size:  2\n",
      "Total number of NN iterations required:  20\n"
     ]
    }
   ],
   "source": [
    "# Values of test_size to probe.\n",
    "search_space = np.arange(0.20, 0.50, 0.02)\n",
    "print('Size of test set considered: ', search_space)\n",
    "\n",
    "# Number of iterations for each test_size value.\n",
    "n_iterations = 2\n",
    "\n",
    "# Create a vector to iterate over.\n",
    "rx = np.array([search_space] * n_iterations).T\n",
    "search_space_full = rx.flatten()\n",
    "\n",
    "print('Number of iterations per test_size: ', n_iterations)\n",
    "print('Total number of NN iterations required: ', n_iterations * len(search_space))"
   ]
  },
  {
   "cell_type": "code",
   "execution_count": 42,
   "metadata": {},
   "outputs": [],
   "source": [
    "# Wrap up tuple inputs for running in parallel.\n",
    "search_map = [(features, labels, x) for x in search_space_full]\n",
    "search_map_clean = [(features_clean, labels_clean, x) for x in search_space_full]\n",
    "search_map_certain = [(features_certain, labels_certain, x) for x in search_space_full]"
   ]
  },
  {
   "cell_type": "markdown",
   "metadata": {},
   "source": [
    "## Full set:"
   ]
  },
  {
   "cell_type": "code",
   "execution_count": 43,
   "metadata": {},
   "outputs": [
    {
     "name": "stdout",
     "output_type": "stream",
     "text": [
      "Took 46.551 seconds\n"
     ]
    },
    {
     "data": {
      "image/png": "[encoded data removed]",
      "text/plain": [
       "<Figure size 432x288 with 1 Axes>"
      ]
     },
     "metadata": {
      "needs_background": "light"
     },
     "output_type": "display_data"
    }
   ],
   "source": [
    "run_matrix = run_networks(search_map)\n",
    "plot_results(run_matrix)"
   ]
  },
  {
   "cell_type": "markdown",
   "metadata": {},
   "source": [
    "## Clean set:"
   ]
  },
  {
   "cell_type": "code",
   "execution_count": 39,
   "metadata": {},
   "outputs": [
    {
     "name": "stdout",
     "output_type": "stream",
     "text": [
      "Took 20.626 seconds\n"
     ]
    },
    {
     "data": {
      "image/png": "[encoded data removed]",
      "text/plain": [
       "<Figure size 432x288 with 1 Axes>"
      ]
     },
     "metadata": {
      "needs_background": "light"
     },
     "output_type": "display_data"
    }
   ],
   "source": [
    "run_matrix_clean = run_networks(search_map_clean)\n",
    "plot_results(run_matrix_clean)"
   ]
  },
  {
   "cell_type": "markdown",
   "metadata": {},
   "source": [
    "## Certain set:"
   ]
  },
  {
   "cell_type": "code",
   "execution_count": 40,
   "metadata": {},
   "outputs": [
    {
     "name": "stdout",
     "output_type": "stream",
     "text": [
      "Took 17.326 seconds\n"
     ]
    },
    {
     "data": {
      "image/png": "[encoded data removed]",
      "text/plain": [
       "<Figure size 432x288 with 1 Axes>"
      ]
     },
     "metadata": {
      "needs_background": "light"
     },
     "output_type": "display_data"
    }
   ],
   "source": [
    "run_matrix_certain = run_networks(search_map_certain)\n",
    "plot_results(run_matrix_certain)"
   ]
  },
  {
   "cell_type": "markdown",
   "metadata": {},
   "source": [
    "***"
   ]
  },
  {
   "cell_type": "markdown",
   "metadata": {},
   "source": [
    "Based on the above, probably need to do more data preprocessing:\n",
    "- e.g., remove untrustworthy data"
   ]
  },
  {
   "cell_type": "code",
   "execution_count": 21,
   "metadata": {},
   "outputs": [],
   "source": [
    "save_path = '../models/neural_net.h5'"
   ]
  },
  {
   "cell_type": "code",
   "execution_count": 22,
   "metadata": {},
   "outputs": [],
   "source": [
    "# model.save(save_path)"
   ]
  },
  {
   "cell_type": "code",
   "execution_count": null,
   "metadata": {},
   "outputs": [],
   "source": []
  }
 ],
 "metadata": {
  "kernelspec": {
   "display_name": "Python [conda env:tf]",
   "language": "python",
   "name": "conda-env-tf-py"
  },
  "language_info": {
   "codemirror_mode": {
    "name": "ipython",
    "version": 3
   },
   "file_extension": ".py",
   "mimetype": "text/x-python",
   "name": "python",
   "nbconvert_exporter": "python",
   "pygments_lexer": "ipython3",
   "version": "3.6.6"
  }
 },
 "nbformat": 4,
 "nbformat_minor": 2
}
