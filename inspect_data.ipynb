{
 "cells": [
  {
   "cell_type": "markdown",
   "metadata": {},
   "source": [
    "# Examining the SWS catalog of data"
   ]
  },
  {
   "cell_type": "code",
   "execution_count": 1,
   "metadata": {},
   "outputs": [],
   "source": [
    "import glob\n",
    "import numpy as np\n",
    "\n",
    "from swsnet import helpers  # Needs astropy fot FITS operations."
   ]
  },
  {
   "cell_type": "markdown",
   "metadata": {},
   "source": [
    "## Data location"
   ]
  },
  {
   "cell_type": "code",
   "execution_count": 2,
   "metadata": {},
   "outputs": [],
   "source": [
    "# Location of fits/csv files.\n",
    "fits_dir = 'data/fits/'\n",
    "fits_files = np.sort(glob.glob(fits_dir + '*.fit'))\n",
    "csv_dir = 'data/csv/'"
   ]
  },
  {
   "cell_type": "code",
   "execution_count": 3,
   "metadata": {},
   "outputs": [
    {
     "name": "stdout",
     "output_type": "stream",
     "text": [
      "0 data/fits/02400714_sws.fit\n",
      "1 data/fits/02400807_sws.fit\n"
     ]
    }
   ],
   "source": [
    "# FITS files.\n",
    "for index, value in enumerate(fits_files):\n",
    "    print(index, value)"
   ]
  },
  {
   "cell_type": "markdown",
   "metadata": {},
   "source": [
    "###### N.B., full dataset is 1262 .fit files, totaling 400MB."
   ]
  },
  {
   "cell_type": "markdown",
   "metadata": {},
   "source": [
    "## Data format: FITS"
   ]
  },
  {
   "cell_type": "markdown",
   "metadata": {},
   "source": [
    "Each fits file contains:\n",
    "    - wavelength array (\"x\")\n",
    "    - flux array (\"y\")\n",
    "    - spectroscopic error array (\"yerr\")\n",
    "    - normalization error array (alternate \"yerr\")\n",
    "    \n",
    "Accessible by `astropy.io.fits`, as used by `helpers`"
   ]
  },
  {
   "cell_type": "markdown",
   "metadata": {},
   "source": [
    "`helpers.fits_to_dataframe` can be used to extract the FITS columns as a pandas dataframe and a astropy `header` object (easily cast to string or maybe something else if needed; just contains information regarding the time of observation, instrument used, etc)."
   ]
  },
  {
   "cell_type": "code",
   "execution_count": 4,
   "metadata": {},
   "outputs": [],
   "source": [
    "dataframe, header = helpers.fits_to_dataframe(fits_files[0])"
   ]
  },
  {
   "cell_type": "code",
   "execution_count": 5,
   "metadata": {},
   "outputs": [
    {
     "data": {
      "text/html": [
       "<div>\n",
       "<style scoped>\n",
       "    .dataframe tbody tr th:only-of-type {\n",
       "        vertical-align: middle;\n",
       "    }\n",
       "\n",
       "    .dataframe tbody tr th {\n",
       "        vertical-align: top;\n",
       "    }\n",
       "\n",
       "    .dataframe thead th {\n",
       "        text-align: right;\n",
       "    }\n",
       "</style>\n",
       "<table border=\"1\" class=\"dataframe\">\n",
       "  <thead>\n",
       "    <tr style=\"text-align: right;\">\n",
       "      <th></th>\n",
       "      <th>wave</th>\n",
       "      <th>flux</th>\n",
       "      <th>spec_error</th>\n",
       "      <th>norm_error</th>\n",
       "    </tr>\n",
       "  </thead>\n",
       "  <tbody>\n",
       "    <tr>\n",
       "      <th>0</th>\n",
       "      <td>2.36000</td>\n",
       "      <td>-3.34</td>\n",
       "      <td>0.52</td>\n",
       "      <td>0.52</td>\n",
       "    </tr>\n",
       "    <tr>\n",
       "      <th>1</th>\n",
       "      <td>2.36013</td>\n",
       "      <td>-3.23</td>\n",
       "      <td>0.52</td>\n",
       "      <td>0.52</td>\n",
       "    </tr>\n",
       "    <tr>\n",
       "      <th>2</th>\n",
       "      <td>2.36025</td>\n",
       "      <td>-3.13</td>\n",
       "      <td>0.52</td>\n",
       "      <td>0.52</td>\n",
       "    </tr>\n",
       "    <tr>\n",
       "      <th>3</th>\n",
       "      <td>2.36038</td>\n",
       "      <td>-3.06</td>\n",
       "      <td>0.51</td>\n",
       "      <td>0.51</td>\n",
       "    </tr>\n",
       "    <tr>\n",
       "      <th>4</th>\n",
       "      <td>2.36050</td>\n",
       "      <td>-3.01</td>\n",
       "      <td>0.51</td>\n",
       "      <td>0.51</td>\n",
       "    </tr>\n",
       "  </tbody>\n",
       "</table>\n",
       "</div>"
      ],
      "text/plain": [
       "      wave  flux  spec_error  norm_error\n",
       "0  2.36000 -3.34        0.52        0.52\n",
       "1  2.36013 -3.23        0.52        0.52\n",
       "2  2.36025 -3.13        0.52        0.52\n",
       "3  2.36038 -3.06        0.51        0.51\n",
       "4  2.36050 -3.01        0.51        0.51"
      ]
     },
     "execution_count": 5,
     "metadata": {},
     "output_type": "execute_result"
    }
   ],
   "source": [
    "dataframe.head()"
   ]
  },
  {
   "cell_type": "code",
   "execution_count": 6,
   "metadata": {},
   "outputs": [
    {
     "data": {
      "text/plain": [
       "SIMPLE  =                    T / Written by IDL:  Wed Apr  9 10:12:29 2003      \n",
       "BITPIX  =                  -32 / Number of bits per data pixel                  \n",
       "NAXIS   =                    2 / Number of data axes                            \n",
       "NAXIS1  =                    4 /                                                \n",
       "NAXIS2  =                48924 /                                                \n",
       "NSEG    =                   12 / Number of spectral segments                    \n",
       "NSEG01  =                 1921 / Length of segment  1                           \n",
       "NSEG02  =                 2520 / Length of segment  2                           \n",
       "NSEG03  =                 3000 / Length of segment  3                           \n",
       "NSEG04  =                 2240 / Length of segment  4                           \n",
       "NSEG05  =                 4881 / Length of segment  5                           \n",
       "NSEG06  =                 3400 / Length of segment  6                           \n",
       "NSEG07  =                10800 / Length of segment  7                           \n",
       "NSEG08  =                 4920 / Length of segment  8                           \n",
       "NSEG09  =                 3601 / Length of segment  9                           \n",
       "NSEG10  =                 4680 / Length of segment 10                           \n",
       "NSEG11  =                    0 / Length of segment 11                           \n",
       "NSEG12  =                 6961 / Length of segment 12                           \n",
       "MSEG01  =                    1 / Data mode for segment  1                       \n",
       "MSEG02  =                    1 / Data mode for segment  2                       \n",
       "MSEG03  =                    1 / Data mode for segment  3                       \n",
       "MSEG04  =                    1 / Data mode for segment  4                       \n",
       "MSEG05  =                    1 / Data mode for segment  5                       \n",
       "MSEG06  =                    1 / Data mode for segment  6                       \n",
       "MSEG07  =                    1 / Data mode for segment  7                       \n",
       "MSEG08  =                    1 / Data mode for segment  8                       \n",
       "MSEG09  =                    1 / Data mode for segment  9                       \n",
       "MSEG10  =                    0 / Data mode for segment 10                       \n",
       "MSEG11  =                    1 / Data mode for segment 11                       \n",
       "MSEG12  =                    1 / Data mode for segment 12                       \n",
       "DATE    = '2003-04-09'         / Creation UTC (CCCC-MM-DD) date of FITS header  \n",
       "DATE_ISO= '2001-11-22'         / Creation date 2001/326 of ISO OLP data         \n",
       "TELESCOP= 'ISO     '           / Infrared Space Observatory                     \n",
       "INSTRUME= 'SWS     '           / Instrument used                                \n",
       "FILENAME= 'SWAA02400714'       / File name of OLP file                          \n",
       "FILEVERS= '2667    '           / Version ID (derived from creation date)        \n",
       "OLPVERS = 'OLP_101 '           / SOC OLP system version                         \n",
       "CALGVERS= 'CALG_71 '           / SOC OLP CAL-G files version                    \n",
       "OBJECT  = 'NGC6543 '           / Target ID as given by proposer                 \n",
       "OBSERVER= 'SWS_CAL '           / Proposer ID in ISO Mission DB                  \n",
       "EOHAPLID= 'SWSPV_4 '           / Proposal ID                                    \n",
       "EQUINOX =        2000.00000000 / Equinox                                        \n",
       "EOHAUTCS= '95345125636'        / Approx. UTC of start of observation            \n",
       "EOHAUTCE= '95345144540'        / Approx. UTC of end of observation              \n",
       "ATTRA   =        269.639170000 / Intended Right Ascension of instrument viewing \n",
       "ATTDEC  =        66.6331900000 / Intended DEClination (with ATTRA)              \n",
       "COMMENT Column 1 = wavelength (micron)                                          \n",
       "COMMENT Column 2 = flux (Jy)                                                    \n",
       "COMMENT Column 3 = spectroscopic error (Jy)                                     \n",
       "COMMENT Column 4 = normalization error (Jy)                                     \n",
       "COMMENT FITS (Flexible Image Transport System) format is defined in 'Astronomy  \n",
       "COMMENT and Astrophysics', volume 376, page 359; bibcode 2001A&A...376..359H    "
      ]
     },
     "execution_count": 6,
     "metadata": {},
     "output_type": "execute_result"
    }
   ],
   "source": [
    "header"
   ]
  },
  {
   "cell_type": "markdown",
   "metadata": {},
   "source": [
    "## Metadata (\"features\")"
   ]
  },
  {
   "cell_type": "markdown",
   "metadata": {},
   "source": [
    "There is some metadata for the spectra in `data/sws_metadata_kraemer_class.dat`. There's a paper reference I have to understand the features, but basically it has the coordinates for each star and the ``group`` and ``subgroup`` classifications--these latter two we care about."
   ]
  },
  {
   "cell_type": "code",
   "execution_count": 7,
   "metadata": {},
   "outputs": [
    {
     "name": "stdout",
     "output_type": "stream",
     "text": [
      "Title: Classification of 2.4-45.2 {mu}m Spectra from the ISO Short \n",
      "       Wavelength Spectrometer\n",
      "Authors: Kraemer K.E., Sloan G.C., Price S.D., Walker .H.J. \n",
      "Table: Source Classification\n",
      "================================================================================\n",
      "Byte-by-byte Description of file: datafile6.txt\n",
      "--------------------------------------------------------------------------------\n",
      "   Bytes Format Units    Label  Explanations\n",
      "--------------------------------------------------------------------------------\n",
      "   1- 29 A29    ---      Name   Source identification (1) \n",
      "  31- 38 I8     ---      TDT    The TDT number of the observation\n",
      "  40- 41 I2     h        RAh    Hour of Right Ascension (J2000) (2)\n",
      "  43- 44 I2     min      RAm    Minute of Right Ascension (J2000) (2)\n",
      "  46- 50 F5.2   s        RAs    Second of Right Ascension (J2000) (2)\n",
      "      52 A1     ---      DE-    Sign of the Declination (J2000) (2)\n",
      "  53- 54 I2     deg      DEd    Degree of Declination (J2000) (2)\n",
      "  56- 57 I2     arcmin   DEm    Arcminute of Declination (J2000) (2)\n",
      "  59- 62 F4.1   arcsec   DEs    Arcsecond of Declination (J2000) (2)\n",
      "  64- 70 A7     ---      Class  Group and Subgroup classifications\n",
      "  72- 85 A14    ---      Comm   Comments (3)\n",
      "      87 A1     ---    f_Comm   [abc] Flag on Comm (4)\n",
      "--------------------------------------------------------------------------------\n",
      "Note (1): See section A.1.\n",
      "Note (2): The coordinates are as given by the observer and represent the \n",
      "          nominal telescope pointing.  They can differ by up to several \n",
      "          arcseconds with respect to the nominal coordinates of a given object.\n",
      "Note (3): \n",
      "    F = quality flag such as pointing or telemetry problems; \n",
      "    G = extragalactic source; \n",
      "    W = wrong coordinates; o: probably an off, but odd in some way; \n",
      "    R, R: = possibly a recoverable group 7; \n",
      "    H = probably irrecoverable in group 7; \n",
      "    Offset = name includes offsets from nominal position indicated by (0,0); \n",
      "    Propn = Name from original observer. \n",
      "Note (4) \n",
      "    a = M 1: (0,0) position is 05:34:31.97 +22:00:52.1 (J2000; Han & Tian 1999);\n",
      "    b = M 17: (0,0) position is 18:20:24.83 -16:11:34.9 \n",
      "        (J2000, Johnson et al. 1998); \n",
      "    c = Cas A: (0,0) position is the Chandra point source \n",
      "        23:23:27.94 +58:48:42.4 (J2000; Tananbaum 1999). \n",
      "--------------------------------------------------------------------------------\n",
      "W Cet                         37802225 00 02 07.70 -14 40 35.9 2.SEa:                 \n",
      "SV And                        42801007 00 04 20.00 +40 06 37.2 2.SEa:                 \n",
      "SV And                        80800708 00 04 20.00 +40 06 37.2 2.SEa                  \n",
      "CIT 1                         78201008 00 06 52.30 +43 04 36.0 7       W              \n",
      "HR 10                         37802001 00 07 18.20 -17 23 13.2 1.NM:                  \n",
      "{beta} Cas                    28501420 00 09 10.47 +59 08 59.8 1.N                    \n",
      "V633 Cas                      43501514 00 11 26.60 +58 50 04.0 5.SE    W              \n",
      "NGC 40                        44401917 00 13 00.91 +72 31 20.0 4.PN                   \n",
      "NGC 40                        30003803 00 13 01.10 +72 31 19.1 4.PN                   \n",
      "HR 48                         55502138 00 14 38.40 -18 55 58.4 1.NO                   \n"
     ]
    }
   ],
   "source": [
    "with open(\"data/sws_metadata_kraemer_class.dat\") as f:\n",
    "    for index, line in enumerate(f):\n",
    "        print(line, end='', flush=True)\n",
    "        if index >= 50:\n",
    "            break\n",
    "    "
   ]
  },
  {
   "cell_type": "markdown",
   "metadata": {},
   "source": [
    "### Group classifier"
   ]
  },
  {
   "cell_type": "markdown",
   "metadata": {},
   "source": [
    "1. Naked stars\n",
    "2. Stars with dust\n",
    "3. Warm, dusty objects\n",
    "4. Cool, dusty objects\n",
    "5. Very red objects\n",
    "6. Continuum-free objects but having emission lines\n",
    "7. Flux-free and/or fatally flawed spectra\n",
    "\n",
    "(from Kraemer et al. 2002 ApJS 140)"
   ]
  },
  {
   "cell_type": "markdown",
   "metadata": {},
   "source": [
    "### Subgroup classifier"
   ]
  },
  {
   "cell_type": "markdown",
   "metadata": {},
   "source": [
    "(from Kraemer et al. 2002 ApJS 140)"
   ]
  },
  {
   "cell_type": "markdown",
   "metadata": {},
   "source": [
    "![title](docs/images/subgroup.png)"
   ]
  },
  {
   "cell_type": "markdown",
   "metadata": {},
   "source": [
    "![title](docs/images/subgroup_suffix.png)"
   ]
  },
  {
   "cell_type": "markdown",
   "metadata": {},
   "source": [
    "## Questions"
   ]
  },
  {
   "cell_type": "markdown",
   "metadata": {},
   "source": [
    "- what format for a keras/TF NN? in plain ascii, the 400MB of FITS files becomes maybe 2GB of CSVs. Is this an issue?\n",
    "- numpy ndarrays vs dataframes into keras/NN...?\n",
    "- where would you get started? :)"
   ]
  },
  {
   "cell_type": "code",
   "execution_count": null,
   "metadata": {},
   "outputs": [],
   "source": []
  }
 ],
 "metadata": {
  "kernelspec": {
   "display_name": "Python [conda env:py3]",
   "language": "python",
   "name": "conda-env-py3-py"
  },
  "language_info": {
   "codemirror_mode": {
    "name": "ipython",
    "version": 3
   },
   "file_extension": ".py",
   "mimetype": "text/x-python",
   "name": "python",
   "nbconvert_exporter": "python",
   "pygments_lexer": "ipython3",
   "version": "3.6.5"
  }
 },
 "nbformat": 4,
 "nbformat_minor": 2
}
