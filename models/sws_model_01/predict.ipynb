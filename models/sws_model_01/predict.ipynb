{
 "cells": [
  {
   "cell_type": "markdown",
   "metadata": {},
   "source": [
    "# Make predictions of stellar 'group' on CASSIS spectra"
   ]
  },
  {
   "cell_type": "markdown",
   "metadata": {},
   "source": [
    "Trained on SWS Atlas data."
   ]
  },
  {
   "cell_type": "code",
   "execution_count": 1,
   "metadata": {},
   "outputs": [],
   "source": [
    "import glob\n",
    "\n",
    "import pandas as pd\n",
    "import tensorflow as tf\n",
    "\n",
    "from tensorflow import keras\n",
    "from swsnet.dataframe_utils import read_spectrum"
   ]
  },
  {
   "cell_type": "code",
   "execution_count": 2,
   "metadata": {},
   "outputs": [],
   "source": [
    "def load_model(file_path):\n",
    "    \"\"\"Returns a keras model (compressed as .h5).\"\"\"\n",
    "    try:\n",
    "        model = keras.models.load_model(file_path)\n",
    "    except Exception as e:\n",
    "        raise e\n",
    "        \n",
    "    return model"
   ]
  },
  {
   "cell_type": "markdown",
   "metadata": {},
   "source": [
    "## Load keras model"
   ]
  },
  {
   "cell_type": "markdown",
   "metadata": {},
   "source": [
    "Stored as .h5 file."
   ]
  },
  {
   "cell_type": "code",
   "execution_count": 3,
   "metadata": {},
   "outputs": [
    {
     "name": "stdout",
     "output_type": "stream",
     "text": [
      "_________________________________________________________________\n",
      "Layer (type)                 Output Shape              Param #   \n",
      "=================================================================\n",
      "dense (Dense)                (None, 64)                23040     \n",
      "_________________________________________________________________\n",
      "dense_1 (Dense)              (None, 64)                4160      \n",
      "_________________________________________________________________\n",
      "dense_2 (Dense)              (None, 5)                 325       \n",
      "=================================================================\n",
      "Total params: 27,525\n",
      "Trainable params: 27,525\n",
      "Non-trainable params: 0\n",
      "_________________________________________________________________\n"
     ]
    }
   ],
   "source": [
    "model = load_model('sws_model_01.h5')\n",
    "model.summary()"
   ]
  },
  {
   "cell_type": "markdown",
   "metadata": {},
   "source": [
    "## Read in metadata (pd.DataFrame)"
   ]
  },
  {
   "cell_type": "code",
   "execution_count": 4,
   "metadata": {},
   "outputs": [],
   "source": [
    "data_dir = '../../data/cassis/'\n",
    "metadata_pickle = data_dir + 'metadata_step1_normalized.pkl'\n",
    "meta = pd.read_pickle(metadata_pickle)"
   ]
  },
  {
   "cell_type": "code",
   "execution_count": 5,
   "metadata": {},
   "outputs": [
    {
     "data": {
      "text/html": [
       "<div>\n",
       "<style scoped>\n",
       "    .dataframe tbody tr th:only-of-type {\n",
       "        vertical-align: middle;\n",
       "    }\n",
       "\n",
       "    .dataframe tbody tr th {\n",
       "        vertical-align: top;\n",
       "    }\n",
       "\n",
       "    .dataframe thead th {\n",
       "        text-align: right;\n",
       "    }\n",
       "</style>\n",
       "<table border=\"1\" class=\"dataframe\">\n",
       "  <thead>\n",
       "    <tr style=\"text-align: right;\">\n",
       "      <th></th>\n",
       "      <th>aorkey</th>\n",
       "      <th>object_name</th>\n",
       "      <th>ra</th>\n",
       "      <th>dec</th>\n",
       "      <th>flux_units</th>\n",
       "      <th>file_path</th>\n",
       "      <th>data_ok</th>\n",
       "    </tr>\n",
       "  </thead>\n",
       "  <tbody>\n",
       "    <tr>\n",
       "      <th>0</th>\n",
       "      <td>3539200</td>\n",
       "      <td>HBC 356</td>\n",
       "      <td>60.808893</td>\n",
       "      <td>25.880773</td>\n",
       "      <td>Jy</td>\n",
       "      <td>spectra_normalized/3539200_renorm.pkl</td>\n",
       "      <td>True</td>\n",
       "    </tr>\n",
       "    <tr>\n",
       "      <th>1</th>\n",
       "      <td>3539456</td>\n",
       "      <td>LkCa 1</td>\n",
       "      <td>63.309814</td>\n",
       "      <td>28.317139</td>\n",
       "      <td>Jy</td>\n",
       "      <td>spectra_normalized/3539456_renorm.pkl</td>\n",
       "      <td>True</td>\n",
       "    </tr>\n",
       "    <tr>\n",
       "      <th>2</th>\n",
       "      <td>3539712</td>\n",
       "      <td>04108+2803A</td>\n",
       "      <td>63.472431</td>\n",
       "      <td>28.187390</td>\n",
       "      <td>Jy</td>\n",
       "      <td>spectra_normalized/3539712_renorm.pkl</td>\n",
       "      <td>True</td>\n",
       "    </tr>\n",
       "    <tr>\n",
       "      <th>3</th>\n",
       "      <td>3539968</td>\n",
       "      <td>MHO-3</td>\n",
       "      <td>63.627656</td>\n",
       "      <td>28.084989</td>\n",
       "      <td>Jy</td>\n",
       "      <td>spectra_normalized/3539968_renorm.pkl</td>\n",
       "      <td>True</td>\n",
       "    </tr>\n",
       "    <tr>\n",
       "      <th>4</th>\n",
       "      <td>3540224</td>\n",
       "      <td>Hubble 4</td>\n",
       "      <td>64.696616</td>\n",
       "      <td>28.333013</td>\n",
       "      <td>Jy</td>\n",
       "      <td>spectra_normalized/3540224_renorm.pkl</td>\n",
       "      <td>True</td>\n",
       "    </tr>\n",
       "  </tbody>\n",
       "</table>\n",
       "</div>"
      ],
      "text/plain": [
       "    aorkey  object_name         ra        dec flux_units  \\\n",
       "0  3539200      HBC 356  60.808893  25.880773         Jy   \n",
       "1  3539456       LkCa 1  63.309814  28.317139         Jy   \n",
       "2  3539712  04108+2803A  63.472431  28.187390         Jy   \n",
       "3  3539968        MHO-3  63.627656  28.084989         Jy   \n",
       "4  3540224     Hubble 4  64.696616  28.333013         Jy   \n",
       "\n",
       "                               file_path  data_ok  \n",
       "0  spectra_normalized/3539200_renorm.pkl     True  \n",
       "1  spectra_normalized/3539456_renorm.pkl     True  \n",
       "2  spectra_normalized/3539712_renorm.pkl     True  \n",
       "3  spectra_normalized/3539968_renorm.pkl     True  \n",
       "4  spectra_normalized/3540224_renorm.pkl     True  "
      ]
     },
     "execution_count": 5,
     "metadata": {},
     "output_type": "execute_result"
    }
   ],
   "source": [
    "meta.head()"
   ]
  },
  {
   "cell_type": "markdown",
   "metadata": {},
   "source": [
    "# Perform predictions"
   ]
  },
  {
   "cell_type": "code",
   "execution_count": 40,
   "metadata": {},
   "outputs": [],
   "source": [
    "def predict_group(spectrum):\n",
    "    \"\"\"Return the probabilities (from model) that source belongs to each group.\"\"\"\n",
    "    f = spectrum['flux'].values\n",
    "    probabilities = model.predict(np.array([f]))\n",
    "    return probabilities"
   ]
  },
  {
   "cell_type": "markdown",
   "metadata": {},
   "source": []
  },
  {
   "cell_type": "code",
   "execution_count": 70,
   "metadata": {},
   "outputs": [
    {
     "name": "stdout",
     "output_type": "stream",
     "text": [
      "0\n",
      "200\n",
      "400\n",
      "600\n",
      "800\n",
      "1000\n",
      "1200\n",
      "1400\n",
      "1600\n",
      "1800\n",
      "2000\n",
      "2200\n",
      "2400\n",
      "2600\n",
      "2800\n",
      "3000\n",
      "3200\n",
      "3400\n",
      "3600\n",
      "3800\n",
      "4000\n",
      "4200\n",
      "4400\n",
      "4600\n",
      "4800\n",
      "5000\n",
      "5200\n",
      "5400\n",
      "5600\n",
      "5800\n",
      "6000\n",
      "6200\n",
      "6400\n",
      "6600\n",
      "Done.\n"
     ]
    }
   ],
   "source": [
    "results_list = []\n",
    "\n",
    "# Iterate over all spectra.\n",
    "for index, row in enumerate(meta.itertuples()):\n",
    "    if index % 200 == 0:\n",
    "        print(index)\n",
    "    \n",
    "    file_path = getattr(row, 'file_path')\n",
    "    aorkey = getattr(row, 'aorkey')\n",
    "\n",
    "    spectrum = read_spectrum(data_dir + file_path)\n",
    "    probabilities = predict_group(spectrum)\n",
    "    \n",
    "    wrap = [index, aorkey, file_path, *list(*probabilities)]\n",
    "    results_list.append(wrap)\n",
    "    \n",
    "print('Done.')"
   ]
  },
  {
   "cell_type": "code",
   "execution_count": 71,
   "metadata": {},
   "outputs": [
    {
     "data": {
      "text/plain": [
       "[0,\n",
       " 3539200,\n",
       " 'spectra_normalized/3539200_renorm.pkl',\n",
       " 0.071427196,\n",
       " 0.8612647,\n",
       " 0.059757993,\n",
       " 0.0058639063,\n",
       " 0.001686169]"
      ]
     },
     "execution_count": 71,
     "metadata": {},
     "output_type": "execute_result"
    }
   ],
   "source": [
    "results_list[0]"
   ]
  },
  {
   "cell_type": "code",
   "execution_count": 72,
   "metadata": {},
   "outputs": [],
   "source": [
    "np.savetxt('results.txt', np.array(results_list), delimiter=',', fmt='%s',\n",
    "           header='index, aorkey, file_path, PROBABILITIES (groups 0 - 4) shifted by one downwards.')"
   ]
  },
  {
   "cell_type": "code",
   "execution_count": null,
   "metadata": {},
   "outputs": [],
   "source": []
  },
  {
   "cell_type": "code",
   "execution_count": null,
   "metadata": {},
   "outputs": [],
   "source": []
  },
  {
   "cell_type": "code",
   "execution_count": null,
   "metadata": {},
   "outputs": [],
   "source": []
  },
  {
   "cell_type": "code",
   "execution_count": null,
   "metadata": {},
   "outputs": [],
   "source": []
  }
 ],
 "metadata": {
  "kernelspec": {
   "display_name": "Python [conda env:tf]",
   "language": "python",
   "name": "conda-env-tf-py"
  },
  "language_info": {
   "codemirror_mode": {
    "name": "ipython",
    "version": 3
   },
   "file_extension": ".py",
   "mimetype": "text/x-python",
   "name": "python",
   "nbconvert_exporter": "python",
   "pygments_lexer": "ipython3",
   "version": "3.6.7"
  }
 },
 "nbformat": 4,
 "nbformat_minor": 2
}
